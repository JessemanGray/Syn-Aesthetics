{
  "nbformat": 4,
  "nbformat_minor": 0,
  "metadata": {
    "colab": {
      "provenance": [],
      "gpuType": "T4",
      "authorship_tag": "ABX9TyPKr70HI7w86Wfi98Emh3Q2",
      "include_colab_link": true
    },
    "kernelspec": {
      "name": "python3",
      "display_name": "Python 3"
    },
    "language_info": {
      "name": "python"
    },
    "accelerator": "GPU"
  },
  "cells": [
    {
      "cell_type": "markdown",
      "metadata": {
        "id": "view-in-github",
        "colab_type": "text"
      },
      "source": [
        "<a href=\"https://colab.research.google.com/github/JessemanGray/Syn-Aesthetics/blob/main/Speech.ipynb\" target=\"_parent\"><img src=\"https://colab.research.google.com/assets/colab-badge.svg\" alt=\"Open In Colab\"/></a>"
      ]
    },
    {
      "cell_type": "code",
      "source": [
        "# Import packages\n",
        "\n",
        "import os\n",
        "import seaborn as sns\n",
        "import pandas as pd\n",
        "import numpy as np\n",
        "import matplotlib.pyplot as plt\n",
        "\n",
        "from sklearn.feature_extraction.text import TfidfVectorizer\n",
        "from sklearn.linear_model import LogisticRegression\n",
        "from sklearn.metrics import accuracy_score, classification_report\n",
        "from sklearn.model_selection import train_test_split\n",
        "\n"
      ],
      "metadata": {
        "id": "h8sF3C9lpcuO"
      },
      "execution_count": null,
      "outputs": []
    },
    {
      "cell_type": "code",
      "source": [
        "# Turn file path into DataFrame, show first five rows\n",
        "url = \"https://raw.githubusercontent.com/JessemanGray/Syn-Aesthetics/main/ChillsDB%201.0.1%20-%20Speech%20Stimuli%20(2).csv\"\n",
        "df = pd.read_csv(url)\n",
        "df.head()"
      ],
      "metadata": {
        "colab": {
          "base_uri": "https://localhost:8080/",
          "height": 273
        },
        "id": "a86Rn7eur_iR",
        "outputId": "0e6cbf67-cd1e-40ad-dcd4-cbecfa639320"
      },
      "execution_count": null,
      "outputs": [
        {
          "output_type": "execute_result",
          "data": {
            "text/plain": [
              "      Video ID  Age  Gender Ethnicity  chills Binary  chills Binary.1  \\\n",
              "0  Bg_Q7KYWG1g   26  female     White              1             True   \n",
              "1  g-jwWYX7Jlo   51  female     White              1             True   \n",
              "2  g-jwWYX7Jlo   20  female     White              1             True   \n",
              "3  Bg_Q7KYWG1g   51  female     White              1             True   \n",
              "4  g-jwWYX7Jlo   26  female     White              1             True   \n",
              "\n",
              "   Chills #  Chill Intensity  \\\n",
              "0         1                2   \n",
              "1         5                2   \n",
              "2         1                1   \n",
              "3         7                2   \n",
              "4         4                2   \n",
              "\n",
              "                                            Timings  Daily Chills  ...  \\\n",
              "0                                            441.44             2  ...   \n",
              "1                  55.32,95.56,178.68,331.87,363.07             2  ...   \n",
              "2                                            359.27             1  ...   \n",
              "3  119.52,129.28,137.55,160.58,355.46,447.40,482.97             2  ...   \n",
              "4                         46.40,63.04,243.75,328.55             3  ...   \n",
              "\n",
              "   Emotion drift      Direction  Unnamed: 27  Unnamed: 28  Tan inverse  \\\n",
              "0       1.118034  -0.5463024898          NaN          NaN    -0.463648   \n",
              "1       0.707107    1.557407725          NaN          NaN     0.785398   \n",
              "2       1.414214   -1.557407725          NaN          NaN    -0.785398   \n",
              "3       1.802776   -14.10141995          NaN          NaN    -0.982794   \n",
              "4       1.000000              0          NaN          NaN     0.000000   \n",
              "\n",
              "   Calm Diff  Pleasure Diff  Unnamed: 32  Tan inverse.1  Unnamed: 34  \n",
              "0        1.0           -0.5        FALSE      -0.463648         Down  \n",
              "1       -0.5           -0.5           Up       0.785398           Up  \n",
              "2        1.0           -1.0        FALSE      -0.785398         Down  \n",
              "3        1.0           -1.5        FALSE      -0.982794         Down  \n",
              "4        1.0            0.0        FALSE       0.000000         Down  \n",
              "\n",
              "[5 rows x 35 columns]"
            ],
            "text/html": [
              "\n",
              "  <div id=\"df-c9585621-f3ce-4045-b32d-26f02a47314d\" class=\"colab-df-container\">\n",
              "    <div>\n",
              "<style scoped>\n",
              "    .dataframe tbody tr th:only-of-type {\n",
              "        vertical-align: middle;\n",
              "    }\n",
              "\n",
              "    .dataframe tbody tr th {\n",
              "        vertical-align: top;\n",
              "    }\n",
              "\n",
              "    .dataframe thead th {\n",
              "        text-align: right;\n",
              "    }\n",
              "</style>\n",
              "<table border=\"1\" class=\"dataframe\">\n",
              "  <thead>\n",
              "    <tr style=\"text-align: right;\">\n",
              "      <th></th>\n",
              "      <th>Video ID</th>\n",
              "      <th>Age</th>\n",
              "      <th>Gender</th>\n",
              "      <th>Ethnicity</th>\n",
              "      <th>chills Binary</th>\n",
              "      <th>chills Binary.1</th>\n",
              "      <th>Chills #</th>\n",
              "      <th>Chill Intensity</th>\n",
              "      <th>Timings</th>\n",
              "      <th>Daily Chills</th>\n",
              "      <th>...</th>\n",
              "      <th>Emotion drift</th>\n",
              "      <th>Direction</th>\n",
              "      <th>Unnamed: 27</th>\n",
              "      <th>Unnamed: 28</th>\n",
              "      <th>Tan inverse</th>\n",
              "      <th>Calm Diff</th>\n",
              "      <th>Pleasure Diff</th>\n",
              "      <th>Unnamed: 32</th>\n",
              "      <th>Tan inverse.1</th>\n",
              "      <th>Unnamed: 34</th>\n",
              "    </tr>\n",
              "  </thead>\n",
              "  <tbody>\n",
              "    <tr>\n",
              "      <th>0</th>\n",
              "      <td>Bg_Q7KYWG1g</td>\n",
              "      <td>26</td>\n",
              "      <td>female</td>\n",
              "      <td>White</td>\n",
              "      <td>1</td>\n",
              "      <td>True</td>\n",
              "      <td>1</td>\n",
              "      <td>2</td>\n",
              "      <td>441.44</td>\n",
              "      <td>2</td>\n",
              "      <td>...</td>\n",
              "      <td>1.118034</td>\n",
              "      <td>-0.5463024898</td>\n",
              "      <td>NaN</td>\n",
              "      <td>NaN</td>\n",
              "      <td>-0.463648</td>\n",
              "      <td>1.0</td>\n",
              "      <td>-0.5</td>\n",
              "      <td>FALSE</td>\n",
              "      <td>-0.463648</td>\n",
              "      <td>Down</td>\n",
              "    </tr>\n",
              "    <tr>\n",
              "      <th>1</th>\n",
              "      <td>g-jwWYX7Jlo</td>\n",
              "      <td>51</td>\n",
              "      <td>female</td>\n",
              "      <td>White</td>\n",
              "      <td>1</td>\n",
              "      <td>True</td>\n",
              "      <td>5</td>\n",
              "      <td>2</td>\n",
              "      <td>55.32,95.56,178.68,331.87,363.07</td>\n",
              "      <td>2</td>\n",
              "      <td>...</td>\n",
              "      <td>0.707107</td>\n",
              "      <td>1.557407725</td>\n",
              "      <td>NaN</td>\n",
              "      <td>NaN</td>\n",
              "      <td>0.785398</td>\n",
              "      <td>-0.5</td>\n",
              "      <td>-0.5</td>\n",
              "      <td>Up</td>\n",
              "      <td>0.785398</td>\n",
              "      <td>Up</td>\n",
              "    </tr>\n",
              "    <tr>\n",
              "      <th>2</th>\n",
              "      <td>g-jwWYX7Jlo</td>\n",
              "      <td>20</td>\n",
              "      <td>female</td>\n",
              "      <td>White</td>\n",
              "      <td>1</td>\n",
              "      <td>True</td>\n",
              "      <td>1</td>\n",
              "      <td>1</td>\n",
              "      <td>359.27</td>\n",
              "      <td>1</td>\n",
              "      <td>...</td>\n",
              "      <td>1.414214</td>\n",
              "      <td>-1.557407725</td>\n",
              "      <td>NaN</td>\n",
              "      <td>NaN</td>\n",
              "      <td>-0.785398</td>\n",
              "      <td>1.0</td>\n",
              "      <td>-1.0</td>\n",
              "      <td>FALSE</td>\n",
              "      <td>-0.785398</td>\n",
              "      <td>Down</td>\n",
              "    </tr>\n",
              "    <tr>\n",
              "      <th>3</th>\n",
              "      <td>Bg_Q7KYWG1g</td>\n",
              "      <td>51</td>\n",
              "      <td>female</td>\n",
              "      <td>White</td>\n",
              "      <td>1</td>\n",
              "      <td>True</td>\n",
              "      <td>7</td>\n",
              "      <td>2</td>\n",
              "      <td>119.52,129.28,137.55,160.58,355.46,447.40,482.97</td>\n",
              "      <td>2</td>\n",
              "      <td>...</td>\n",
              "      <td>1.802776</td>\n",
              "      <td>-14.10141995</td>\n",
              "      <td>NaN</td>\n",
              "      <td>NaN</td>\n",
              "      <td>-0.982794</td>\n",
              "      <td>1.0</td>\n",
              "      <td>-1.5</td>\n",
              "      <td>FALSE</td>\n",
              "      <td>-0.982794</td>\n",
              "      <td>Down</td>\n",
              "    </tr>\n",
              "    <tr>\n",
              "      <th>4</th>\n",
              "      <td>g-jwWYX7Jlo</td>\n",
              "      <td>26</td>\n",
              "      <td>female</td>\n",
              "      <td>White</td>\n",
              "      <td>1</td>\n",
              "      <td>True</td>\n",
              "      <td>4</td>\n",
              "      <td>2</td>\n",
              "      <td>46.40,63.04,243.75,328.55</td>\n",
              "      <td>3</td>\n",
              "      <td>...</td>\n",
              "      <td>1.000000</td>\n",
              "      <td>0</td>\n",
              "      <td>NaN</td>\n",
              "      <td>NaN</td>\n",
              "      <td>0.000000</td>\n",
              "      <td>1.0</td>\n",
              "      <td>0.0</td>\n",
              "      <td>FALSE</td>\n",
              "      <td>0.000000</td>\n",
              "      <td>Down</td>\n",
              "    </tr>\n",
              "  </tbody>\n",
              "</table>\n",
              "<p>5 rows × 35 columns</p>\n",
              "</div>\n",
              "    <div class=\"colab-df-buttons\">\n",
              "\n",
              "  <div class=\"colab-df-container\">\n",
              "    <button class=\"colab-df-convert\" onclick=\"convertToInteractive('df-c9585621-f3ce-4045-b32d-26f02a47314d')\"\n",
              "            title=\"Convert this dataframe to an interactive table.\"\n",
              "            style=\"display:none;\">\n",
              "\n",
              "  <svg xmlns=\"http://www.w3.org/2000/svg\" height=\"24px\" viewBox=\"0 -960 960 960\">\n",
              "    <path d=\"M120-120v-720h720v720H120Zm60-500h600v-160H180v160Zm220 220h160v-160H400v160Zm0 220h160v-160H400v160ZM180-400h160v-160H180v160Zm440 0h160v-160H620v160ZM180-180h160v-160H180v160Zm440 0h160v-160H620v160Z\"/>\n",
              "  </svg>\n",
              "    </button>\n",
              "\n",
              "  <style>\n",
              "    .colab-df-container {\n",
              "      display:flex;\n",
              "      gap: 12px;\n",
              "    }\n",
              "\n",
              "    .colab-df-convert {\n",
              "      background-color: #E8F0FE;\n",
              "      border: none;\n",
              "      border-radius: 50%;\n",
              "      cursor: pointer;\n",
              "      display: none;\n",
              "      fill: #1967D2;\n",
              "      height: 32px;\n",
              "      padding: 0 0 0 0;\n",
              "      width: 32px;\n",
              "    }\n",
              "\n",
              "    .colab-df-convert:hover {\n",
              "      background-color: #E2EBFA;\n",
              "      box-shadow: 0px 1px 2px rgba(60, 64, 67, 0.3), 0px 1px 3px 1px rgba(60, 64, 67, 0.15);\n",
              "      fill: #174EA6;\n",
              "    }\n",
              "\n",
              "    .colab-df-buttons div {\n",
              "      margin-bottom: 4px;\n",
              "    }\n",
              "\n",
              "    [theme=dark] .colab-df-convert {\n",
              "      background-color: #3B4455;\n",
              "      fill: #D2E3FC;\n",
              "    }\n",
              "\n",
              "    [theme=dark] .colab-df-convert:hover {\n",
              "      background-color: #434B5C;\n",
              "      box-shadow: 0px 1px 3px 1px rgba(0, 0, 0, 0.15);\n",
              "      filter: drop-shadow(0px 1px 2px rgba(0, 0, 0, 0.3));\n",
              "      fill: #FFFFFF;\n",
              "    }\n",
              "  </style>\n",
              "\n",
              "    <script>\n",
              "      const buttonEl =\n",
              "        document.querySelector('#df-c9585621-f3ce-4045-b32d-26f02a47314d button.colab-df-convert');\n",
              "      buttonEl.style.display =\n",
              "        google.colab.kernel.accessAllowed ? 'block' : 'none';\n",
              "\n",
              "      async function convertToInteractive(key) {\n",
              "        const element = document.querySelector('#df-c9585621-f3ce-4045-b32d-26f02a47314d');\n",
              "        const dataTable =\n",
              "          await google.colab.kernel.invokeFunction('convertToInteractive',\n",
              "                                                    [key], {});\n",
              "        if (!dataTable) return;\n",
              "\n",
              "        const docLinkHtml = 'Like what you see? Visit the ' +\n",
              "          '<a target=\"_blank\" href=https://colab.research.google.com/notebooks/data_table.ipynb>data table notebook</a>'\n",
              "          + ' to learn more about interactive tables.';\n",
              "        element.innerHTML = '';\n",
              "        dataTable['output_type'] = 'display_data';\n",
              "        await google.colab.output.renderOutput(dataTable, element);\n",
              "        const docLink = document.createElement('div');\n",
              "        docLink.innerHTML = docLinkHtml;\n",
              "        element.appendChild(docLink);\n",
              "      }\n",
              "    </script>\n",
              "  </div>\n",
              "\n",
              "\n",
              "<div id=\"df-cb2a6803-4b44-4c49-94fe-359a59345bbf\">\n",
              "  <button class=\"colab-df-quickchart\" onclick=\"quickchart('df-cb2a6803-4b44-4c49-94fe-359a59345bbf')\"\n",
              "            title=\"Suggest charts\"\n",
              "            style=\"display:none;\">\n",
              "\n",
              "<svg xmlns=\"http://www.w3.org/2000/svg\" height=\"24px\"viewBox=\"0 0 24 24\"\n",
              "     width=\"24px\">\n",
              "    <g>\n",
              "        <path d=\"M19 3H5c-1.1 0-2 .9-2 2v14c0 1.1.9 2 2 2h14c1.1 0 2-.9 2-2V5c0-1.1-.9-2-2-2zM9 17H7v-7h2v7zm4 0h-2V7h2v10zm4 0h-2v-4h2v4z\"/>\n",
              "    </g>\n",
              "</svg>\n",
              "  </button>\n",
              "\n",
              "<style>\n",
              "  .colab-df-quickchart {\n",
              "      --bg-color: #E8F0FE;\n",
              "      --fill-color: #1967D2;\n",
              "      --hover-bg-color: #E2EBFA;\n",
              "      --hover-fill-color: #174EA6;\n",
              "      --disabled-fill-color: #AAA;\n",
              "      --disabled-bg-color: #DDD;\n",
              "  }\n",
              "\n",
              "  [theme=dark] .colab-df-quickchart {\n",
              "      --bg-color: #3B4455;\n",
              "      --fill-color: #D2E3FC;\n",
              "      --hover-bg-color: #434B5C;\n",
              "      --hover-fill-color: #FFFFFF;\n",
              "      --disabled-bg-color: #3B4455;\n",
              "      --disabled-fill-color: #666;\n",
              "  }\n",
              "\n",
              "  .colab-df-quickchart {\n",
              "    background-color: var(--bg-color);\n",
              "    border: none;\n",
              "    border-radius: 50%;\n",
              "    cursor: pointer;\n",
              "    display: none;\n",
              "    fill: var(--fill-color);\n",
              "    height: 32px;\n",
              "    padding: 0;\n",
              "    width: 32px;\n",
              "  }\n",
              "\n",
              "  .colab-df-quickchart:hover {\n",
              "    background-color: var(--hover-bg-color);\n",
              "    box-shadow: 0 1px 2px rgba(60, 64, 67, 0.3), 0 1px 3px 1px rgba(60, 64, 67, 0.15);\n",
              "    fill: var(--button-hover-fill-color);\n",
              "  }\n",
              "\n",
              "  .colab-df-quickchart-complete:disabled,\n",
              "  .colab-df-quickchart-complete:disabled:hover {\n",
              "    background-color: var(--disabled-bg-color);\n",
              "    fill: var(--disabled-fill-color);\n",
              "    box-shadow: none;\n",
              "  }\n",
              "\n",
              "  .colab-df-spinner {\n",
              "    border: 2px solid var(--fill-color);\n",
              "    border-color: transparent;\n",
              "    border-bottom-color: var(--fill-color);\n",
              "    animation:\n",
              "      spin 1s steps(1) infinite;\n",
              "  }\n",
              "\n",
              "  @keyframes spin {\n",
              "    0% {\n",
              "      border-color: transparent;\n",
              "      border-bottom-color: var(--fill-color);\n",
              "      border-left-color: var(--fill-color);\n",
              "    }\n",
              "    20% {\n",
              "      border-color: transparent;\n",
              "      border-left-color: var(--fill-color);\n",
              "      border-top-color: var(--fill-color);\n",
              "    }\n",
              "    30% {\n",
              "      border-color: transparent;\n",
              "      border-left-color: var(--fill-color);\n",
              "      border-top-color: var(--fill-color);\n",
              "      border-right-color: var(--fill-color);\n",
              "    }\n",
              "    40% {\n",
              "      border-color: transparent;\n",
              "      border-right-color: var(--fill-color);\n",
              "      border-top-color: var(--fill-color);\n",
              "    }\n",
              "    60% {\n",
              "      border-color: transparent;\n",
              "      border-right-color: var(--fill-color);\n",
              "    }\n",
              "    80% {\n",
              "      border-color: transparent;\n",
              "      border-right-color: var(--fill-color);\n",
              "      border-bottom-color: var(--fill-color);\n",
              "    }\n",
              "    90% {\n",
              "      border-color: transparent;\n",
              "      border-bottom-color: var(--fill-color);\n",
              "    }\n",
              "  }\n",
              "</style>\n",
              "\n",
              "  <script>\n",
              "    async function quickchart(key) {\n",
              "      const quickchartButtonEl =\n",
              "        document.querySelector('#' + key + ' button');\n",
              "      quickchartButtonEl.disabled = true;  // To prevent multiple clicks.\n",
              "      quickchartButtonEl.classList.add('colab-df-spinner');\n",
              "      try {\n",
              "        const charts = await google.colab.kernel.invokeFunction(\n",
              "            'suggestCharts', [key], {});\n",
              "      } catch (error) {\n",
              "        console.error('Error during call to suggestCharts:', error);\n",
              "      }\n",
              "      quickchartButtonEl.classList.remove('colab-df-spinner');\n",
              "      quickchartButtonEl.classList.add('colab-df-quickchart-complete');\n",
              "    }\n",
              "    (() => {\n",
              "      let quickchartButtonEl =\n",
              "        document.querySelector('#df-cb2a6803-4b44-4c49-94fe-359a59345bbf button');\n",
              "      quickchartButtonEl.style.display =\n",
              "        google.colab.kernel.accessAllowed ? 'block' : 'none';\n",
              "    })();\n",
              "  </script>\n",
              "</div>\n",
              "\n",
              "    </div>\n",
              "  </div>\n"
            ]
          },
          "metadata": {},
          "execution_count": 71
        }
      ]
    },
    {
      "cell_type": "code",
      "source": [
        "# Fill missing values with the mean of the column\n",
        "df = df.fillna(df.mean())"
      ],
      "metadata": {
        "colab": {
          "base_uri": "https://localhost:8080/"
        },
        "id": "3pvqQIZwtd4w",
        "outputId": "7a40c96a-e455-43a9-8977-badc73676c39"
      },
      "execution_count": null,
      "outputs": [
        {
          "output_type": "stream",
          "name": "stderr",
          "text": [
            "<ipython-input-72-15288beba849>:2: FutureWarning: The default value of numeric_only in DataFrame.mean is deprecated. In a future version, it will default to False. In addition, specifying 'numeric_only=None' is deprecated. Select only valid columns or specify the value of numeric_only to silence this warning.\n",
            "  df = df.fillna(df.mean())\n"
          ]
        }
      ]
    },
    {
      "cell_type": "code",
      "source": [
        "# Check for missing values in the entire DataFrame\n",
        "missing_values = df.isnull().sum()\n",
        "\n",
        "# Display columns with missing values\n",
        "columns_with_missing_values = missing_values[missing_values > 0]\n",
        "print(columns_with_missing_values)"
      ],
      "metadata": {
        "id": "0IPWk-kJIBdr",
        "colab": {
          "base_uri": "https://localhost:8080/"
        },
        "outputId": "9f10eddd-8ee1-414b-d07b-78caaf0c1955"
      },
      "execution_count": null,
      "outputs": [
        {
          "output_type": "stream",
          "name": "stdout",
          "text": [
            "Timings        24\n",
            "Unnamed: 27    80\n",
            "Unnamed: 28    80\n",
            "dtype: int64\n"
          ]
        }
      ]
    },
    {
      "cell_type": "code",
      "source": [
        "# Chenck types before dropping\n",
        "df['Timings'].dtypes"
      ],
      "metadata": {
        "colab": {
          "base_uri": "https://localhost:8080/"
        },
        "id": "5jt7AtCnAR6I",
        "outputId": "066d18a7-8eb5-4545-ead1-2d037efc27cc"
      },
      "execution_count": null,
      "outputs": [
        {
          "output_type": "execute_result",
          "data": {
            "text/plain": [
              "dtype('O')"
            ]
          },
          "metadata": {},
          "execution_count": 74
        }
      ]
    },
    {
      "cell_type": "code",
      "source": [
        "# Drop duplicate or unnecessary columns\n",
        "df = df.drop(columns=['chills Binary.1', 'Unnamed: 32', 'Unnamed: 34', 'Unnamed: 28', 'Unnamed: 27', 'Timings'])\n",
        "\n",
        "\n",
        "# Convert data types\n",
        "df['chills Binary'] = df['chills Binary'].astype(bool)\n",
        "\n",
        "# Check for correlation between 'Direction' and 'Tan inverse.1'\n",
        "print(df[['Direction', 'Tan inverse.1']].corr())"
      ],
      "metadata": {
        "colab": {
          "base_uri": "https://localhost:8080/"
        },
        "id": "FqydgFwYwApl",
        "outputId": "8cae5034-772b-451e-e9f4-6e9e349a489a"
      },
      "execution_count": null,
      "outputs": [
        {
          "output_type": "stream",
          "name": "stdout",
          "text": [
            "               Tan inverse.1\n",
            "Tan inverse.1            1.0\n"
          ]
        },
        {
          "output_type": "stream",
          "name": "stderr",
          "text": [
            "<ipython-input-75-e36ad79d19f0>:9: FutureWarning: The default value of numeric_only in DataFrame.corr is deprecated. In a future version, it will default to False. Select only valid columns or specify the value of numeric_only to silence this warning.\n",
            "  print(df[['Direction', 'Tan inverse.1']].corr())\n"
          ]
        }
      ]
    },
    {
      "cell_type": "code",
      "source": [
        "# Columns with zero variance\n",
        "zero_variance_columns = df.loc[:, df.nunique() == 1]\n",
        "print(zero_variance_columns)"
      ],
      "metadata": {
        "colab": {
          "base_uri": "https://localhost:8080/"
        },
        "id": "chWBKxTRujwh",
        "outputId": "1d335a0e-fb7b-4f42-d278-d0dae3e0ccb7"
      },
      "execution_count": null,
      "outputs": [
        {
          "output_type": "stream",
          "name": "stdout",
          "text": [
            "   Prior exposure\n",
            "0              No\n",
            "1              No\n",
            "2              No\n",
            "3              No\n",
            "4              No\n",
            "..            ...\n",
            "75             No\n",
            "76             No\n",
            "77             No\n",
            "78             No\n",
            "79             No\n",
            "\n",
            "[80 rows x 1 columns]\n"
          ]
        }
      ]
    },
    {
      "cell_type": "code",
      "source": [
        "def score(val):\n",
        "    if val >= 1:\n",
        "        return 3\n",
        "    elif val >= 0.5:\n",
        "        return 2\n",
        "    elif val >= 0:\n",
        "        return 1\n",
        "    else:\n",
        "        return 0\n",
        "\n",
        "def classify_chill(row):\n",
        "    emotion_score = score(row['Emotion drift'])\n",
        "    calm_score = score(row['Calm Diff'])\n",
        "    pleasure_score = score(row['Pleasure Diff'])\n",
        "\n",
        "    # Sum the scores and normalize to a 0-10 scale\n",
        "    total_score = emotion_score + calm_score + pleasure_score\n",
        "    chill_rating = (total_score / 9) * 10  # 9 is the maximum total_score\n",
        "\n",
        "    return str(round(chill_rating, 1))  # Round to 1 decimal place\n",
        "\n",
        "df['Chill Rating'] = df.apply(classify_chill, axis=1)"
      ],
      "metadata": {
        "id": "5ASvyKTtgqUt"
      },
      "execution_count": null,
      "outputs": []
    },
    {
      "cell_type": "code",
      "source": [
        "df.head()"
      ],
      "metadata": {
        "colab": {
          "base_uri": "https://localhost:8080/",
          "height": 273
        },
        "id": "0Gz8u4FBhCRp",
        "outputId": "a2c28b48-454e-481e-ff19-71f96cd7eede"
      },
      "execution_count": null,
      "outputs": [
        {
          "output_type": "execute_result",
          "data": {
            "text/plain": [
              "      Video ID  Age  Gender Ethnicity  chills Binary  Chills #  \\\n",
              "0  Bg_Q7KYWG1g   26  female     White           True         1   \n",
              "1  g-jwWYX7Jlo   51  female     White           True         5   \n",
              "2  g-jwWYX7Jlo   20  female     White           True         1   \n",
              "3  Bg_Q7KYWG1g   51  female     White           True         7   \n",
              "4  g-jwWYX7Jlo   26  female     White           True         4   \n",
              "\n",
              "   Chill Intensity  Daily Chills  NIO_Openess Prior exposure  ...  Post NEO  \\\n",
              "0                2             2            2             No  ...        15   \n",
              "1                2             2            3             No  ...         9   \n",
              "2                1             1            3             No  ...        10   \n",
              "3                2             2            2             No  ...         9   \n",
              "4                2             3            3             No  ...         8   \n",
              "\n",
              "   Diff NEO  Total NEO  Emotion drift      Direction  Tan inverse  Calm Diff  \\\n",
              "0         3         27       1.118034  -0.5463024898    -0.463648        1.0   \n",
              "1         3         15       0.707107    1.557407725     0.785398       -0.5   \n",
              "2         6         14       1.414214   -1.557407725    -0.785398        1.0   \n",
              "3         4         14       1.802776   -14.10141995    -0.982794        1.0   \n",
              "4         5         11       1.000000              0     0.000000        1.0   \n",
              "\n",
              "   Pleasure Diff  Tan inverse.1  Chill Rating  \n",
              "0           -0.5      -0.463648           6.7  \n",
              "1           -0.5       0.785398           2.2  \n",
              "2           -1.0      -0.785398           6.7  \n",
              "3           -1.5      -0.982794           6.7  \n",
              "4            0.0       0.000000           7.8  \n",
              "\n",
              "[5 rows x 30 columns]"
            ],
            "text/html": [
              "\n",
              "  <div id=\"df-9368cc42-13c5-42f4-bda9-cd92fe2e868e\" class=\"colab-df-container\">\n",
              "    <div>\n",
              "<style scoped>\n",
              "    .dataframe tbody tr th:only-of-type {\n",
              "        vertical-align: middle;\n",
              "    }\n",
              "\n",
              "    .dataframe tbody tr th {\n",
              "        vertical-align: top;\n",
              "    }\n",
              "\n",
              "    .dataframe thead th {\n",
              "        text-align: right;\n",
              "    }\n",
              "</style>\n",
              "<table border=\"1\" class=\"dataframe\">\n",
              "  <thead>\n",
              "    <tr style=\"text-align: right;\">\n",
              "      <th></th>\n",
              "      <th>Video ID</th>\n",
              "      <th>Age</th>\n",
              "      <th>Gender</th>\n",
              "      <th>Ethnicity</th>\n",
              "      <th>chills Binary</th>\n",
              "      <th>Chills #</th>\n",
              "      <th>Chill Intensity</th>\n",
              "      <th>Daily Chills</th>\n",
              "      <th>NIO_Openess</th>\n",
              "      <th>Prior exposure</th>\n",
              "      <th>...</th>\n",
              "      <th>Post NEO</th>\n",
              "      <th>Diff NEO</th>\n",
              "      <th>Total NEO</th>\n",
              "      <th>Emotion drift</th>\n",
              "      <th>Direction</th>\n",
              "      <th>Tan inverse</th>\n",
              "      <th>Calm Diff</th>\n",
              "      <th>Pleasure Diff</th>\n",
              "      <th>Tan inverse.1</th>\n",
              "      <th>Chill Rating</th>\n",
              "    </tr>\n",
              "  </thead>\n",
              "  <tbody>\n",
              "    <tr>\n",
              "      <th>0</th>\n",
              "      <td>Bg_Q7KYWG1g</td>\n",
              "      <td>26</td>\n",
              "      <td>female</td>\n",
              "      <td>White</td>\n",
              "      <td>True</td>\n",
              "      <td>1</td>\n",
              "      <td>2</td>\n",
              "      <td>2</td>\n",
              "      <td>2</td>\n",
              "      <td>No</td>\n",
              "      <td>...</td>\n",
              "      <td>15</td>\n",
              "      <td>3</td>\n",
              "      <td>27</td>\n",
              "      <td>1.118034</td>\n",
              "      <td>-0.5463024898</td>\n",
              "      <td>-0.463648</td>\n",
              "      <td>1.0</td>\n",
              "      <td>-0.5</td>\n",
              "      <td>-0.463648</td>\n",
              "      <td>6.7</td>\n",
              "    </tr>\n",
              "    <tr>\n",
              "      <th>1</th>\n",
              "      <td>g-jwWYX7Jlo</td>\n",
              "      <td>51</td>\n",
              "      <td>female</td>\n",
              "      <td>White</td>\n",
              "      <td>True</td>\n",
              "      <td>5</td>\n",
              "      <td>2</td>\n",
              "      <td>2</td>\n",
              "      <td>3</td>\n",
              "      <td>No</td>\n",
              "      <td>...</td>\n",
              "      <td>9</td>\n",
              "      <td>3</td>\n",
              "      <td>15</td>\n",
              "      <td>0.707107</td>\n",
              "      <td>1.557407725</td>\n",
              "      <td>0.785398</td>\n",
              "      <td>-0.5</td>\n",
              "      <td>-0.5</td>\n",
              "      <td>0.785398</td>\n",
              "      <td>2.2</td>\n",
              "    </tr>\n",
              "    <tr>\n",
              "      <th>2</th>\n",
              "      <td>g-jwWYX7Jlo</td>\n",
              "      <td>20</td>\n",
              "      <td>female</td>\n",
              "      <td>White</td>\n",
              "      <td>True</td>\n",
              "      <td>1</td>\n",
              "      <td>1</td>\n",
              "      <td>1</td>\n",
              "      <td>3</td>\n",
              "      <td>No</td>\n",
              "      <td>...</td>\n",
              "      <td>10</td>\n",
              "      <td>6</td>\n",
              "      <td>14</td>\n",
              "      <td>1.414214</td>\n",
              "      <td>-1.557407725</td>\n",
              "      <td>-0.785398</td>\n",
              "      <td>1.0</td>\n",
              "      <td>-1.0</td>\n",
              "      <td>-0.785398</td>\n",
              "      <td>6.7</td>\n",
              "    </tr>\n",
              "    <tr>\n",
              "      <th>3</th>\n",
              "      <td>Bg_Q7KYWG1g</td>\n",
              "      <td>51</td>\n",
              "      <td>female</td>\n",
              "      <td>White</td>\n",
              "      <td>True</td>\n",
              "      <td>7</td>\n",
              "      <td>2</td>\n",
              "      <td>2</td>\n",
              "      <td>2</td>\n",
              "      <td>No</td>\n",
              "      <td>...</td>\n",
              "      <td>9</td>\n",
              "      <td>4</td>\n",
              "      <td>14</td>\n",
              "      <td>1.802776</td>\n",
              "      <td>-14.10141995</td>\n",
              "      <td>-0.982794</td>\n",
              "      <td>1.0</td>\n",
              "      <td>-1.5</td>\n",
              "      <td>-0.982794</td>\n",
              "      <td>6.7</td>\n",
              "    </tr>\n",
              "    <tr>\n",
              "      <th>4</th>\n",
              "      <td>g-jwWYX7Jlo</td>\n",
              "      <td>26</td>\n",
              "      <td>female</td>\n",
              "      <td>White</td>\n",
              "      <td>True</td>\n",
              "      <td>4</td>\n",
              "      <td>2</td>\n",
              "      <td>3</td>\n",
              "      <td>3</td>\n",
              "      <td>No</td>\n",
              "      <td>...</td>\n",
              "      <td>8</td>\n",
              "      <td>5</td>\n",
              "      <td>11</td>\n",
              "      <td>1.000000</td>\n",
              "      <td>0</td>\n",
              "      <td>0.000000</td>\n",
              "      <td>1.0</td>\n",
              "      <td>0.0</td>\n",
              "      <td>0.000000</td>\n",
              "      <td>7.8</td>\n",
              "    </tr>\n",
              "  </tbody>\n",
              "</table>\n",
              "<p>5 rows × 30 columns</p>\n",
              "</div>\n",
              "    <div class=\"colab-df-buttons\">\n",
              "\n",
              "  <div class=\"colab-df-container\">\n",
              "    <button class=\"colab-df-convert\" onclick=\"convertToInteractive('df-9368cc42-13c5-42f4-bda9-cd92fe2e868e')\"\n",
              "            title=\"Convert this dataframe to an interactive table.\"\n",
              "            style=\"display:none;\">\n",
              "\n",
              "  <svg xmlns=\"http://www.w3.org/2000/svg\" height=\"24px\" viewBox=\"0 -960 960 960\">\n",
              "    <path d=\"M120-120v-720h720v720H120Zm60-500h600v-160H180v160Zm220 220h160v-160H400v160Zm0 220h160v-160H400v160ZM180-400h160v-160H180v160Zm440 0h160v-160H620v160ZM180-180h160v-160H180v160Zm440 0h160v-160H620v160Z\"/>\n",
              "  </svg>\n",
              "    </button>\n",
              "\n",
              "  <style>\n",
              "    .colab-df-container {\n",
              "      display:flex;\n",
              "      gap: 12px;\n",
              "    }\n",
              "\n",
              "    .colab-df-convert {\n",
              "      background-color: #E8F0FE;\n",
              "      border: none;\n",
              "      border-radius: 50%;\n",
              "      cursor: pointer;\n",
              "      display: none;\n",
              "      fill: #1967D2;\n",
              "      height: 32px;\n",
              "      padding: 0 0 0 0;\n",
              "      width: 32px;\n",
              "    }\n",
              "\n",
              "    .colab-df-convert:hover {\n",
              "      background-color: #E2EBFA;\n",
              "      box-shadow: 0px 1px 2px rgba(60, 64, 67, 0.3), 0px 1px 3px 1px rgba(60, 64, 67, 0.15);\n",
              "      fill: #174EA6;\n",
              "    }\n",
              "\n",
              "    .colab-df-buttons div {\n",
              "      margin-bottom: 4px;\n",
              "    }\n",
              "\n",
              "    [theme=dark] .colab-df-convert {\n",
              "      background-color: #3B4455;\n",
              "      fill: #D2E3FC;\n",
              "    }\n",
              "\n",
              "    [theme=dark] .colab-df-convert:hover {\n",
              "      background-color: #434B5C;\n",
              "      box-shadow: 0px 1px 3px 1px rgba(0, 0, 0, 0.15);\n",
              "      filter: drop-shadow(0px 1px 2px rgba(0, 0, 0, 0.3));\n",
              "      fill: #FFFFFF;\n",
              "    }\n",
              "  </style>\n",
              "\n",
              "    <script>\n",
              "      const buttonEl =\n",
              "        document.querySelector('#df-9368cc42-13c5-42f4-bda9-cd92fe2e868e button.colab-df-convert');\n",
              "      buttonEl.style.display =\n",
              "        google.colab.kernel.accessAllowed ? 'block' : 'none';\n",
              "\n",
              "      async function convertToInteractive(key) {\n",
              "        const element = document.querySelector('#df-9368cc42-13c5-42f4-bda9-cd92fe2e868e');\n",
              "        const dataTable =\n",
              "          await google.colab.kernel.invokeFunction('convertToInteractive',\n",
              "                                                    [key], {});\n",
              "        if (!dataTable) return;\n",
              "\n",
              "        const docLinkHtml = 'Like what you see? Visit the ' +\n",
              "          '<a target=\"_blank\" href=https://colab.research.google.com/notebooks/data_table.ipynb>data table notebook</a>'\n",
              "          + ' to learn more about interactive tables.';\n",
              "        element.innerHTML = '';\n",
              "        dataTable['output_type'] = 'display_data';\n",
              "        await google.colab.output.renderOutput(dataTable, element);\n",
              "        const docLink = document.createElement('div');\n",
              "        docLink.innerHTML = docLinkHtml;\n",
              "        element.appendChild(docLink);\n",
              "      }\n",
              "    </script>\n",
              "  </div>\n",
              "\n",
              "\n",
              "<div id=\"df-96ecb074-c8ea-4a69-b827-6203c4511f05\">\n",
              "  <button class=\"colab-df-quickchart\" onclick=\"quickchart('df-96ecb074-c8ea-4a69-b827-6203c4511f05')\"\n",
              "            title=\"Suggest charts\"\n",
              "            style=\"display:none;\">\n",
              "\n",
              "<svg xmlns=\"http://www.w3.org/2000/svg\" height=\"24px\"viewBox=\"0 0 24 24\"\n",
              "     width=\"24px\">\n",
              "    <g>\n",
              "        <path d=\"M19 3H5c-1.1 0-2 .9-2 2v14c0 1.1.9 2 2 2h14c1.1 0 2-.9 2-2V5c0-1.1-.9-2-2-2zM9 17H7v-7h2v7zm4 0h-2V7h2v10zm4 0h-2v-4h2v4z\"/>\n",
              "    </g>\n",
              "</svg>\n",
              "  </button>\n",
              "\n",
              "<style>\n",
              "  .colab-df-quickchart {\n",
              "      --bg-color: #E8F0FE;\n",
              "      --fill-color: #1967D2;\n",
              "      --hover-bg-color: #E2EBFA;\n",
              "      --hover-fill-color: #174EA6;\n",
              "      --disabled-fill-color: #AAA;\n",
              "      --disabled-bg-color: #DDD;\n",
              "  }\n",
              "\n",
              "  [theme=dark] .colab-df-quickchart {\n",
              "      --bg-color: #3B4455;\n",
              "      --fill-color: #D2E3FC;\n",
              "      --hover-bg-color: #434B5C;\n",
              "      --hover-fill-color: #FFFFFF;\n",
              "      --disabled-bg-color: #3B4455;\n",
              "      --disabled-fill-color: #666;\n",
              "  }\n",
              "\n",
              "  .colab-df-quickchart {\n",
              "    background-color: var(--bg-color);\n",
              "    border: none;\n",
              "    border-radius: 50%;\n",
              "    cursor: pointer;\n",
              "    display: none;\n",
              "    fill: var(--fill-color);\n",
              "    height: 32px;\n",
              "    padding: 0;\n",
              "    width: 32px;\n",
              "  }\n",
              "\n",
              "  .colab-df-quickchart:hover {\n",
              "    background-color: var(--hover-bg-color);\n",
              "    box-shadow: 0 1px 2px rgba(60, 64, 67, 0.3), 0 1px 3px 1px rgba(60, 64, 67, 0.15);\n",
              "    fill: var(--button-hover-fill-color);\n",
              "  }\n",
              "\n",
              "  .colab-df-quickchart-complete:disabled,\n",
              "  .colab-df-quickchart-complete:disabled:hover {\n",
              "    background-color: var(--disabled-bg-color);\n",
              "    fill: var(--disabled-fill-color);\n",
              "    box-shadow: none;\n",
              "  }\n",
              "\n",
              "  .colab-df-spinner {\n",
              "    border: 2px solid var(--fill-color);\n",
              "    border-color: transparent;\n",
              "    border-bottom-color: var(--fill-color);\n",
              "    animation:\n",
              "      spin 1s steps(1) infinite;\n",
              "  }\n",
              "\n",
              "  @keyframes spin {\n",
              "    0% {\n",
              "      border-color: transparent;\n",
              "      border-bottom-color: var(--fill-color);\n",
              "      border-left-color: var(--fill-color);\n",
              "    }\n",
              "    20% {\n",
              "      border-color: transparent;\n",
              "      border-left-color: var(--fill-color);\n",
              "      border-top-color: var(--fill-color);\n",
              "    }\n",
              "    30% {\n",
              "      border-color: transparent;\n",
              "      border-left-color: var(--fill-color);\n",
              "      border-top-color: var(--fill-color);\n",
              "      border-right-color: var(--fill-color);\n",
              "    }\n",
              "    40% {\n",
              "      border-color: transparent;\n",
              "      border-right-color: var(--fill-color);\n",
              "      border-top-color: var(--fill-color);\n",
              "    }\n",
              "    60% {\n",
              "      border-color: transparent;\n",
              "      border-right-color: var(--fill-color);\n",
              "    }\n",
              "    80% {\n",
              "      border-color: transparent;\n",
              "      border-right-color: var(--fill-color);\n",
              "      border-bottom-color: var(--fill-color);\n",
              "    }\n",
              "    90% {\n",
              "      border-color: transparent;\n",
              "      border-bottom-color: var(--fill-color);\n",
              "    }\n",
              "  }\n",
              "</style>\n",
              "\n",
              "  <script>\n",
              "    async function quickchart(key) {\n",
              "      const quickchartButtonEl =\n",
              "        document.querySelector('#' + key + ' button');\n",
              "      quickchartButtonEl.disabled = true;  // To prevent multiple clicks.\n",
              "      quickchartButtonEl.classList.add('colab-df-spinner');\n",
              "      try {\n",
              "        const charts = await google.colab.kernel.invokeFunction(\n",
              "            'suggestCharts', [key], {});\n",
              "      } catch (error) {\n",
              "        console.error('Error during call to suggestCharts:', error);\n",
              "      }\n",
              "      quickchartButtonEl.classList.remove('colab-df-spinner');\n",
              "      quickchartButtonEl.classList.add('colab-df-quickchart-complete');\n",
              "    }\n",
              "    (() => {\n",
              "      let quickchartButtonEl =\n",
              "        document.querySelector('#df-96ecb074-c8ea-4a69-b827-6203c4511f05 button');\n",
              "      quickchartButtonEl.style.display =\n",
              "        google.colab.kernel.accessAllowed ? 'block' : 'none';\n",
              "    })();\n",
              "  </script>\n",
              "</div>\n",
              "\n",
              "    </div>\n",
              "  </div>\n"
            ]
          },
          "metadata": {},
          "execution_count": 78
        }
      ]
    },
    {
      "cell_type": "code",
      "source": [
        "# import visualization library\n",
        "\n",
        "from bokeh.plotting import curdoc, figure, show\n",
        "from bokeh.models import HoverTool\n",
        "from bokeh.io import output_notebook\n",
        "from bokeh.palettes import Category10\n",
        "from bokeh.transform import factor_cmap\n",
        "\n",
        "# Create a list of unique colors for each circle\n",
        "colors = [Category10[10][i % 10] for i in range(len(df))]\n",
        "\n",
        "# Add the colors to your DataFrame\n",
        "df['colors'] = colors\n",
        "\n",
        "# Create a new plot with the HoverTool\n",
        "hover = HoverTool(tooltips=None, mode=\"vline\")\n",
        "p = figure(tools=[hover, 'wheel_zoom', 'pan'], title=\"Chill # and Chill Intensity\")\n",
        "\n",
        "# Add a circle renderer with color mapped to the new 'colors' column\n",
        "p.circle('Chills #', 'Chill Intensity', radius=1, fill_color='colors', fill_alpha=0.6,\n",
        "         line_color=None, source=df)\n",
        "\n",
        "curdoc().theme = 'dark_minimal'\n",
        "output_notebook()\n",
        "show(p)"
      ],
      "metadata": {
        "colab": {
          "base_uri": "https://localhost:8080/",
          "height": 617
        },
        "id": "aj3UTkmXHTXr",
        "outputId": "639ef29d-f0af-45c9-e796-9dd8acc856d5"
      },
      "execution_count": null,
      "outputs": [
        {
          "output_type": "display_data",
          "data": {
            "application/javascript": [
              "(function(root) {\n",
              "  function now() {\n",
              "    return new Date();\n",
              "  }\n",
              "\n",
              "  const force = true;\n",
              "\n",
              "  if (typeof root._bokeh_onload_callbacks === \"undefined\" || force === true) {\n",
              "    root._bokeh_onload_callbacks = [];\n",
              "    root._bokeh_is_loading = undefined;\n",
              "  }\n",
              "\n",
              "const JS_MIME_TYPE = 'application/javascript';\n",
              "  const HTML_MIME_TYPE = 'text/html';\n",
              "  const EXEC_MIME_TYPE = 'application/vnd.bokehjs_exec.v0+json';\n",
              "  const CLASS_NAME = 'output_bokeh rendered_html';\n",
              "\n",
              "  /**\n",
              "   * Render data to the DOM node\n",
              "   */\n",
              "  function render(props, node) {\n",
              "    const script = document.createElement(\"script\");\n",
              "    node.appendChild(script);\n",
              "  }\n",
              "\n",
              "  /**\n",
              "   * Handle when an output is cleared or removed\n",
              "   */\n",
              "  function handleClearOutput(event, handle) {\n",
              "    function drop(id) {\n",
              "      const view = Bokeh.index.get_by_id(id)\n",
              "      if (view != null) {\n",
              "        view.model.document.clear()\n",
              "        Bokeh.index.delete(view)\n",
              "      }\n",
              "    }\n",
              "\n",
              "    const cell = handle.cell;\n",
              "\n",
              "    const id = cell.output_area._bokeh_element_id;\n",
              "    const server_id = cell.output_area._bokeh_server_id;\n",
              "\n",
              "    // Clean up Bokeh references\n",
              "    if (id != null) {\n",
              "      drop(id)\n",
              "    }\n",
              "\n",
              "    if (server_id !== undefined) {\n",
              "      // Clean up Bokeh references\n",
              "      const cmd_clean = \"from bokeh.io.state import curstate; print(curstate().uuid_to_server['\" + server_id + \"'].get_sessions()[0].document.roots[0]._id)\";\n",
              "      cell.notebook.kernel.execute(cmd_clean, {\n",
              "        iopub: {\n",
              "          output: function(msg) {\n",
              "            const id = msg.content.text.trim()\n",
              "            drop(id)\n",
              "          }\n",
              "        }\n",
              "      });\n",
              "      // Destroy server and session\n",
              "      const cmd_destroy = \"import bokeh.io.notebook as ion; ion.destroy_server('\" + server_id + \"')\";\n",
              "      cell.notebook.kernel.execute(cmd_destroy);\n",
              "    }\n",
              "  }\n",
              "\n",
              "  /**\n",
              "   * Handle when a new output is added\n",
              "   */\n",
              "  function handleAddOutput(event, handle) {\n",
              "    const output_area = handle.output_area;\n",
              "    const output = handle.output;\n",
              "\n",
              "    // limit handleAddOutput to display_data with EXEC_MIME_TYPE content only\n",
              "    if ((output.output_type != \"display_data\") || (!Object.prototype.hasOwnProperty.call(output.data, EXEC_MIME_TYPE))) {\n",
              "      return\n",
              "    }\n",
              "\n",
              "    const toinsert = output_area.element.find(\".\" + CLASS_NAME.split(' ')[0]);\n",
              "\n",
              "    if (output.metadata[EXEC_MIME_TYPE][\"id\"] !== undefined) {\n",
              "      toinsert[toinsert.length - 1].firstChild.textContent = output.data[JS_MIME_TYPE];\n",
              "      // store reference to embed id on output_area\n",
              "      output_area._bokeh_element_id = output.metadata[EXEC_MIME_TYPE][\"id\"];\n",
              "    }\n",
              "    if (output.metadata[EXEC_MIME_TYPE][\"server_id\"] !== undefined) {\n",
              "      const bk_div = document.createElement(\"div\");\n",
              "      bk_div.innerHTML = output.data[HTML_MIME_TYPE];\n",
              "      const script_attrs = bk_div.children[0].attributes;\n",
              "      for (let i = 0; i < script_attrs.length; i++) {\n",
              "        toinsert[toinsert.length - 1].firstChild.setAttribute(script_attrs[i].name, script_attrs[i].value);\n",
              "        toinsert[toinsert.length - 1].firstChild.textContent = bk_div.children[0].textContent\n",
              "      }\n",
              "      // store reference to server id on output_area\n",
              "      output_area._bokeh_server_id = output.metadata[EXEC_MIME_TYPE][\"server_id\"];\n",
              "    }\n",
              "  }\n",
              "\n",
              "  function register_renderer(events, OutputArea) {\n",
              "\n",
              "    function append_mime(data, metadata, element) {\n",
              "      // create a DOM node to render to\n",
              "      const toinsert = this.create_output_subarea(\n",
              "        metadata,\n",
              "        CLASS_NAME,\n",
              "        EXEC_MIME_TYPE\n",
              "      );\n",
              "      this.keyboard_manager.register_events(toinsert);\n",
              "      // Render to node\n",
              "      const props = {data: data, metadata: metadata[EXEC_MIME_TYPE]};\n",
              "      render(props, toinsert[toinsert.length - 1]);\n",
              "      element.append(toinsert);\n",
              "      return toinsert\n",
              "    }\n",
              "\n",
              "    /* Handle when an output is cleared or removed */\n",
              "    events.on('clear_output.CodeCell', handleClearOutput);\n",
              "    events.on('delete.Cell', handleClearOutput);\n",
              "\n",
              "    /* Handle when a new output is added */\n",
              "    events.on('output_added.OutputArea', handleAddOutput);\n",
              "\n",
              "    /**\n",
              "     * Register the mime type and append_mime function with output_area\n",
              "     */\n",
              "    OutputArea.prototype.register_mime_type(EXEC_MIME_TYPE, append_mime, {\n",
              "      /* Is output safe? */\n",
              "      safe: true,\n",
              "      /* Index of renderer in `output_area.display_order` */\n",
              "      index: 0\n",
              "    });\n",
              "  }\n",
              "\n",
              "  // register the mime type if in Jupyter Notebook environment and previously unregistered\n",
              "  if (root.Jupyter !== undefined) {\n",
              "    const events = require('base/js/events');\n",
              "    const OutputArea = require('notebook/js/outputarea').OutputArea;\n",
              "\n",
              "    if (OutputArea.prototype.mime_types().indexOf(EXEC_MIME_TYPE) == -1) {\n",
              "      register_renderer(events, OutputArea);\n",
              "    }\n",
              "  }\n",
              "  if (typeof (root._bokeh_timeout) === \"undefined\" || force === true) {\n",
              "    root._bokeh_timeout = Date.now() + 5000;\n",
              "    root._bokeh_failed_load = false;\n",
              "  }\n",
              "\n",
              "  const NB_LOAD_WARNING = {'data': {'text/html':\n",
              "     \"<div style='background-color: #fdd'>\\n\"+\n",
              "     \"<p>\\n\"+\n",
              "     \"BokehJS does not appear to have successfully loaded. If loading BokehJS from CDN, this \\n\"+\n",
              "     \"may be due to a slow or bad network connection. Possible fixes:\\n\"+\n",
              "     \"</p>\\n\"+\n",
              "     \"<ul>\\n\"+\n",
              "     \"<li>re-rerun `output_notebook()` to attempt to load from CDN again, or</li>\\n\"+\n",
              "     \"<li>use INLINE resources instead, as so:</li>\\n\"+\n",
              "     \"</ul>\\n\"+\n",
              "     \"<code>\\n\"+\n",
              "     \"from bokeh.resources import INLINE\\n\"+\n",
              "     \"output_notebook(resources=INLINE)\\n\"+\n",
              "     \"</code>\\n\"+\n",
              "     \"</div>\"}};\n",
              "\n",
              "  function display_loaded() {\n",
              "    const el = document.getElementById(null);\n",
              "    if (el != null) {\n",
              "      el.textContent = \"BokehJS is loading...\";\n",
              "    }\n",
              "    if (root.Bokeh !== undefined) {\n",
              "      if (el != null) {\n",
              "        el.textContent = \"BokehJS \" + root.Bokeh.version + \" successfully loaded.\";\n",
              "      }\n",
              "    } else if (Date.now() < root._bokeh_timeout) {\n",
              "      setTimeout(display_loaded, 100)\n",
              "    }\n",
              "  }\n",
              "\n",
              "  function run_callbacks() {\n",
              "    try {\n",
              "      root._bokeh_onload_callbacks.forEach(function(callback) {\n",
              "        if (callback != null)\n",
              "          callback();\n",
              "      });\n",
              "    } finally {\n",
              "      delete root._bokeh_onload_callbacks\n",
              "    }\n",
              "    console.debug(\"Bokeh: all callbacks have finished\");\n",
              "  }\n",
              "\n",
              "  function load_libs(css_urls, js_urls, callback) {\n",
              "    if (css_urls == null) css_urls = [];\n",
              "    if (js_urls == null) js_urls = [];\n",
              "\n",
              "    root._bokeh_onload_callbacks.push(callback);\n",
              "    if (root._bokeh_is_loading > 0) {\n",
              "      console.debug(\"Bokeh: BokehJS is being loaded, scheduling callback at\", now());\n",
              "      return null;\n",
              "    }\n",
              "    if (js_urls == null || js_urls.length === 0) {\n",
              "      run_callbacks();\n",
              "      return null;\n",
              "    }\n",
              "    console.debug(\"Bokeh: BokehJS not loaded, scheduling load and callback at\", now());\n",
              "    root._bokeh_is_loading = css_urls.length + js_urls.length;\n",
              "\n",
              "    function on_load() {\n",
              "      root._bokeh_is_loading--;\n",
              "      if (root._bokeh_is_loading === 0) {\n",
              "        console.debug(\"Bokeh: all BokehJS libraries/stylesheets loaded\");\n",
              "        run_callbacks()\n",
              "      }\n",
              "    }\n",
              "\n",
              "    function on_error(url) {\n",
              "      console.error(\"failed to load \" + url);\n",
              "    }\n",
              "\n",
              "    for (let i = 0; i < css_urls.length; i++) {\n",
              "      const url = css_urls[i];\n",
              "      const element = document.createElement(\"link\");\n",
              "      element.onload = on_load;\n",
              "      element.onerror = on_error.bind(null, url);\n",
              "      element.rel = \"stylesheet\";\n",
              "      element.type = \"text/css\";\n",
              "      element.href = url;\n",
              "      console.debug(\"Bokeh: injecting link tag for BokehJS stylesheet: \", url);\n",
              "      document.body.appendChild(element);\n",
              "    }\n",
              "\n",
              "    for (let i = 0; i < js_urls.length; i++) {\n",
              "      const url = js_urls[i];\n",
              "      const element = document.createElement('script');\n",
              "      element.onload = on_load;\n",
              "      element.onerror = on_error.bind(null, url);\n",
              "      element.async = false;\n",
              "      element.src = url;\n",
              "      console.debug(\"Bokeh: injecting script tag for BokehJS library: \", url);\n",
              "      document.head.appendChild(element);\n",
              "    }\n",
              "  };\n",
              "\n",
              "  function inject_raw_css(css) {\n",
              "    const element = document.createElement(\"style\");\n",
              "    element.appendChild(document.createTextNode(css));\n",
              "    document.body.appendChild(element);\n",
              "  }\n",
              "\n",
              "  const js_urls = [\"https://cdn.bokeh.org/bokeh/release/bokeh-3.3.2.min.js\", \"https://cdn.bokeh.org/bokeh/release/bokeh-gl-3.3.2.min.js\", \"https://cdn.bokeh.org/bokeh/release/bokeh-widgets-3.3.2.min.js\", \"https://cdn.bokeh.org/bokeh/release/bokeh-tables-3.3.2.min.js\", \"https://cdn.bokeh.org/bokeh/release/bokeh-mathjax-3.3.2.min.js\"];\n",
              "  const css_urls = [];\n",
              "\n",
              "  const inline_js = [    function(Bokeh) {\n",
              "      Bokeh.set_log_level(\"info\");\n",
              "    },\n",
              "function(Bokeh) {\n",
              "    }\n",
              "  ];\n",
              "\n",
              "  function run_inline_js() {\n",
              "    if (root.Bokeh !== undefined || force === true) {\n",
              "          for (let i = 0; i < inline_js.length; i++) {\n",
              "      inline_js[i].call(root, root.Bokeh);\n",
              "    }\n",
              "} else if (Date.now() < root._bokeh_timeout) {\n",
              "      setTimeout(run_inline_js, 100);\n",
              "    } else if (!root._bokeh_failed_load) {\n",
              "      console.log(\"Bokeh: BokehJS failed to load within specified timeout.\");\n",
              "      root._bokeh_failed_load = true;\n",
              "    } else if (force !== true) {\n",
              "      const cell = $(document.getElementById(null)).parents('.cell').data().cell;\n",
              "      cell.output_area.append_execute_result(NB_LOAD_WARNING)\n",
              "    }\n",
              "  }\n",
              "\n",
              "  if (root._bokeh_is_loading === 0) {\n",
              "    console.debug(\"Bokeh: BokehJS loaded, going straight to plotting\");\n",
              "    run_inline_js();\n",
              "  } else {\n",
              "    load_libs(css_urls, js_urls, function() {\n",
              "      console.debug(\"Bokeh: BokehJS plotting callback run at\", now());\n",
              "      run_inline_js();\n",
              "    });\n",
              "  }\n",
              "}(window));"
            ],
            "application/vnd.bokehjs_load.v0+json": "(function(root) {\n  function now() {\n    return new Date();\n  }\n\n  const force = true;\n\n  if (typeof root._bokeh_onload_callbacks === \"undefined\" || force === true) {\n    root._bokeh_onload_callbacks = [];\n    root._bokeh_is_loading = undefined;\n  }\n\n\n  if (typeof (root._bokeh_timeout) === \"undefined\" || force === true) {\n    root._bokeh_timeout = Date.now() + 5000;\n    root._bokeh_failed_load = false;\n  }\n\n  const NB_LOAD_WARNING = {'data': {'text/html':\n     \"<div style='background-color: #fdd'>\\n\"+\n     \"<p>\\n\"+\n     \"BokehJS does not appear to have successfully loaded. If loading BokehJS from CDN, this \\n\"+\n     \"may be due to a slow or bad network connection. Possible fixes:\\n\"+\n     \"</p>\\n\"+\n     \"<ul>\\n\"+\n     \"<li>re-rerun `output_notebook()` to attempt to load from CDN again, or</li>\\n\"+\n     \"<li>use INLINE resources instead, as so:</li>\\n\"+\n     \"</ul>\\n\"+\n     \"<code>\\n\"+\n     \"from bokeh.resources import INLINE\\n\"+\n     \"output_notebook(resources=INLINE)\\n\"+\n     \"</code>\\n\"+\n     \"</div>\"}};\n\n  function display_loaded() {\n    const el = document.getElementById(null);\n    if (el != null) {\n      el.textContent = \"BokehJS is loading...\";\n    }\n    if (root.Bokeh !== undefined) {\n      if (el != null) {\n        el.textContent = \"BokehJS \" + root.Bokeh.version + \" successfully loaded.\";\n      }\n    } else if (Date.now() < root._bokeh_timeout) {\n      setTimeout(display_loaded, 100)\n    }\n  }\n\n  function run_callbacks() {\n    try {\n      root._bokeh_onload_callbacks.forEach(function(callback) {\n        if (callback != null)\n          callback();\n      });\n    } finally {\n      delete root._bokeh_onload_callbacks\n    }\n    console.debug(\"Bokeh: all callbacks have finished\");\n  }\n\n  function load_libs(css_urls, js_urls, callback) {\n    if (css_urls == null) css_urls = [];\n    if (js_urls == null) js_urls = [];\n\n    root._bokeh_onload_callbacks.push(callback);\n    if (root._bokeh_is_loading > 0) {\n      console.debug(\"Bokeh: BokehJS is being loaded, scheduling callback at\", now());\n      return null;\n    }\n    if (js_urls == null || js_urls.length === 0) {\n      run_callbacks();\n      return null;\n    }\n    console.debug(\"Bokeh: BokehJS not loaded, scheduling load and callback at\", now());\n    root._bokeh_is_loading = css_urls.length + js_urls.length;\n\n    function on_load() {\n      root._bokeh_is_loading--;\n      if (root._bokeh_is_loading === 0) {\n        console.debug(\"Bokeh: all BokehJS libraries/stylesheets loaded\");\n        run_callbacks()\n      }\n    }\n\n    function on_error(url) {\n      console.error(\"failed to load \" + url);\n    }\n\n    for (let i = 0; i < css_urls.length; i++) {\n      const url = css_urls[i];\n      const element = document.createElement(\"link\");\n      element.onload = on_load;\n      element.onerror = on_error.bind(null, url);\n      element.rel = \"stylesheet\";\n      element.type = \"text/css\";\n      element.href = url;\n      console.debug(\"Bokeh: injecting link tag for BokehJS stylesheet: \", url);\n      document.body.appendChild(element);\n    }\n\n    for (let i = 0; i < js_urls.length; i++) {\n      const url = js_urls[i];\n      const element = document.createElement('script');\n      element.onload = on_load;\n      element.onerror = on_error.bind(null, url);\n      element.async = false;\n      element.src = url;\n      console.debug(\"Bokeh: injecting script tag for BokehJS library: \", url);\n      document.head.appendChild(element);\n    }\n  };\n\n  function inject_raw_css(css) {\n    const element = document.createElement(\"style\");\n    element.appendChild(document.createTextNode(css));\n    document.body.appendChild(element);\n  }\n\n  const js_urls = [\"https://cdn.bokeh.org/bokeh/release/bokeh-3.3.2.min.js\", \"https://cdn.bokeh.org/bokeh/release/bokeh-gl-3.3.2.min.js\", \"https://cdn.bokeh.org/bokeh/release/bokeh-widgets-3.3.2.min.js\", \"https://cdn.bokeh.org/bokeh/release/bokeh-tables-3.3.2.min.js\", \"https://cdn.bokeh.org/bokeh/release/bokeh-mathjax-3.3.2.min.js\"];\n  const css_urls = [];\n\n  const inline_js = [    function(Bokeh) {\n      Bokeh.set_log_level(\"info\");\n    },\nfunction(Bokeh) {\n    }\n  ];\n\n  function run_inline_js() {\n    if (root.Bokeh !== undefined || force === true) {\n          for (let i = 0; i < inline_js.length; i++) {\n      inline_js[i].call(root, root.Bokeh);\n    }\n} else if (Date.now() < root._bokeh_timeout) {\n      setTimeout(run_inline_js, 100);\n    } else if (!root._bokeh_failed_load) {\n      console.log(\"Bokeh: BokehJS failed to load within specified timeout.\");\n      root._bokeh_failed_load = true;\n    } else if (force !== true) {\n      const cell = $(document.getElementById(null)).parents('.cell').data().cell;\n      cell.output_area.append_execute_result(NB_LOAD_WARNING)\n    }\n  }\n\n  if (root._bokeh_is_loading === 0) {\n    console.debug(\"Bokeh: BokehJS loaded, going straight to plotting\");\n    run_inline_js();\n  } else {\n    load_libs(css_urls, js_urls, function() {\n      console.debug(\"Bokeh: BokehJS plotting callback run at\", now());\n      run_inline_js();\n    });\n  }\n}(window));"
          },
          "metadata": {}
        },
        {
          "output_type": "display_data",
          "data": {
            "text/html": [
              "\n",
              "  <div id=\"c8f838d1-bd37-43a0-bdf1-8e3f7c92ef0a\" data-root-id=\"p1126\" style=\"display: contents;\"></div>\n"
            ]
          },
          "metadata": {}
        },
        {
          "output_type": "display_data",
          "data": {
            "application/javascript": [
              "(function(root) {\n",
              "  function embed_document(root) {\n",
              "  const docs_json = {\"b915ec90-1578-44df-9c59-bd66c6204f09\":{\"version\":\"3.3.2\",\"title\":\"Bokeh Application\",\"roots\":[{\"type\":\"object\",\"name\":\"Figure\",\"id\":\"p1126\",\"attributes\":{\"x_range\":{\"type\":\"object\",\"name\":\"DataRange1d\",\"id\":\"p1127\"},\"y_range\":{\"type\":\"object\",\"name\":\"DataRange1d\",\"id\":\"p1128\"},\"x_scale\":{\"type\":\"object\",\"name\":\"LinearScale\",\"id\":\"p1136\"},\"y_scale\":{\"type\":\"object\",\"name\":\"LinearScale\",\"id\":\"p1137\"},\"title\":{\"type\":\"object\",\"name\":\"Title\",\"id\":\"p1129\",\"attributes\":{\"text\":\"Chill # and Chill Intensity\",\"text_color\":\"#E0E0E0\",\"text_font\":\"Helvetica\",\"text_font_size\":\"1.15em\"}},\"outline_line_color\":\"#E0E0E0\",\"outline_line_alpha\":0.25,\"renderers\":[{\"type\":\"object\",\"name\":\"GlyphRenderer\",\"id\":\"p1159\",\"attributes\":{\"data_source\":{\"type\":\"object\",\"name\":\"ColumnDataSource\",\"id\":\"p1150\",\"attributes\":{\"selected\":{\"type\":\"object\",\"name\":\"Selection\",\"id\":\"p1151\",\"attributes\":{\"indices\":[],\"line_indices\":[]}},\"selection_policy\":{\"type\":\"object\",\"name\":\"UnionRenderers\",\"id\":\"p1152\"},\"data\":{\"type\":\"map\",\"entries\":[[\"index\",{\"type\":\"ndarray\",\"array\":{\"type\":\"bytes\",\"data\":\"AAAAAAEAAAACAAAAAwAAAAQAAAAFAAAABgAAAAcAAAAIAAAACQAAAAoAAAALAAAADAAAAA0AAAAOAAAADwAAABAAAAARAAAAEgAAABMAAAAUAAAAFQAAABYAAAAXAAAAGAAAABkAAAAaAAAAGwAAABwAAAAdAAAAHgAAAB8AAAAgAAAAIQAAACIAAAAjAAAAJAAAACUAAAAmAAAAJwAAACgAAAApAAAAKgAAACsAAAAsAAAALQAAAC4AAAAvAAAAMAAAADEAAAAyAAAAMwAAADQAAAA1AAAANgAAADcAAAA4AAAAOQAAADoAAAA7AAAAPAAAAD0AAAA+AAAAPwAAAEAAAABBAAAAQgAAAEMAAABEAAAARQAAAEYAAABHAAAASAAAAEkAAABKAAAASwAAAEwAAABNAAAATgAAAE8AAAA=\"},\"shape\":[80],\"dtype\":\"int32\",\"order\":\"little\"}],[\"Video ID\",{\"type\":\"ndarray\",\"array\":[\"Bg_Q7KYWG1g\",\"g-jwWYX7Jlo\",\"g-jwWYX7Jlo\",\"Bg_Q7KYWG1g\",\"g-jwWYX7Jlo\",\"26U_seo0a1g\",\"26U_seo0a1g\",\"26U_seo0a1g\",\"26U_seo0a1g\",\"g-jwWYX7Jlo\",\"Bg_Q7KYWG1g\",\"Bg_Q7KYWG1g\",\"g-jwWYX7Jlo\",\"26U_seo0a1g\",\"g-jwWYX7Jlo\",\"26U_seo0a1g\",\"26U_seo0a1g\",\"g-jwWYX7Jlo\",\"Bg_Q7KYWG1g\",\"Bg_Q7KYWG1g\",\"Bg_Q7KYWG1g\",\"g-jwWYX7Jlo\",\"g-jwWYX7Jlo\",\"g-jwWYX7Jlo\",\"Bg_Q7KYWG1g\",\"26U_seo0a1g\",\"Bg_Q7KYWG1g\",\"Bg_Q7KYWG1g\",\"26U_seo0a1g\",\"26U_seo0a1g\",\"tbnzAVRZ9Xc\",\"tbnzAVRZ9Xc\",\"tbnzAVRZ9Xc\",\"tbnzAVRZ9Xc\",\"tbnzAVRZ9Xc\",\"tbnzAVRZ9Xc\",\"tbnzAVRZ9Xc\",\"tbnzAVRZ9Xc\",\"tbnzAVRZ9Xc\",\"tbnzAVRZ9Xc\",\"V2EfL1j4KYE\",\"V2EfL1j4KYE\",\"V2EfL1j4KYE\",\"V2EfL1j4KYE\",\"V2EfL1j4KYE\",\"V2EfL1j4KYE\",\"V2EfL1j4KYE\",\"V2EfL1j4KYE\",\"V2EfL1j4KYE\",\"wnHW6o8WMas\",\"wnHW6o8WMas\",\"wnHW6o8WMas\",\"wnHW6o8WMas\",\"wnHW6o8WMas\",\"wnHW6o8WMas\",\"wnHW6o8WMas\",\"wnHW6o8WMas\",\"wnHW6o8WMas\",\"wnHW6o8WMas\",\"wnHW6o8WMas\",\"wnHW6o8WMas\",\"t1XCzWlYWeA\",\"t1XCzWlYWeA\",\"t1XCzWlYWeA\",\"t1XCzWlYWeA\",\"t1XCzWlYWeA\",\"t1XCzWlYWeA\",\"t1XCzWlYWeA\",\"t1XCzWlYWeA\",\"t1XCzWlYWeA\",\"t1XCzWlYWeA\",\"lsSC2vx7zFQ\",\"lsSC2vx7zFQ\",\"lsSC2vx7zFQ\",\"lsSC2vx7zFQ\",\"lsSC2vx7zFQ\",\"lsSC2vx7zFQ\",\"lsSC2vx7zFQ\",\"lsSC2vx7zFQ\",\"lsSC2vx7zFQ\"],\"shape\":[80],\"dtype\":\"object\",\"order\":\"little\"}],[\"Age\",{\"type\":\"ndarray\",\"array\":{\"type\":\"bytes\",\"data\":\"GgAAADMAAAAUAAAAMwAAABoAAAAjAAAAFwAAAB8AAAAhAAAAHQAAAC8AAABHAAAALQAAAC4AAAAlAAAAJAAAAB0AAAAVAAAARAAAABYAAAAfAAAAPgAAABcAAAAhAAAAGAAAACYAAAAXAAAAJQAAACEAAAAbAAAAIgAAABoAAAAYAAAAFwAAACYAAAAfAAAAMwAAABgAAAAUAAAAFgAAABsAAABCAAAAHwAAACMAAAAoAAAAJAAAADgAAAAgAAAANwAAABMAAAArAAAAOgAAAEAAAAAdAAAAIQAAACoAAAAXAAAAIgAAAEEAAAAUAAAAIQAAACMAAAAyAAAAQAAAAEEAAAAaAAAALAAAAEkAAABFAAAAGAAAACcAAAAfAAAAGAAAACMAAAAlAAAAHwAAACAAAAAWAAAAGwAAABoAAAA=\"},\"shape\":[80],\"dtype\":\"int32\",\"order\":\"little\"}],[\"Gender\",{\"type\":\"ndarray\",\"array\":[\"female\",\"female\",\"female\",\"female\",\"female\",\"female\",\"female\",\"female\",\"female\",\"female\",\"male\",\"male\",\"male\",\"male\",\"male\",\"male\",\"male\",\"male\",\"male\",\"male\",\"male\",\"male\",\"female\",\"male\",\"male\",\"male\",\"male\",\"male\",\"male\",\"female\",\"female\",\"female\",\"female\",\"female\",\"female\",\"male\",\"male\",\"male\",\"male\",\"female\",\"female\",\"female\",\"female\",\"female\",\"male\",\"male\",\"male\",\"male\",\"female\",\"female\",\"female\",\"female\",\"female\",\"female\",\"male\",\"male\",\"male\",\"male\",\"male\",\"male\",\"select\",\"male\",\"female\",\"female\",\"female\",\"female\",\"male\",\"male\",\"male\",\"female\",\"female\",\"female\",\"female\",\"male\",\"male\",\"male\",\"male\",\"female\",\"female\",\"male\"],\"shape\":[80],\"dtype\":\"object\",\"order\":\"little\"}],[\"Ethnicity\",{\"type\":\"ndarray\",\"array\":[\"White\",\"White\",\"White\",\"White\",\"White\",\"White\",\"White\",\"White\",\"White\",\"White\",\"White\",\"White\",\"White\",\"White\",\"White\",\"White\",\"White\",\"White\",\"White\",\"White\",\"White\",\"White\",\"Mixed \",\"Mixed\",\"Mixed\",\"Middle-East\",\"Hispanic\",\"Hispanic\",\"Black\",\"Asian\",\"White\",\"White\",\"White\",\"White\",\"White\",\"White\",\"White\",\"White\",\"White\",\"Mixed\",\"White\",\"White\",\"White\",\"White\",\"White\",\"White\",\"White\",\"White\",\"Mixed\",\"White\",\"White\",\"White\",\"White\",\"White\",\"White\",\"White\",\"White\",\"White\",\"White\",\"White\",\"White\",\"White \",\"White\",\"White\",\"White\",\"White\",\"White\",\"White\",\"White\",\"Hispanic\",\"Asian\",\"White\",\"White\",\"White\",\"White\",\"White\",\"Mixed\",\"Hispanic \",\"Black\",\"Asian\"],\"shape\":[80],\"dtype\":\"object\",\"order\":\"little\"}],[\"chills Binary\",{\"type\":\"ndarray\",\"array\":{\"type\":\"bytes\",\"data\":\"AQEBAQEBAQEBAQEBAQEBAAEBAQEBAAEBAAEBAQEBAQEBAAEAAAEBAQEBAQAAAQEAAQABAQABAQEAAQAAAQABAAEAAQAAAQEBAAEAAAAAAQE=\"},\"shape\":[80],\"dtype\":\"bool\",\"order\":\"little\"}],[\"Chills #\",{\"type\":\"ndarray\",\"array\":{\"type\":\"bytes\",\"data\":\"AQAAAAUAAAABAAAABwAAAAQAAAADAAAAAwAAAAIAAAABAAAAAgAAAAEAAAACAAAABAAAAAMAAAABAAAAAAAAAAcAAAAIAAAACQAAAAIAAAABAAAAAAAAAAMAAAACAAAAAAAAAAIAAAABAAAABwAAAAEAAAADAAAAAwAAAAcAAAAEAAAAAAAAAAQAAAAAAAAAAAAAAAQAAAAFAAAABwAAAAMAAAACAAAABQAAAAAAAAAAAAAABAAAAAMAAAAAAAAABwAAAAAAAAAHAAAABwAAAAAAAAACAAAABgAAAAMAAAAAAAAAAgAAAAAAAAAAAAAAAgAAAAAAAAAEAAAAAAAAAAYAAAAAAAAABgAAAAAAAAAAAAAAAQAAAAEAAAACAAAAAAAAAAcAAAAAAAAAAAAAAAAAAAAAAAAAAwAAAAUAAAA=\"},\"shape\":[80],\"dtype\":\"int32\",\"order\":\"little\"}],[\"Chill Intensity\",{\"type\":\"ndarray\",\"array\":{\"type\":\"bytes\",\"data\":\"AgAAAAIAAAABAAAAAgAAAAIAAAACAAAAAQAAAAIAAAABAAAAAQAAAAMAAAABAAAAAQAAAAIAAAABAAAAAAAAAAEAAAACAAAAAwAAAAIAAAABAAAAAAAAAAMAAAABAAAAAAAAAAEAAAABAAAAAwAAAAEAAAACAAAAAwAAAAMAAAABAAAAAAAAAAEAAAAAAAAAAAAAAAIAAAABAAAAAQAAAAEAAAACAAAAAgAAAAAAAAAAAAAAAgAAAAIAAAAAAAAAAwAAAAAAAAADAAAAAwAAAAAAAAABAAAAAgAAAAMAAAAAAAAAAgAAAAAAAAAAAAAAAQAAAAAAAAABAAAAAAAAAAIAAAAAAAAAAgAAAAAAAAAAAAAAAQAAAAEAAAABAAAAAAAAAAIAAAAAAAAAAAAAAAMAAAAAAAAAAwAAAAIAAAA=\"},\"shape\":[80],\"dtype\":\"int32\",\"order\":\"little\"}],[\"Daily Chills\",{\"type\":\"ndarray\",\"array\":{\"type\":\"bytes\",\"data\":\"AgAAAAIAAAABAAAAAgAAAAMAAAABAAAAAAAAAAEAAAABAAAAAQAAAAIAAAABAAAAAQAAAAMAAAAAAAAAAAAAAAIAAAADAAAAAQAAAAEAAAAAAAAAAQAAAAQAAAABAAAAAQAAAAEAAAACAAAAAQAAAAMAAAABAAAAAQAAAAEAAAADAAAAAgAAAAIAAAACAAAAAQAAAAEAAAABAAAAAAAAAAIAAAACAAAAAgAAAAEAAAABAAAAAwAAAAEAAAABAAAAAQAAAAIAAAABAAAAAQAAAAIAAAABAAAAAQAAAAMAAAABAAAAAQAAAAAAAAACAAAAAQAAAAEAAAACAAAAAQAAAAEAAAABAAAAAAAAAAEAAAACAAAAAwAAAAIAAAABAAAAAgAAAAEAAAACAAAAAQAAAAMAAAABAAAAAgAAAAEAAAA=\"},\"shape\":[80],\"dtype\":\"int32\",\"order\":\"little\"}],[\"NIO_Openess\",{\"type\":\"ndarray\",\"array\":{\"type\":\"bytes\",\"data\":\"AgAAAAMAAAADAAAAAgAAAAMAAAAAAAAAAgAAAAMAAAACAAAAAgAAAAIAAAADAAAAAwAAAAMAAAACAAAAAAAAAAEAAAADAAAAAQAAAAMAAAADAAAAAAAAAAQAAAAAAAAAAAAAAAAAAAAAAAAAAwAAAAIAAAADAAAAAwAAAAMAAAADAAAAAQAAAAEAAAACAAAAAQAAAAMAAAADAAAAAgAAAAMAAAABAAAAAQAAAAAAAAACAAAAAwAAAAMAAAABAAAAAAAAAAMAAAADAAAAAwAAAAEAAAABAAAAAwAAAAMAAAABAAAAAwAAAAAAAAADAAAAAAAAAAMAAAACAAAAAQAAAAEAAAABAAAAAQAAAAIAAAABAAAAAwAAAAEAAAADAAAAAwAAAAIAAAADAAAAAAAAAAQAAAABAAAAAQAAAAMAAAA=\"},\"shape\":[80],\"dtype\":\"int32\",\"order\":\"little\"}],[\"Prior exposure\",{\"type\":\"ndarray\",\"array\":[\"No\",\"No\",\"No\",\"No\",\"No\",\"No\",\"No\",\"No\",\"No\",\"No\",\"No\",\"No\",\"No\",\"No\",\"No\",\"No\",\"No\",\"No\",\"No\",\"No\",\"No\",\"No\",\"No\",\"No\",\"No\",\"No\",\"No\",\"No\",\"No\",\"No\",\"No\",\"No\",\"No\",\"No\",\"No\",\"No\",\"No\",\"No\",\"No\",\"No\",\"No\",\"No\",\"No\",\"No\",\"No\",\"No\",\"No\",\"No\",\"No\",\"No\",\"No\",\"No\",\"No\",\"No\",\"No\",\"No\",\"No\",\"No\",\"No\",\"No\",\"No\",\"No\",\"No\",\"No\",\"No\",\"No\",\"No\",\"No\",\"No\",\"No\",\"No\",\"No\",\"No\",\"No\",\"No\",\"No\",\"No\",\"No\",\"No\",\"No\"],\"shape\":[80],\"dtype\":\"object\",\"order\":\"little\"}],[\"Sleppiness\",{\"type\":\"ndarray\",\"array\":{\"type\":\"bytes\",\"data\":\"BAAAAAYAAAAJAAAACgAAAAYAAAADAAAACQAAAAEAAAAGAAAABAAAAAcAAAAFAAAAAAAAAAUAAAACAAAABwAAAAYAAAAFAAAACgAAAAoAAAAGAAAACAAAAAYAAAAHAAAACQAAAAoAAAAKAAAAAwAAAAoAAAAFAAAAAQAAAAQAAAAGAAAAAwAAAAcAAAADAAAACAAAAAQAAAAHAAAABQAAAAUAAAAGAAAAAwAAAAQAAAACAAAABgAAAAoAAAABAAAAAwAAAAQAAAAJAAAACgAAAAQAAAAEAAAAAgAAAAYAAAAJAAAACAAAAAkAAAAHAAAAAAAAAAgAAAAHAAAACgAAAAoAAAABAAAACAAAAAUAAAAIAAAACQAAAAgAAAAGAAAACAAAAAUAAAAIAAAABgAAAAcAAAAHAAAABQAAAAYAAAA=\"},\"shape\":[80],\"dtype\":\"int32\",\"order\":\"little\"}],[\"Pre-Pleasure\",{\"type\":\"ndarray\",\"array\":{\"type\":\"bytes\",\"data\":\"BwAAAAcAAAAGAAAACQAAAAYAAAAIAAAABgAAAAgAAAAGAAAABgAAAAUAAAAFAAAACAAAAAoAAAADAAAACAAAAAYAAAAKAAAABwAAAAoAAAAGAAAABwAAAAgAAAAHAAAABQAAAAoAAAAIAAAACAAAAAcAAAAGAAAACAAAAAgAAAAIAAAABgAAAAYAAAAGAAAACAAAAAUAAAAHAAAABgAAAAgAAAAHAAAABwAAAAoAAAAGAAAABwAAAAkAAAAJAAAABwAAAAgAAAAJAAAACgAAAAgAAAAHAAAACAAAAAgAAAAHAAAACAAAAAEAAAAIAAAACAAAAAMAAAAHAAAACAAAAAgAAAAIAAAACQAAAAUAAAAHAAAABwAAAAUAAAAIAAAACQAAAAMAAAAIAAAABgAAAAoAAAAGAAAABQAAAAQAAAA=\"},\"shape\":[80],\"dtype\":\"int32\",\"order\":\"little\"}],[\"Prepleasure /2 arrondi\",{\"type\":\"ndarray\",\"array\":{\"type\":\"bytes\",\"data\":\"AgAAAAMAAAAFAAAABQAAAAMAAAACAAAABQAAAAEAAAADAAAAAgAAAAQAAAADAAAAAAAAAAMAAAABAAAABAAAAAMAAAADAAAABQAAAAUAAAADAAAABAAAAAMAAAAEAAAABQAAAAUAAAAFAAAAAgAAAAUAAAADAAAAAQAAAAIAAAADAAAAAgAAAAQAAAACAAAABAAAAAIAAAAEAAAAAwAAAAMAAAADAAAAAgAAAAIAAAABAAAAAwAAAAUAAAABAAAAAgAAAAIAAAAFAAAABQAAAAIAAAACAAAAAQAAAAMAAAAFAAAABAAAAAUAAAAEAAAAAAAAAAQAAAAEAAAABQAAAAUAAAABAAAABAAAAAMAAAAEAAAABQAAAAQAAAADAAAABAAAAAMAAAAEAAAAAwAAAAQAAAAEAAAAAwAAAAMAAAA=\"},\"shape\":[80],\"dtype\":\"int32\",\"order\":\"little\"}],[\"Prepleasure /2\",{\"type\":\"ndarray\",\"array\":{\"type\":\"bytes\",\"data\":\"AAAAAAAADEAAAAAAAAAMQAAAAAAAAAhAAAAAAAAAEkAAAAAAAAAIQAAAAAAAABBAAAAAAAAACEAAAAAAAAAQQAAAAAAAAAhAAAAAAAAACEAAAAAAAAAEQAAAAAAAAARAAAAAAAAAEEAAAAAAAAAUQAAAAAAAAPg/AAAAAAAAEEAAAAAAAAAIQAAAAAAAABRAAAAAAAAADEAAAAAAAAAUQAAAAAAAAAhAAAAAAAAADEAAAAAAAAAQQAAAAAAAAAxAAAAAAAAABEAAAAAAAAAUQAAAAAAAABBAAAAAAAAAEEAAAAAAAAAMQAAAAAAAAAhAAAAAAAAAEEAAAAAAAAAQQAAAAAAAABBAAAAAAAAACEAAAAAAAAAIQAAAAAAAAAhAAAAAAAAAEEAAAAAAAAAEQAAAAAAAAAxAAAAAAAAACEAAAAAAAAAQQAAAAAAAAAxAAAAAAAAADEAAAAAAAAAUQAAAAAAAAAhAAAAAAAAADEAAAAAAAAASQAAAAAAAABJAAAAAAAAADEAAAAAAAAAQQAAAAAAAABJAAAAAAAAAFEAAAAAAAAAQQAAAAAAAAAxAAAAAAAAAEEAAAAAAAAAQQAAAAAAAAAxAAAAAAAAAEEAAAAAAAADgPwAAAAAAABBAAAAAAAAAEEAAAAAAAAD4PwAAAAAAAAxAAAAAAAAAEEAAAAAAAAAQQAAAAAAAABBAAAAAAAAAEkAAAAAAAAAEQAAAAAAAAAxAAAAAAAAADEAAAAAAAAAEQAAAAAAAABBAAAAAAAAAEkAAAAAAAAD4PwAAAAAAABBAAAAAAAAACEAAAAAAAAAUQAAAAAAAAAhAAAAAAAAABEAAAAAAAAAAQA==\"},\"shape\":[80],\"dtype\":\"float64\",\"order\":\"little\"}],[\"Post-Pleasure\",{\"type\":\"ndarray\",\"array\":{\"type\":\"bytes\",\"data\":\"AwAAAAMAAAACAAAAAwAAAAMAAAACAAAAAwAAAAMAAAABAAAAAQAAAAIAAAADAAAAAwAAAAEAAAACAAAAAgAAAAEAAAADAAAABAAAAAQAAAADAAAAAQAAAAQAAAADAAAAAwAAAAMAAAACAAAABAAAAAAAAAACAAAABAAAAAMAAAACAAAAAgAAAAMAAAACAAAAAgAAAAIAAAACAAAAAwAAAAIAAAACAAAAAwAAAAIAAAACAAAAAwAAAAMAAAACAAAABAAAAAIAAAAEAAAABAAAAAIAAAADAAAAAwAAAAMAAAACAAAAAwAAAAIAAAACAAAAAwAAAAIAAAACAAAAAwAAAAMAAAACAAAABAAAAAIAAAADAAAAAwAAAAIAAAADAAAAAQAAAAMAAAADAAAAAwAAAAQAAAACAAAAAwAAAAMAAAA=\"},\"shape\":[80],\"dtype\":\"int32\",\"order\":\"little\"}],[\"Pre Calm\",{\"type\":\"ndarray\",\"array\":{\"type\":\"bytes\",\"data\":\"AgAAAAcAAAACAAAAAgAAAAIAAAABAAAAAgAAAAoAAAAHAAAAAwAAAAUAAAACAAAACgAAAAIAAAADAAAACgAAAAMAAAAKAAAACAAAAAoAAAAGAAAAAwAAAAcAAAAHAAAAAwAAAAAAAAACAAAACAAAAAoAAAAGAAAACQAAAAMAAAAKAAAAAwAAAAYAAAAGAAAABQAAAAkAAAAHAAAAAwAAAAQAAAAIAAAAAQAAAAoAAAACAAAABgAAAAYAAAAKAAAACQAAAAQAAAAKAAAAAQAAAAgAAAAKAAAABwAAAAoAAAAEAAAAAgAAAAoAAAACAAAACQAAAAQAAAADAAAAAgAAAAEAAAAJAAAACQAAAAUAAAABAAAABwAAAAUAAAAEAAAABwAAAAIAAAAJAAAACQAAAAoAAAAHAAAABwAAAAcAAAA=\"},\"shape\":[80],\"dtype\":\"int32\",\"order\":\"little\"}],[\"Pre-calm/2\",{\"type\":\"ndarray\",\"array\":{\"type\":\"bytes\",\"data\":\"AAAAAAAA8D8AAAAAAAAMQAAAAAAAAPA/AAAAAAAA8D8AAAAAAADwPwAAAAAAAOA/AAAAAAAA8D8AAAAAAAAUQAAAAAAAAAxAAAAAAAAA+D8AAAAAAAAEQAAAAAAAAPA/AAAAAAAAFEAAAAAAAADwPwAAAAAAAPg/AAAAAAAAFEAAAAAAAAD4PwAAAAAAABRAAAAAAAAAEEAAAAAAAAAUQAAAAAAAAAhAAAAAAAAA+D8AAAAAAAAMQAAAAAAAAAxAAAAAAAAA+D8AAAAAAAAAAAAAAAAAAPA/AAAAAAAAEEAAAAAAAAAUQAAAAAAAAAhAAAAAAAAAEkAAAAAAAAD4PwAAAAAAABRAAAAAAAAA+D8AAAAAAAAIQAAAAAAAAAhAAAAAAAAABEAAAAAAAAASQAAAAAAAAAxAAAAAAAAA+D8AAAAAAAAAQAAAAAAAABBAAAAAAAAA4D8AAAAAAAAUQAAAAAAAAPA/AAAAAAAACEAAAAAAAAAIQAAAAAAAABRAAAAAAAAAEkAAAAAAAAAAQAAAAAAAABRAAAAAAAAA4D8AAAAAAAAQQAAAAAAAABRAAAAAAAAADEAAAAAAAAAUQAAAAAAAAABAAAAAAAAA8D8AAAAAAAAUQAAAAAAAAPA/AAAAAAAAEkAAAAAAAAAAQAAAAAAAAPg/AAAAAAAA8D8AAAAAAADgPwAAAAAAABJAAAAAAAAAEkAAAAAAAAAEQAAAAAAAAOA/AAAAAAAADEAAAAAAAAAEQAAAAAAAAABAAAAAAAAADEAAAAAAAADwPwAAAAAAABJAAAAAAAAAEkAAAAAAAAAUQAAAAAAAAAxAAAAAAAAADEAAAAAAAAAMQA==\"},\"shape\":[80],\"dtype\":\"float64\",\"order\":\"little\"}],[\"Pre-calm/2 (rounded)\",{\"type\":\"ndarray\",\"array\":{\"type\":\"bytes\",\"data\":\"AQAAAAIAAAABAAAAAQAAAAEAAAAAAAAAAQAAAAMAAAACAAAAAQAAAAEAAAABAAAAAwAAAAEAAAABAAAAAwAAAAEAAAADAAAAAgAAAAMAAAACAAAAAQAAAAIAAAACAAAAAQAAAAAAAAABAAAAAgAAAAMAAAACAAAAAgAAAAEAAAADAAAAAQAAAAIAAAACAAAAAQAAAAIAAAACAAAAAQAAAAEAAAACAAAAAAAAAAMAAAABAAAAAgAAAAIAAAADAAAAAgAAAAEAAAADAAAAAAAAAAIAAAADAAAAAgAAAAMAAAABAAAAAQAAAAMAAAABAAAAAgAAAAEAAAABAAAAAQAAAAAAAAACAAAAAgAAAAEAAAAAAAAAAgAAAAEAAAABAAAAAgAAAAEAAAACAAAAAgAAAAMAAAACAAAAAgAAAAIAAAA=\"},\"shape\":[80],\"dtype\":\"int32\",\"order\":\"little\"}],[\"Post Calm\",{\"type\":\"ndarray\",\"array\":{\"type\":\"bytes\",\"data\":\"AgAAAAMAAAACAAAAAgAAAAIAAAACAAAAAwAAAAEAAAACAAAAAgAAAAIAAAABAAAAAQAAAAEAAAACAAAAAgAAAAEAAAADAAAAAwAAAAQAAAADAAAAAQAAAAQAAAACAAAAAgAAAAIAAAADAAAAAgAAAAAAAAABAAAABAAAAAIAAAADAAAAAwAAAAIAAAACAAAAAQAAAAEAAAADAAAAAwAAAAMAAAACAAAAAgAAAAQAAAACAAAAAgAAAAIAAAACAAAAAgAAAAIAAAACAAAAAwAAAAIAAAACAAAAAwAAAAEAAAABAAAAAwAAAAIAAAACAAAAAwAAAAMAAAACAAAAAgAAAAMAAAACAAAABAAAAAIAAAADAAAAAwAAAAMAAAAEAAAAAAAAAAMAAAADAAAAAgAAAAQAAAACAAAAAwAAAAIAAAA=\"},\"shape\":[80],\"dtype\":\"int32\",\"order\":\"little\"}],[\"Pre NEO\",{\"type\":\"ndarray\",\"array\":{\"type\":\"bytes\",\"data\":\"DAAAAAYAAAAEAAAABQAAAAMAAAAEAAAACQAAAAsAAAAFAAAAAwAAAAUAAAAKAAAACQAAAAcAAAAGAAAAAQAAAAgAAAAIAAAAAQAAAAcAAAAJAAAABgAAAAgAAAAFAAAACAAAAAkAAAAAAAAABwAAAAoAAAAAAAAABwAAAAQAAAAHAAAAAgAAAAYAAAAHAAAABwAAAAwAAAAKAAAACQAAAAoAAAADAAAAAwAAAAgAAAAFAAAABQAAAAwAAAAHAAAAAgAAAAkAAAAMAAAAAgAAAAUAAAAJAAAAAwAAAAkAAAAFAAAACAAAAAYAAAAGAAAACgAAAAIAAAACAAAABgAAAAcAAAADAAAABgAAAAYAAAADAAAABwAAAAMAAAAHAAAACwAAAAIAAAAHAAAA/v///wwAAAAEAAAACAAAAAUAAAA=\"},\"shape\":[80],\"dtype\":\"int32\",\"order\":\"little\"}],[\"Post NEO\",{\"type\":\"ndarray\",\"array\":{\"type\":\"bytes\",\"data\":\"DwAAAAkAAAAKAAAACQAAAAgAAAAKAAAADQAAAA4AAAAJAAAABwAAAAkAAAANAAAADQAAAAkAAAAHAAAABAAAAA0AAAAJAAAACgAAAAoAAAAMAAAACwAAAA0AAAAHAAAACwAAAA0AAAAFAAAADAAAAAcAAAAFAAAACQAAAAwAAAANAAAACgAAAAoAAAAKAAAACgAAAA8AAAAIAAAADAAAAA4AAAAFAAAACQAAAAsAAAAGAAAABgAAAA8AAAAJAAAABwAAAAwAAAAQAAAACQAAAAkAAAAMAAAACAAAAAwAAAAKAAAADAAAAAsAAAAMAAAACgAAAAYAAAAFAAAABQAAAA0AAAAGAAAACgAAAAQAAAAKAAAACwAAAAkAAAANAAAADAAAAAgAAAALAAAABQAAAA0AAAALAAAACQAAAAkAAAA=\"},\"shape\":[80],\"dtype\":\"int32\",\"order\":\"little\"}],[\"Diff NEO\",{\"type\":\"ndarray\",\"array\":{\"type\":\"bytes\",\"data\":\"AwAAAAMAAAAGAAAABAAAAAUAAAAGAAAABAAAAAMAAAAEAAAABAAAAAQAAAADAAAABAAAAAIAAAABAAAAAwAAAAUAAAABAAAACQAAAAMAAAADAAAABQAAAAUAAAACAAAAAwAAAAQAAAAFAAAABQAAAP3///8FAAAAAgAAAAgAAAAGAAAACAAAAAQAAAADAAAAAwAAAAMAAAD+////AwAAAAQAAAACAAAABgAAAAMAAAABAAAAAQAAAAMAAAACAAAABQAAAAMAAAAEAAAABwAAAAQAAAADAAAABQAAAAMAAAAFAAAABAAAAAUAAAAGAAAAAAAAAAQAAAADAAAA/////wYAAAADAAAABAAAAP7///8HAAAABAAAAAYAAAAGAAAAAQAAAAYAAAAEAAAABwAAAAEAAAAHAAAAAQAAAAQAAAA=\"},\"shape\":[80],\"dtype\":\"int32\",\"order\":\"little\"}],[\"Total NEO\",{\"type\":\"ndarray\",\"array\":{\"type\":\"bytes\",\"data\":\"GwAAAA8AAAAOAAAADgAAAAsAAAAOAAAAFgAAABkAAAAOAAAACgAAAA4AAAAXAAAAFgAAABAAAAANAAAABQAAABUAAAARAAAACwAAABEAAAAVAAAAEQAAABUAAAAMAAAAEwAAABYAAAAFAAAAEwAAABEAAAAFAAAAEAAAABAAAAAUAAAADAAAABAAAAARAAAAEQAAABsAAAASAAAAFQAAABgAAAAIAAAADAAAABMAAAALAAAACwAAABsAAAAQAAAACQAAABUAAAAcAAAACwAAAA4AAAAVAAAACwAAABUAAAAPAAAAFAAAABEAAAASAAAAFAAAAAgAAAAHAAAACwAAABQAAAAJAAAAEAAAAAoAAAANAAAAEgAAAAwAAAAUAAAAFwAAAAoAAAASAAAAAwAAABkAAAAPAAAAEQAAAA4AAAA=\"},\"shape\":[80],\"dtype\":\"int32\",\"order\":\"little\"}],[\"Emotion drift\",{\"type\":\"ndarray\",\"array\":{\"type\":\"bytes\",\"data\":\"jSSpm3fj8T8eFYFmnqDmPz6YZWaeoPY/wMRzRCvY/D8AAAAAAADwPwAAAAAAAARAAAAAAAAAAECTfrZmD34QQAAAAAAAAARAk362Zg9+AEAeFYFmnqDmPwAAAAAAAOA/k362Zg9+EEAAAAAAAAAQQB4VgWaeoOY/qGhRRCvYDECTfrZmD34AQFb0h2aeoAZAjSSpm3fj8T8+mGVmnqD2PwAAAAAAAAAA6i4ZX2VlBEAAAAAAAADgPz6S1DpYTPk/HhWBZp6g5j9W9IdmnqAGQFb0h2aeoAZAAAAAAAAAAEDeDF+owWkYQHXIhpt34wFAAAAAAAAA4D+NJKmbd+PxP1b0h2aeoAZAwMRzRCvY/D8AAAAAAADwPz6YZWaeoPY/AAAAAAAABEBlWiEAxkgMQD6S1DpYTPk/AAAAAAAA+D91yIabd+MBQAAAAAAAAARAPpLUOlhM+T8+ktQ6WEwJQD6YZWaeoPY/jSSpm3fj8T/AxHNEK9j8P/IOUBeyPQ9A6i4ZX2VlBEAAAAAAAAAAQKS8XrO/VAhAcbi3pGiKBUBW9IdmnqAGQKS8XrO/VAhAjSSpm3fj8T+TfrZmD34QQMDEc0Qr2Pw/dciGm3fjAUC8WltpM9UKQHXIhpt34wFAwMRzRCvY/D+NJKmbd+PxPz6S1DpYTPk/PphlZp6g9j9xuLekaIoFQFy9qZnMnAlAHhWBZp6g5j8eFYFmnqDmP+ouGV9lZQRAHhWBZp6g5j8eFYFmnqDmP3XIhpt34wFAQhOqmYrME0AAAAAAAAAEQMDEc0Qr2Pw/AAAAAAAABEA+mGVmnqD2P8DEc0Qr2Pw/HhWBZp6g5j/AxHNEK9j8Pw==\"},\"shape\":[80],\"dtype\":\"float64\",\"order\":\"little\"}],[\"Direction\",{\"type\":\"ndarray\",\"array\":[\"-0.5463024898\",\"1.557407725\",\"-1.557407725\",\"-14.10141995\",\"0\",\"-4.131728991\",\"0\",\"0.2553419212\",\"4.131728991\",\"-1.157821282\",\"1.557407725\",\"#DIV/0!\",\"0.2553419212\",\"#DIV/0!\",\"1.557407725\",\"0.7868428895\",\"1.157821282\",\"1.557407725\",\"-0.5463024898\",\"1.557407725\",\"#DIV/0!\",\"-3.380515006\",\"0\",\"0.3462535495\",\"1.557407725\",\"-1.557407725\",\"-1.557407725\",\"0\",\"0.8422883805\",\"0.5463024898\",\"0\",\"2.185039863\",\"1.557407725\",\"-0.7868428895\",\"0\",\"1.557407725\",\"4.131728991\",\"0.1438369594\",\"-0.1425465431\",\"0\",\"2.185039863\",\"0.9315964599\",\"-0.3462535495\",\"-0.1425465431\",\"-1.557407725\",\"0.5463024898\",\"14.10141995\",\"1.100778369\",\"-0.2027100355\",\"#DIV/0!\",\"0.1682272183\",\"-0.4227932187\",\"1.557407725\",\"0.1682272183\",\"-2.185039863\",\"0.2553419212\",\"14.10141995\",\"-0.5463024898\",\"-0.5463024898\",\"2.185039863\",\"0.7868428895\",\"0.5463024898\",\"0.1425465431\",\"-1.557407725\",\"-0.4227932187\",\"1.029638557\",\"1.557407725\",\"1.557407725\",\"-0.2027100355\",\"1.557407725\",\"-1.557407725\",\"-0.5463024898\",\"1.557407725\",\"0.9315964599\",\"0.7868428895\",\"0\",\"1.557407725\",\"0.7868428895\",\"-1.557407725\",\"-0.7868428895\"],\"shape\":[80],\"dtype\":\"object\",\"order\":\"little\"}],[\"Tan inverse\",{\"type\":\"ndarray\",\"array\":{\"type\":\"bytes\",\"data\":\"loJhBWes3b/ghkRU+yHpP+CGRFT7Iem/XXV70gtz778AAAAAAAAAAJaCYQVnrO2/AAAAAAAAAAASvB35dVvPP5aCYQVnrO0/BW01lYw29b/ghkRU+yHpPx+F61G4Hvk/Erwd+XVbzz8fhetRuB75v+CGRFT7Iek/89n/1erQ4j8FbTWVjDb1P+CGRFT7Iek/loJhBWes3b/ghkRU+yHpPwAAAAAAAAAAoQ8pFXP59T8AAAAAAAAAACqLJ6OPl9Q/4IZEVPsh6T/ghkRU+yHpv+CGRFT7Iem/AAAAAAAAAABeUH0tEYvjP5aCYQVnrN0/AAAAAAAAAACq5PmS4bbxv+CGRFT7Iek/89n/1erQ4r8AAAAAAAAAAOCGRFT7Iek/loJhBWes7T/X7nPErinCPzYnX2sX/PM/AAAAAAAAAACq5PmS4bbxvyqLJ6OPl+Q/Kosno4+X1L82J19rF/zzP+CGRFT7Iem/loJhBWes3T9ddXvSC3PvP4ne8cNLO+Y/9Lnb+EFEyb8fhetRuB75v1KQNISXI8U/phdkazda2L/ghkRU+yHpP1KQNISXI8U/quT5kuG28T8SvB35dVvPP111e9ILc+8/loJhBWes3b+WgmEFZ6zdv6rk+ZLhtvG/89n/1erQ4j+WgmEFZ6zdPzYnX2sX/PO/4IZEVPsh6b+mF2RrN1rYv+OtAFF6l+U/4IZEVPsh6T/ghkRU+yHpP/S52/hBRMm/4IZEVPsh6T/ghkRU+yHpv5aCYQVnrN2/4IZEVPsh6T8qiyejj5fkP/PZ/9Xq0OI/AAAAAAAAAADghkRU+yHpP/PZ/9Xq0OI/4IZEVPsh6b/z2f/V6tDivw==\"},\"shape\":[80],\"dtype\":\"float64\",\"order\":\"little\"}],[\"Calm Diff\",{\"type\":\"ndarray\",\"array\":{\"type\":\"bytes\",\"data\":\"AAAAAAAA8D8AAAAAAADgvwAAAAAAAPA/AAAAAAAA8D8AAAAAAADwPwAAAAAAAPg/AAAAAAAAAEAAAAAAAAAQwAAAAAAAAPi/AAAAAAAA4D8AAAAAAADgvwAAAAAAAAAAAAAAAAAAEMAAAAAAAAAAAAAAAAAAAOA/AAAAAAAACMAAAAAAAADgvwAAAAAAAADAAAAAAAAA8L8AAAAAAADwvwAAAAAAAAAAAAAAAAAA4L8AAAAAAADgPwAAAAAAAPi/AAAAAAAA4D8AAAAAAAAAQAAAAAAAAABAAAAAAAAAAMAAAAAAAAAUwAAAAAAAAADAAAAAAAAA4L8AAAAAAADgPwAAAAAAAADAAAAAAAAA+D8AAAAAAADwvwAAAAAAAPC/AAAAAAAA+L8AAAAAAAAMwAAAAAAAAOC/AAAAAAAA+D8AAAAAAADwPwAAAAAAAADAAAAAAAAA+D8AAAAAAADwvwAAAAAAAPA/AAAAAAAA8L8AAAAAAADwvwAAAAAAAAjAAAAAAAAABMAAAAAAAAAAAAAAAAAAAAjAAAAAAAAABEAAAAAAAAAAwAAAAAAAAAjAAAAAAAAA4L8AAAAAAAAQwAAAAAAAAPC/AAAAAAAAAEAAAAAAAAAIwAAAAAAAAPA/AAAAAAAA+L8AAAAAAADwPwAAAAAAAOA/AAAAAAAA8D8AAAAAAAAEQAAAAAAAAATAAAAAAAAA4L8AAAAAAADgvwAAAAAAAARAAAAAAAAA4L8AAAAAAADgPwAAAAAAAABAAAAAAAAADMAAAAAAAAAAQAAAAAAAAPi/AAAAAAAABMAAAAAAAADwvwAAAAAAAPi/AAAAAAAA4L8AAAAAAAD4vw==\"},\"shape\":[80],\"dtype\":\"float64\",\"order\":\"little\"}],[\"Pleasure Diff\",{\"type\":\"ndarray\",\"array\":{\"type\":\"bytes\",\"data\":\"AAAAAAAA4L8AAAAAAADgvwAAAAAAAPC/AAAAAAAA+L8AAAAAAAAAAAAAAAAAAADAAAAAAAAAAAAAAAAAAADwvwAAAAAAAADAAAAAAAAAAMAAAAAAAADgvwAAAAAAAOA/AAAAAAAA8L8AAAAAAAAQwAAAAAAAAOA/AAAAAAAAAMAAAAAAAAAAwAAAAAAAAADAAAAAAAAA4D8AAAAAAADwvwAAAAAAAAAAAAAAAAAABMAAAAAAAAAAAAAAAAAAAOC/AAAAAAAA4D8AAAAAAAAAwAAAAAAAAADAAAAAAAAAAAAAAAAAAAAMwAAAAAAAAPC/AAAAAAAAAAAAAAAAAADwvwAAAAAAAADAAAAAAAAA8L8AAAAAAAAAAAAAAAAAAPC/AAAAAAAAAMAAAAAAAADgvwAAAAAAAPi/AAAAAAAAAAAAAAAAAAAAwAAAAAAAAPi/AAAAAAAA4L8AAAAAAAAIwAAAAAAAAPC/AAAAAAAA4L8AAAAAAAD4vwAAAAAAAATAAAAAAAAA4D8AAAAAAAAAwAAAAAAAAOC/AAAAAAAA8L8AAAAAAAAAwAAAAAAAAOC/AAAAAAAA8L8AAAAAAADwvwAAAAAAAPi/AAAAAAAA8L8AAAAAAAD4PwAAAAAAAADAAAAAAAAA8L8AAAAAAADgPwAAAAAAAPi/AAAAAAAA8L8AAAAAAADwvwAAAAAAAADAAAAAAAAA4L8AAAAAAADgvwAAAAAAAOC/AAAAAAAA4L8AAAAAAADgvwAAAAAAAPC/AAAAAAAADMAAAAAAAAD4PwAAAAAAAPC/AAAAAAAAAAAAAAAAAADwvwAAAAAAAPC/AAAAAAAA4D8AAAAAAADwPw==\"},\"shape\":[80],\"dtype\":\"float64\",\"order\":\"little\"}],[\"Tan inverse.1\",{\"type\":\"ndarray\",\"array\":{\"type\":\"bytes\",\"data\":\"loJhBWes3b/ghkRU+yHpP+CGRFT7Iem/XXV70gtz778AAAAAAAAAAJaCYQVnrO2/AAAAAAAAAAASvB35dVvPP5aCYQVnrO0/BW01lYw29b/ghkRU+yHpPx+F61G4Hvk/Erwd+XVbzz8fhetRuB75v+CGRFT7Iek/89n/1erQ4j8FbTWVjDb1P+CGRFT7Iek/loJhBWes3b/ghkRU+yHpPwAAAAAAAAAAoQ8pFXP59T8AAAAAAAAAACqLJ6OPl9Q/4IZEVPsh6T/ghkRU+yHpv+CGRFT7Iem/AAAAAAAAAABeUH0tEYvjP5aCYQVnrN0/AAAAAAAAAACq5PmS4bbxv+CGRFT7Iek/89n/1erQ4r8AAAAAAAAAAOCGRFT7Iek/loJhBWes7T/X7nPErinCPzYnX2sX/PM/AAAAAAAAAACq5PmS4bbxvyqLJ6OPl+Q/Kosno4+X1L82J19rF/zzP+CGRFT7Iem/loJhBWes3T9ddXvSC3PvP4ne8cNLO+Y/9Lnb+EFEyb8fhetRuB75v1KQNISXI8U/phdkazda2L/ghkRU+yHpP1KQNISXI8U/quT5kuG28T8SvB35dVvPP111e9ILc+8/loJhBWes3b+WgmEFZ6zdv6rk+ZLhtvG/89n/1erQ4j+WgmEFZ6zdPzYnX2sX/PO/4IZEVPsh6b+mF2RrN1rYv+OtAFF6l+U/4IZEVPsh6T/ghkRU+yHpP/S52/hBRMm/4IZEVPsh6T/ghkRU+yHpv5aCYQVnrN2/4IZEVPsh6T8qiyejj5fkP/PZ/9Xq0OI/AAAAAAAAAADghkRU+yHpP/PZ/9Xq0OI/4IZEVPsh6b/z2f/V6tDivw==\"},\"shape\":[80],\"dtype\":\"float64\",\"order\":\"little\"}],[\"Chill Rating\",{\"type\":\"ndarray\",\"array\":[\"6.7\",\"2.2\",\"6.7\",\"6.7\",\"7.8\",\"6.7\",\"7.8\",\"3.3\",\"3.3\",\"5.6\",\"2.2\",\"5.6\",\"3.3\",\"4.4\",\"6.7\",\"3.3\",\"3.3\",\"3.3\",\"5.6\",\"3.3\",\"3.3\",\"3.3\",\"5.6\",\"3.3\",\"6.7\",\"6.7\",\"6.7\",\"4.4\",\"3.3\",\"3.3\",\"3.3\",\"5.6\",\"3.3\",\"6.7\",\"4.4\",\"3.3\",\"3.3\",\"3.3\",\"3.3\",\"7.8\",\"6.7\",\"3.3\",\"6.7\",\"3.3\",\"6.7\",\"3.3\",\"3.3\",\"3.3\",\"5.6\",\"4.4\",\"3.3\",\"6.7\",\"3.3\",\"3.3\",\"3.3\",\"3.3\",\"3.3\",\"6.7\",\"6.7\",\"6.7\",\"3.3\",\"8.9\",\"5.6\",\"6.7\",\"6.7\",\"3.3\",\"2.2\",\"2.2\",\"6.7\",\"2.2\",\"4.4\",\"6.7\",\"3.3\",\"10.0\",\"3.3\",\"4.4\",\"3.3\",\"3.3\",\"4.4\",\"6.7\"],\"shape\":[80],\"dtype\":\"object\",\"order\":\"little\"}],[\"colors\",{\"type\":\"ndarray\",\"array\":[\"#1f77b4\",\"#ff7f0e\",\"#2ca02c\",\"#d62728\",\"#9467bd\",\"#8c564b\",\"#e377c2\",\"#7f7f7f\",\"#bcbd22\",\"#17becf\",\"#1f77b4\",\"#ff7f0e\",\"#2ca02c\",\"#d62728\",\"#9467bd\",\"#8c564b\",\"#e377c2\",\"#7f7f7f\",\"#bcbd22\",\"#17becf\",\"#1f77b4\",\"#ff7f0e\",\"#2ca02c\",\"#d62728\",\"#9467bd\",\"#8c564b\",\"#e377c2\",\"#7f7f7f\",\"#bcbd22\",\"#17becf\",\"#1f77b4\",\"#ff7f0e\",\"#2ca02c\",\"#d62728\",\"#9467bd\",\"#8c564b\",\"#e377c2\",\"#7f7f7f\",\"#bcbd22\",\"#17becf\",\"#1f77b4\",\"#ff7f0e\",\"#2ca02c\",\"#d62728\",\"#9467bd\",\"#8c564b\",\"#e377c2\",\"#7f7f7f\",\"#bcbd22\",\"#17becf\",\"#1f77b4\",\"#ff7f0e\",\"#2ca02c\",\"#d62728\",\"#9467bd\",\"#8c564b\",\"#e377c2\",\"#7f7f7f\",\"#bcbd22\",\"#17becf\",\"#1f77b4\",\"#ff7f0e\",\"#2ca02c\",\"#d62728\",\"#9467bd\",\"#8c564b\",\"#e377c2\",\"#7f7f7f\",\"#bcbd22\",\"#17becf\",\"#1f77b4\",\"#ff7f0e\",\"#2ca02c\",\"#d62728\",\"#9467bd\",\"#8c564b\",\"#e377c2\",\"#7f7f7f\",\"#bcbd22\",\"#17becf\"],\"shape\":[80],\"dtype\":\"object\",\"order\":\"little\"}]]}}},\"view\":{\"type\":\"object\",\"name\":\"CDSView\",\"id\":\"p1160\",\"attributes\":{\"filter\":{\"type\":\"object\",\"name\":\"AllIndices\",\"id\":\"p1161\"}}},\"glyph\":{\"type\":\"object\",\"name\":\"Circle\",\"id\":\"p1156\",\"attributes\":{\"x\":{\"type\":\"field\",\"field\":\"Chills #\"},\"y\":{\"type\":\"field\",\"field\":\"Chill Intensity\"},\"line_color\":{\"type\":\"value\",\"value\":null},\"fill_color\":{\"type\":\"field\",\"field\":\"colors\"},\"fill_alpha\":{\"type\":\"value\",\"value\":0.6},\"radius\":{\"type\":\"value\",\"value\":1}}},\"nonselection_glyph\":{\"type\":\"object\",\"name\":\"Circle\",\"id\":\"p1157\",\"attributes\":{\"x\":{\"type\":\"field\",\"field\":\"Chills #\"},\"y\":{\"type\":\"field\",\"field\":\"Chill Intensity\"},\"line_color\":{\"type\":\"value\",\"value\":null},\"line_alpha\":{\"type\":\"value\",\"value\":0.1},\"fill_color\":{\"type\":\"field\",\"field\":\"colors\"},\"fill_alpha\":{\"type\":\"value\",\"value\":0.1},\"hatch_alpha\":{\"type\":\"value\",\"value\":0.1},\"radius\":{\"type\":\"value\",\"value\":1}}},\"muted_glyph\":{\"type\":\"object\",\"name\":\"Circle\",\"id\":\"p1158\",\"attributes\":{\"x\":{\"type\":\"field\",\"field\":\"Chills #\"},\"y\":{\"type\":\"field\",\"field\":\"Chill Intensity\"},\"line_color\":{\"type\":\"value\",\"value\":null},\"line_alpha\":{\"type\":\"value\",\"value\":0.2},\"fill_color\":{\"type\":\"field\",\"field\":\"colors\"},\"fill_alpha\":{\"type\":\"value\",\"value\":0.2},\"hatch_alpha\":{\"type\":\"value\",\"value\":0.2},\"radius\":{\"type\":\"value\",\"value\":1}}}}}],\"toolbar\":{\"type\":\"object\",\"name\":\"Toolbar\",\"id\":\"p1135\",\"attributes\":{\"tools\":[{\"type\":\"object\",\"name\":\"HoverTool\",\"id\":\"p1125\",\"attributes\":{\"renderers\":\"auto\",\"tooltips\":null,\"mode\":\"vline\"}},{\"type\":\"object\",\"name\":\"WheelZoomTool\",\"id\":\"p1148\",\"attributes\":{\"renderers\":\"auto\"}},{\"type\":\"object\",\"name\":\"PanTool\",\"id\":\"p1149\"}]}},\"left\":[{\"type\":\"object\",\"name\":\"LinearAxis\",\"id\":\"p1143\",\"attributes\":{\"ticker\":{\"type\":\"object\",\"name\":\"BasicTicker\",\"id\":\"p1144\",\"attributes\":{\"mantissas\":[1,2,5]}},\"formatter\":{\"type\":\"object\",\"name\":\"BasicTickFormatter\",\"id\":\"p1145\"},\"axis_label_standoff\":10,\"axis_label_text_color\":\"#E0E0E0\",\"axis_label_text_font\":\"Helvetica\",\"axis_label_text_font_size\":\"1.25em\",\"axis_label_text_font_style\":\"normal\",\"major_label_policy\":{\"type\":\"object\",\"name\":\"AllLabels\",\"id\":\"p1146\"},\"major_label_text_color\":\"#E0E0E0\",\"major_label_text_font\":\"Helvetica\",\"major_label_text_font_size\":\"1.025em\",\"axis_line_color\":\"#E0E0E0\",\"axis_line_alpha\":0,\"major_tick_line_color\":\"#E0E0E0\",\"major_tick_line_alpha\":0,\"minor_tick_line_color\":\"#E0E0E0\",\"minor_tick_line_alpha\":0}}],\"below\":[{\"type\":\"object\",\"name\":\"LinearAxis\",\"id\":\"p1138\",\"attributes\":{\"ticker\":{\"type\":\"object\",\"name\":\"BasicTicker\",\"id\":\"p1139\",\"attributes\":{\"mantissas\":[1,2,5]}},\"formatter\":{\"type\":\"object\",\"name\":\"BasicTickFormatter\",\"id\":\"p1140\"},\"axis_label_standoff\":10,\"axis_label_text_color\":\"#E0E0E0\",\"axis_label_text_font\":\"Helvetica\",\"axis_label_text_font_size\":\"1.25em\",\"axis_label_text_font_style\":\"normal\",\"major_label_policy\":{\"type\":\"object\",\"name\":\"AllLabels\",\"id\":\"p1141\"},\"major_label_text_color\":\"#E0E0E0\",\"major_label_text_font\":\"Helvetica\",\"major_label_text_font_size\":\"1.025em\",\"axis_line_color\":\"#E0E0E0\",\"axis_line_alpha\":0,\"major_tick_line_color\":\"#E0E0E0\",\"major_tick_line_alpha\":0,\"minor_tick_line_color\":\"#E0E0E0\",\"minor_tick_line_alpha\":0}}],\"center\":[{\"type\":\"object\",\"name\":\"Grid\",\"id\":\"p1142\",\"attributes\":{\"axis\":{\"id\":\"p1138\"},\"grid_line_color\":\"#E0E0E0\",\"grid_line_alpha\":0.25}},{\"type\":\"object\",\"name\":\"Grid\",\"id\":\"p1147\",\"attributes\":{\"dimension\":1,\"axis\":{\"id\":\"p1143\"},\"grid_line_color\":\"#E0E0E0\",\"grid_line_alpha\":0.25}}],\"background_fill_color\":\"#20262B\",\"border_fill_color\":\"#15191C\"}}]}};\n",
              "  const render_items = [{\"docid\":\"b915ec90-1578-44df-9c59-bd66c6204f09\",\"roots\":{\"p1126\":\"c8f838d1-bd37-43a0-bdf1-8e3f7c92ef0a\"},\"root_ids\":[\"p1126\"]}];\n",
              "  root.Bokeh.embed.embed_items_notebook(docs_json, render_items);\n",
              "  }\n",
              "  if (root.Bokeh !== undefined) {\n",
              "    embed_document(root);\n",
              "  } else {\n",
              "    let attempts = 0;\n",
              "    const timer = setInterval(function(root) {\n",
              "      if (root.Bokeh !== undefined) {\n",
              "        clearInterval(timer);\n",
              "        embed_document(root);\n",
              "      } else {\n",
              "        attempts++;\n",
              "        if (attempts > 100) {\n",
              "          clearInterval(timer);\n",
              "          console.log(\"Bokeh: ERROR: Unable to run BokehJS code because BokehJS library is missing\");\n",
              "        }\n",
              "      }\n",
              "    }, 10, root)\n",
              "  }\n",
              "})(window);"
            ],
            "application/vnd.bokehjs_exec.v0+json": ""
          },
          "metadata": {
            "application/vnd.bokehjs_exec.v0+json": {
              "id": "p1126"
            }
          }
        }
      ]
    },
    {
      "cell_type": "code",
      "source": [
        "# a few visualizations to explore the data\n",
        "import seaborn as sns\n",
        "import matplotlib.pyplot as plt\n",
        "\n",
        "sns.countplot(x= 'Pleasure Diff', data=df)\n",
        "plt.style.use('dark_background')\n",
        "plt.title('Range of Pleasure Diff')\n",
        "plt.show()"
      ],
      "metadata": {
        "colab": {
          "base_uri": "https://localhost:8080/",
          "height": 472
        },
        "id": "Ft8_lsmXhqqt",
        "outputId": "aa425357-00d3-4e65-a85c-50feb03b9e48"
      },
      "execution_count": null,
      "outputs": [
        {
          "output_type": "display_data",
          "data": {
            "text/plain": [
              "<Figure size 640x480 with 1 Axes>"
            ],
            "image/png": "[encoded data removed]"
          },
          "metadata": {}
        }
      ]
    },
    {
      "cell_type": "code",
      "source": [
        "# Chills # and Chill Rating\n",
        "\n",
        "sns.countplot(x='Chills #', data=df)\n",
        "plt.style.use('dark_background')\n",
        "plt.title('Range of Chills #')\n",
        "plt.show()\n",
        "\n",
        "sns.countplot(x='Chill Rating', data=df)\n",
        "plt.style.use('dark_background')\n",
        "plt.title('Range of Chill Ratings')\n",
        "plt.show()\n"
      ],
      "metadata": {
        "colab": {
          "base_uri": "https://localhost:8080/",
          "height": 927
        },
        "id": "YdUyFLCpmV6I",
        "outputId": "22969510-0b76-45f6-b8e1-1595cc61950e"
      },
      "execution_count": null,
      "outputs": [
        {
          "output_type": "display_data",
          "data": {
            "text/plain": [
              "<Figure size 640x480 with 1 Axes>"
            ],
            "image/png": "[encoded data removed]"
          },
          "metadata": {}
        },
        {
          "output_type": "display_data",
          "data": {
            "text/plain": [
              "<Figure size 640x480 with 1 Axes>"
            ],
            "image/png": "[encoded data removed]"
          },
          "metadata": {}
        }
      ]
    },
    {
      "cell_type": "code",
      "source": [
        "# A few more\n",
        "sns.countplot(x='Chill Intensity', data=df)\n",
        "plt.style.use('dark_background')\n",
        "plt.title('Range of Chill Intensity')\n",
        "plt.show()\n",
        "\n",
        "sns.countplot(x='Daily Chills', data=df)\n",
        "plt.style.use('dark_background')\n",
        "plt.title('Range of Daily Chills')\n",
        "plt.show()"
      ],
      "metadata": {
        "colab": {
          "base_uri": "https://localhost:8080/",
          "height": 927
        },
        "id": "pOZiU9ifppN-",
        "outputId": "a7e004b6-f1dd-4494-9a31-cd0aad23f6f3"
      },
      "execution_count": null,
      "outputs": [
        {
          "output_type": "display_data",
          "data": {
            "text/plain": [
              "<Figure size 640x480 with 1 Axes>"
            ],
            "image/png": "[encoded data removed]"
          },
          "metadata": {}
        },
        {
          "output_type": "display_data",
          "data": {
            "text/plain": [
              "<Figure size 640x480 with 1 Axes>"
            ],
            "image/png": "[encoded data removed]"
          },
          "metadata": {}
        }
      ]
    },
    {
      "cell_type": "code",
      "source": [
        "# Calculate the correlation matrix for your selected columns\n",
        "selected_columns = ['Chills #', 'Chill Intensity', 'Daily Chills', 'Pleasure Diff', 'Emotion drift', 'Chill Rating']\n",
        "corr = df[selected_columns].corr()\n",
        "\n",
        "print(corr)"
      ],
      "metadata": {
        "colab": {
          "base_uri": "https://localhost:8080/"
        },
        "id": "V2HH01jn43m7",
        "outputId": "787b81ae-a9bc-4cb6-d346-251b6b2780bd"
      },
      "execution_count": null,
      "outputs": [
        {
          "output_type": "stream",
          "name": "stdout",
          "text": [
            "                     Chills #  Chill Intensity  Daily Chills  Pleasure Diff  \\\n",
            "Chills #         1.000000e+00         0.692152 -7.125541e-17       0.243660   \n",
            "Chill Intensity  6.921519e-01         1.000000  2.041475e-01       0.280296   \n",
            "Daily Chills    -7.125541e-17         0.204147  1.000000e+00      -0.277070   \n",
            "Pleasure Diff    2.436602e-01         0.280296 -2.770701e-01       1.000000   \n",
            "Emotion drift   -7.990091e-02        -0.155129  6.265514e-02      -0.564080   \n",
            "\n",
            "                 Emotion drift  \n",
            "Chills #             -0.079901  \n",
            "Chill Intensity      -0.155129  \n",
            "Daily Chills          0.062655  \n",
            "Pleasure Diff        -0.564080  \n",
            "Emotion drift         1.000000  \n"
          ]
        },
        {
          "output_type": "stream",
          "name": "stderr",
          "text": [
            "<ipython-input-83-a7164c62bda3>:3: FutureWarning: The default value of numeric_only in DataFrame.corr is deprecated. In a future version, it will default to False. Select only valid columns or specify the value of numeric_only to silence this warning.\n",
            "  corr = df[selected_columns].corr()\n"
          ]
        }
      ]
    },
    {
      "cell_type": "code",
      "source": [
        "# Create a grcontour graph of matrix\n",
        "# Create a mask for the upper triangle\n",
        "mask = np.triu(np.ones_like(corr, dtype=bool))\n",
        "\n",
        "# Set up the matplotlib figure\n",
        "f, ax = plt.subplots(figsize=(13, 3))\n",
        "\n",
        "# Generate a custom diverging colormap\n",
        "cmap = sns.diverging_palette(230, 20, as_cmap=True)\n",
        "\n",
        "# Draw the heatmap with the mask and correct aspect ratio\n",
        "sns.heatmap(corr, mask=mask, cmap=cmap, vmax=.3, center=0,\n",
        "            square=True, linewidths=.5, cbar_kws={\"shrink\": .5})\n",
        "\n",
        "plt.show()"
      ],
      "metadata": {
        "colab": {
          "base_uri": "https://localhost:8080/",
          "height": 372
        },
        "id": "ToyPl2LHr0qm",
        "outputId": "b1e85e47-78ed-491c-a6d1-7d7ec5747842"
      },
      "execution_count": null,
      "outputs": [
        {
          "output_type": "display_data",
          "data": {
            "text/plain": [
              "<Figure size 1300x300 with 2 Axes>"
            ],
            "image/png": "[encoded data removed]"
          },
          "metadata": {}
        }
      ]
    },
    {
      "cell_type": "code",
      "source": [
        "from bokeh.palettes import Category10\n",
        "from bokeh.transform import factor_cmap\n",
        "\n",
        "# Create a list of unique colors for each circle\n",
        "colors = [Category10[10][i % 10] for i in range(len(df))]\n",
        "\n",
        "# Add the colors to your DataFrame\n",
        "df['colors'] = colors\n",
        "\n",
        "# Create a new plot with the HoverTool\n",
        "hover = HoverTool(tooltips=None, mode=\"vline\")\n",
        "p = figure(tools=[hover, 'wheel_zoom', 'pan'], title=\"Pleasure Diff and Chill Intensity\")\n",
        "\n",
        "# Add a circle renderer with color mapped to the new 'colors' column\n",
        "p.circle('Pleasure Diff', 'Chill Intensity', radius=1, fill_color='colors', fill_alpha=0.6,\n",
        "         line_color=None, source=df)\n",
        "\n",
        "curdoc().theme = 'dark_minimal'\n",
        "output_notebook()\n",
        "show(p)"
      ],
      "metadata": {
        "colab": {
          "base_uri": "https://localhost:8080/",
          "height": 617
        },
        "id": "wAte3H-GHiRr",
        "outputId": "7b5a35c3-2065-44d0-c9df-7844ff3bfd4d"
      },
      "execution_count": null,
      "outputs": [
        {
          "output_type": "display_data",
          "data": {
            "application/javascript": [
              "(function(root) {\n",
              "  function now() {\n",
              "    return new Date();\n",
              "  }\n",
              "\n",
              "  const force = true;\n",
              "\n",
              "  if (typeof root._bokeh_onload_callbacks === \"undefined\" || force === true) {\n",
              "    root._bokeh_onload_callbacks = [];\n",
              "    root._bokeh_is_loading = undefined;\n",
              "  }\n",
              "\n",
              "const JS_MIME_TYPE = 'application/javascript';\n",
              "  const HTML_MIME_TYPE = 'text/html';\n",
              "  const EXEC_MIME_TYPE = 'application/vnd.bokehjs_exec.v0+json';\n",
              "  const CLASS_NAME = 'output_bokeh rendered_html';\n",
              "\n",
              "  /**\n",
              "   * Render data to the DOM node\n",
              "   */\n",
              "  function render(props, node) {\n",
              "    const script = document.createElement(\"script\");\n",
              "    node.appendChild(script);\n",
              "  }\n",
              "\n",
              "  /**\n",
              "   * Handle when an output is cleared or removed\n",
              "   */\n",
              "  function handleClearOutput(event, handle) {\n",
              "    function drop(id) {\n",
              "      const view = Bokeh.index.get_by_id(id)\n",
              "      if (view != null) {\n",
              "        view.model.document.clear()\n",
              "        Bokeh.index.delete(view)\n",
              "      }\n",
              "    }\n",
              "\n",
              "    const cell = handle.cell;\n",
              "\n",
              "    const id = cell.output_area._bokeh_element_id;\n",
              "    const server_id = cell.output_area._bokeh_server_id;\n",
              "\n",
              "    // Clean up Bokeh references\n",
              "    if (id != null) {\n",
              "      drop(id)\n",
              "    }\n",
              "\n",
              "    if (server_id !== undefined) {\n",
              "      // Clean up Bokeh references\n",
              "      const cmd_clean = \"from bokeh.io.state import curstate; print(curstate().uuid_to_server['\" + server_id + \"'].get_sessions()[0].document.roots[0]._id)\";\n",
              "      cell.notebook.kernel.execute(cmd_clean, {\n",
              "        iopub: {\n",
              "          output: function(msg) {\n",
              "            const id = msg.content.text.trim()\n",
              "            drop(id)\n",
              "          }\n",
              "        }\n",
              "      });\n",
              "      // Destroy server and session\n",
              "      const cmd_destroy = \"import bokeh.io.notebook as ion; ion.destroy_server('\" + server_id + \"')\";\n",
              "      cell.notebook.kernel.execute(cmd_destroy);\n",
              "    }\n",
              "  }\n",
              "\n",
              "  /**\n",
              "   * Handle when a new output is added\n",
              "   */\n",
              "  function handleAddOutput(event, handle) {\n",
              "    const output_area = handle.output_area;\n",
              "    const output = handle.output;\n",
              "\n",
              "    // limit handleAddOutput to display_data with EXEC_MIME_TYPE content only\n",
              "    if ((output.output_type != \"display_data\") || (!Object.prototype.hasOwnProperty.call(output.data, EXEC_MIME_TYPE))) {\n",
              "      return\n",
              "    }\n",
              "\n",
              "    const toinsert = output_area.element.find(\".\" + CLASS_NAME.split(' ')[0]);\n",
              "\n",
              "    if (output.metadata[EXEC_MIME_TYPE][\"id\"] !== undefined) {\n",
              "      toinsert[toinsert.length - 1].firstChild.textContent = output.data[JS_MIME_TYPE];\n",
              "      // store reference to embed id on output_area\n",
              "      output_area._bokeh_element_id = output.metadata[EXEC_MIME_TYPE][\"id\"];\n",
              "    }\n",
              "    if (output.metadata[EXEC_MIME_TYPE][\"server_id\"] !== undefined) {\n",
              "      const bk_div = document.createElement(\"div\");\n",
              "      bk_div.innerHTML = output.data[HTML_MIME_TYPE];\n",
              "      const script_attrs = bk_div.children[0].attributes;\n",
              "      for (let i = 0; i < script_attrs.length; i++) {\n",
              "        toinsert[toinsert.length - 1].firstChild.setAttribute(script_attrs[i].name, script_attrs[i].value);\n",
              "        toinsert[toinsert.length - 1].firstChild.textContent = bk_div.children[0].textContent\n",
              "      }\n",
              "      // store reference to server id on output_area\n",
              "      output_area._bokeh_server_id = output.metadata[EXEC_MIME_TYPE][\"server_id\"];\n",
              "    }\n",
              "  }\n",
              "\n",
              "  function register_renderer(events, OutputArea) {\n",
              "\n",
              "    function append_mime(data, metadata, element) {\n",
              "      // create a DOM node to render to\n",
              "      const toinsert = this.create_output_subarea(\n",
              "        metadata,\n",
              "        CLASS_NAME,\n",
              "        EXEC_MIME_TYPE\n",
              "      );\n",
              "      this.keyboard_manager.register_events(toinsert);\n",
              "      // Render to node\n",
              "      const props = {data: data, metadata: metadata[EXEC_MIME_TYPE]};\n",
              "      render(props, toinsert[toinsert.length - 1]);\n",
              "      element.append(toinsert);\n",
              "      return toinsert\n",
              "    }\n",
              "\n",
              "    /* Handle when an output is cleared or removed */\n",
              "    events.on('clear_output.CodeCell', handleClearOutput);\n",
              "    events.on('delete.Cell', handleClearOutput);\n",
              "\n",
              "    /* Handle when a new output is added */\n",
              "    events.on('output_added.OutputArea', handleAddOutput);\n",
              "\n",
              "    /**\n",
              "     * Register the mime type and append_mime function with output_area\n",
              "     */\n",
              "    OutputArea.prototype.register_mime_type(EXEC_MIME_TYPE, append_mime, {\n",
              "      /* Is output safe? */\n",
              "      safe: true,\n",
              "      /* Index of renderer in `output_area.display_order` */\n",
              "      index: 0\n",
              "    });\n",
              "  }\n",
              "\n",
              "  // register the mime type if in Jupyter Notebook environment and previously unregistered\n",
              "  if (root.Jupyter !== undefined) {\n",
              "    const events = require('base/js/events');\n",
              "    const OutputArea = require('notebook/js/outputarea').OutputArea;\n",
              "\n",
              "    if (OutputArea.prototype.mime_types().indexOf(EXEC_MIME_TYPE) == -1) {\n",
              "      register_renderer(events, OutputArea);\n",
              "    }\n",
              "  }\n",
              "  if (typeof (root._bokeh_timeout) === \"undefined\" || force === true) {\n",
              "    root._bokeh_timeout = Date.now() + 5000;\n",
              "    root._bokeh_failed_load = false;\n",
              "  }\n",
              "\n",
              "  const NB_LOAD_WARNING = {'data': {'text/html':\n",
              "     \"<div style='background-color: #fdd'>\\n\"+\n",
              "     \"<p>\\n\"+\n",
              "     \"BokehJS does not appear to have successfully loaded. If loading BokehJS from CDN, this \\n\"+\n",
              "     \"may be due to a slow or bad network connection. Possible fixes:\\n\"+\n",
              "     \"</p>\\n\"+\n",
              "     \"<ul>\\n\"+\n",
              "     \"<li>re-rerun `output_notebook()` to attempt to load from CDN again, or</li>\\n\"+\n",
              "     \"<li>use INLINE resources instead, as so:</li>\\n\"+\n",
              "     \"</ul>\\n\"+\n",
              "     \"<code>\\n\"+\n",
              "     \"from bokeh.resources import INLINE\\n\"+\n",
              "     \"output_notebook(resources=INLINE)\\n\"+\n",
              "     \"</code>\\n\"+\n",
              "     \"</div>\"}};\n",
              "\n",
              "  function display_loaded() {\n",
              "    const el = document.getElementById(null);\n",
              "    if (el != null) {\n",
              "      el.textContent = \"BokehJS is loading...\";\n",
              "    }\n",
              "    if (root.Bokeh !== undefined) {\n",
              "      if (el != null) {\n",
              "        el.textContent = \"BokehJS \" + root.Bokeh.version + \" successfully loaded.\";\n",
              "      }\n",
              "    } else if (Date.now() < root._bokeh_timeout) {\n",
              "      setTimeout(display_loaded, 100)\n",
              "    }\n",
              "  }\n",
              "\n",
              "  function run_callbacks() {\n",
              "    try {\n",
              "      root._bokeh_onload_callbacks.forEach(function(callback) {\n",
              "        if (callback != null)\n",
              "          callback();\n",
              "      });\n",
              "    } finally {\n",
              "      delete root._bokeh_onload_callbacks\n",
              "    }\n",
              "    console.debug(\"Bokeh: all callbacks have finished\");\n",
              "  }\n",
              "\n",
              "  function load_libs(css_urls, js_urls, callback) {\n",
              "    if (css_urls == null) css_urls = [];\n",
              "    if (js_urls == null) js_urls = [];\n",
              "\n",
              "    root._bokeh_onload_callbacks.push(callback);\n",
              "    if (root._bokeh_is_loading > 0) {\n",
              "      console.debug(\"Bokeh: BokehJS is being loaded, scheduling callback at\", now());\n",
              "      return null;\n",
              "    }\n",
              "    if (js_urls == null || js_urls.length === 0) {\n",
              "      run_callbacks();\n",
              "      return null;\n",
              "    }\n",
              "    console.debug(\"Bokeh: BokehJS not loaded, scheduling load and callback at\", now());\n",
              "    root._bokeh_is_loading = css_urls.length + js_urls.length;\n",
              "\n",
              "    function on_load() {\n",
              "      root._bokeh_is_loading--;\n",
              "      if (root._bokeh_is_loading === 0) {\n",
              "        console.debug(\"Bokeh: all BokehJS libraries/stylesheets loaded\");\n",
              "        run_callbacks()\n",
              "      }\n",
              "    }\n",
              "\n",
              "    function on_error(url) {\n",
              "      console.error(\"failed to load \" + url);\n",
              "    }\n",
              "\n",
              "    for (let i = 0; i < css_urls.length; i++) {\n",
              "      const url = css_urls[i];\n",
              "      const element = document.createElement(\"link\");\n",
              "      element.onload = on_load;\n",
              "      element.onerror = on_error.bind(null, url);\n",
              "      element.rel = \"stylesheet\";\n",
              "      element.type = \"text/css\";\n",
              "      element.href = url;\n",
              "      console.debug(\"Bokeh: injecting link tag for BokehJS stylesheet: \", url);\n",
              "      document.body.appendChild(element);\n",
              "    }\n",
              "\n",
              "    for (let i = 0; i < js_urls.length; i++) {\n",
              "      const url = js_urls[i];\n",
              "      const element = document.createElement('script');\n",
              "      element.onload = on_load;\n",
              "      element.onerror = on_error.bind(null, url);\n",
              "      element.async = false;\n",
              "      element.src = url;\n",
              "      console.debug(\"Bokeh: injecting script tag for BokehJS library: \", url);\n",
              "      document.head.appendChild(element);\n",
              "    }\n",
              "  };\n",
              "\n",
              "  function inject_raw_css(css) {\n",
              "    const element = document.createElement(\"style\");\n",
              "    element.appendChild(document.createTextNode(css));\n",
              "    document.body.appendChild(element);\n",
              "  }\n",
              "\n",
              "  const js_urls = [\"https://cdn.bokeh.org/bokeh/release/bokeh-3.3.2.min.js\", \"https://cdn.bokeh.org/bokeh/release/bokeh-gl-3.3.2.min.js\", \"https://cdn.bokeh.org/bokeh/release/bokeh-widgets-3.3.2.min.js\", \"https://cdn.bokeh.org/bokeh/release/bokeh-tables-3.3.2.min.js\", \"https://cdn.bokeh.org/bokeh/release/bokeh-mathjax-3.3.2.min.js\"];\n",
              "  const css_urls = [];\n",
              "\n",
              "  const inline_js = [    function(Bokeh) {\n",
              "      Bokeh.set_log_level(\"info\");\n",
              "    },\n",
              "function(Bokeh) {\n",
              "    }\n",
              "  ];\n",
              "\n",
              "  function run_inline_js() {\n",
              "    if (root.Bokeh !== undefined || force === true) {\n",
              "          for (let i = 0; i < inline_js.length; i++) {\n",
              "      inline_js[i].call(root, root.Bokeh);\n",
              "    }\n",
              "} else if (Date.now() < root._bokeh_timeout) {\n",
              "      setTimeout(run_inline_js, 100);\n",
              "    } else if (!root._bokeh_failed_load) {\n",
              "      console.log(\"Bokeh: BokehJS failed to load within specified timeout.\");\n",
              "      root._bokeh_failed_load = true;\n",
              "    } else if (force !== true) {\n",
              "      const cell = $(document.getElementById(null)).parents('.cell').data().cell;\n",
              "      cell.output_area.append_execute_result(NB_LOAD_WARNING)\n",
              "    }\n",
              "  }\n",
              "\n",
              "  if (root._bokeh_is_loading === 0) {\n",
              "    console.debug(\"Bokeh: BokehJS loaded, going straight to plotting\");\n",
              "    run_inline_js();\n",
              "  } else {\n",
              "    load_libs(css_urls, js_urls, function() {\n",
              "      console.debug(\"Bokeh: BokehJS plotting callback run at\", now());\n",
              "      run_inline_js();\n",
              "    });\n",
              "  }\n",
              "}(window));"
            ],
            "application/vnd.bokehjs_load.v0+json": "(function(root) {\n  function now() {\n    return new Date();\n  }\n\n  const force = true;\n\n  if (typeof root._bokeh_onload_callbacks === \"undefined\" || force === true) {\n    root._bokeh_onload_callbacks = [];\n    root._bokeh_is_loading = undefined;\n  }\n\n\n  if (typeof (root._bokeh_timeout) === \"undefined\" || force === true) {\n    root._bokeh_timeout = Date.now() + 5000;\n    root._bokeh_failed_load = false;\n  }\n\n  const NB_LOAD_WARNING = {'data': {'text/html':\n     \"<div style='background-color: #fdd'>\\n\"+\n     \"<p>\\n\"+\n     \"BokehJS does not appear to have successfully loaded. If loading BokehJS from CDN, this \\n\"+\n     \"may be due to a slow or bad network connection. Possible fixes:\\n\"+\n     \"</p>\\n\"+\n     \"<ul>\\n\"+\n     \"<li>re-rerun `output_notebook()` to attempt to load from CDN again, or</li>\\n\"+\n     \"<li>use INLINE resources instead, as so:</li>\\n\"+\n     \"</ul>\\n\"+\n     \"<code>\\n\"+\n     \"from bokeh.resources import INLINE\\n\"+\n     \"output_notebook(resources=INLINE)\\n\"+\n     \"</code>\\n\"+\n     \"</div>\"}};\n\n  function display_loaded() {\n    const el = document.getElementById(null);\n    if (el != null) {\n      el.textContent = \"BokehJS is loading...\";\n    }\n    if (root.Bokeh !== undefined) {\n      if (el != null) {\n        el.textContent = \"BokehJS \" + root.Bokeh.version + \" successfully loaded.\";\n      }\n    } else if (Date.now() < root._bokeh_timeout) {\n      setTimeout(display_loaded, 100)\n    }\n  }\n\n  function run_callbacks() {\n    try {\n      root._bokeh_onload_callbacks.forEach(function(callback) {\n        if (callback != null)\n          callback();\n      });\n    } finally {\n      delete root._bokeh_onload_callbacks\n    }\n    console.debug(\"Bokeh: all callbacks have finished\");\n  }\n\n  function load_libs(css_urls, js_urls, callback) {\n    if (css_urls == null) css_urls = [];\n    if (js_urls == null) js_urls = [];\n\n    root._bokeh_onload_callbacks.push(callback);\n    if (root._bokeh_is_loading > 0) {\n      console.debug(\"Bokeh: BokehJS is being loaded, scheduling callback at\", now());\n      return null;\n    }\n    if (js_urls == null || js_urls.length === 0) {\n      run_callbacks();\n      return null;\n    }\n    console.debug(\"Bokeh: BokehJS not loaded, scheduling load and callback at\", now());\n    root._bokeh_is_loading = css_urls.length + js_urls.length;\n\n    function on_load() {\n      root._bokeh_is_loading--;\n      if (root._bokeh_is_loading === 0) {\n        console.debug(\"Bokeh: all BokehJS libraries/stylesheets loaded\");\n        run_callbacks()\n      }\n    }\n\n    function on_error(url) {\n      console.error(\"failed to load \" + url);\n    }\n\n    for (let i = 0; i < css_urls.length; i++) {\n      const url = css_urls[i];\n      const element = document.createElement(\"link\");\n      element.onload = on_load;\n      element.onerror = on_error.bind(null, url);\n      element.rel = \"stylesheet\";\n      element.type = \"text/css\";\n      element.href = url;\n      console.debug(\"Bokeh: injecting link tag for BokehJS stylesheet: \", url);\n      document.body.appendChild(element);\n    }\n\n    for (let i = 0; i < js_urls.length; i++) {\n      const url = js_urls[i];\n      const element = document.createElement('script');\n      element.onload = on_load;\n      element.onerror = on_error.bind(null, url);\n      element.async = false;\n      element.src = url;\n      console.debug(\"Bokeh: injecting script tag for BokehJS library: \", url);\n      document.head.appendChild(element);\n    }\n  };\n\n  function inject_raw_css(css) {\n    const element = document.createElement(\"style\");\n    element.appendChild(document.createTextNode(css));\n    document.body.appendChild(element);\n  }\n\n  const js_urls = [\"https://cdn.bokeh.org/bokeh/release/bokeh-3.3.2.min.js\", \"https://cdn.bokeh.org/bokeh/release/bokeh-gl-3.3.2.min.js\", \"https://cdn.bokeh.org/bokeh/release/bokeh-widgets-3.3.2.min.js\", \"https://cdn.bokeh.org/bokeh/release/bokeh-tables-3.3.2.min.js\", \"https://cdn.bokeh.org/bokeh/release/bokeh-mathjax-3.3.2.min.js\"];\n  const css_urls = [];\n\n  const inline_js = [    function(Bokeh) {\n      Bokeh.set_log_level(\"info\");\n    },\nfunction(Bokeh) {\n    }\n  ];\n\n  function run_inline_js() {\n    if (root.Bokeh !== undefined || force === true) {\n          for (let i = 0; i < inline_js.length; i++) {\n      inline_js[i].call(root, root.Bokeh);\n    }\n} else if (Date.now() < root._bokeh_timeout) {\n      setTimeout(run_inline_js, 100);\n    } else if (!root._bokeh_failed_load) {\n      console.log(\"Bokeh: BokehJS failed to load within specified timeout.\");\n      root._bokeh_failed_load = true;\n    } else if (force !== true) {\n      const cell = $(document.getElementById(null)).parents('.cell').data().cell;\n      cell.output_area.append_execute_result(NB_LOAD_WARNING)\n    }\n  }\n\n  if (root._bokeh_is_loading === 0) {\n    console.debug(\"Bokeh: BokehJS loaded, going straight to plotting\");\n    run_inline_js();\n  } else {\n    load_libs(css_urls, js_urls, function() {\n      console.debug(\"Bokeh: BokehJS plotting callback run at\", now());\n      run_inline_js();\n    });\n  }\n}(window));"
          },
          "metadata": {}
        },
        {
          "output_type": "display_data",
          "data": {
            "text/html": [
              "\n",
              "  <div id=\"d35cfeea-2f9d-483d-9830-b64f1670a731\" data-root-id=\"p1188\" style=\"display: contents;\"></div>\n"
            ]
          },
          "metadata": {}
        },
        {
          "output_type": "display_data",
          "data": {
            "application/javascript": [
              "(function(root) {\n",
              "  function embed_document(root) {\n",
              "  const docs_json = {\"4d26a466-6944-43fe-9f0a-04c4d90bdc45\":{\"version\":\"3.3.2\",\"title\":\"Bokeh Application\",\"roots\":[{\"type\":\"object\",\"name\":\"Figure\",\"id\":\"p1188\",\"attributes\":{\"x_range\":{\"type\":\"object\",\"name\":\"DataRange1d\",\"id\":\"p1189\"},\"y_range\":{\"type\":\"object\",\"name\":\"DataRange1d\",\"id\":\"p1190\"},\"x_scale\":{\"type\":\"object\",\"name\":\"LinearScale\",\"id\":\"p1198\"},\"y_scale\":{\"type\":\"object\",\"name\":\"LinearScale\",\"id\":\"p1199\"},\"title\":{\"type\":\"object\",\"name\":\"Title\",\"id\":\"p1191\",\"attributes\":{\"text\":\"Pleasure Diff and Chill Intensity\",\"text_color\":\"#E0E0E0\",\"text_font\":\"Helvetica\",\"text_font_size\":\"1.15em\"}},\"outline_line_color\":\"#E0E0E0\",\"outline_line_alpha\":0.25,\"renderers\":[{\"type\":\"object\",\"name\":\"GlyphRenderer\",\"id\":\"p1221\",\"attributes\":{\"data_source\":{\"type\":\"object\",\"name\":\"ColumnDataSource\",\"id\":\"p1212\",\"attributes\":{\"selected\":{\"type\":\"object\",\"name\":\"Selection\",\"id\":\"p1213\",\"attributes\":{\"indices\":[],\"line_indices\":[]}},\"selection_policy\":{\"type\":\"object\",\"name\":\"UnionRenderers\",\"id\":\"p1214\"},\"data\":{\"type\":\"map\",\"entries\":[[\"index\",{\"type\":\"ndarray\",\"array\":{\"type\":\"bytes\",\"data\":\"AAAAAAEAAAACAAAAAwAAAAQAAAAFAAAABgAAAAcAAAAIAAAACQAAAAoAAAALAAAADAAAAA0AAAAOAAAADwAAABAAAAARAAAAEgAAABMAAAAUAAAAFQAAABYAAAAXAAAAGAAAABkAAAAaAAAAGwAAABwAAAAdAAAAHgAAAB8AAAAgAAAAIQAAACIAAAAjAAAAJAAAACUAAAAmAAAAJwAAACgAAAApAAAAKgAAACsAAAAsAAAALQAAAC4AAAAvAAAAMAAAADEAAAAyAAAAMwAAADQAAAA1AAAANgAAADcAAAA4AAAAOQAAADoAAAA7AAAAPAAAAD0AAAA+AAAAPwAAAEAAAABBAAAAQgAAAEMAAABEAAAARQAAAEYAAABHAAAASAAAAEkAAABKAAAASwAAAEwAAABNAAAATgAAAE8AAAA=\"},\"shape\":[80],\"dtype\":\"int32\",\"order\":\"little\"}],[\"Video ID\",{\"type\":\"ndarray\",\"array\":[\"Bg_Q7KYWG1g\",\"g-jwWYX7Jlo\",\"g-jwWYX7Jlo\",\"Bg_Q7KYWG1g\",\"g-jwWYX7Jlo\",\"26U_seo0a1g\",\"26U_seo0a1g\",\"26U_seo0a1g\",\"26U_seo0a1g\",\"g-jwWYX7Jlo\",\"Bg_Q7KYWG1g\",\"Bg_Q7KYWG1g\",\"g-jwWYX7Jlo\",\"26U_seo0a1g\",\"g-jwWYX7Jlo\",\"26U_seo0a1g\",\"26U_seo0a1g\",\"g-jwWYX7Jlo\",\"Bg_Q7KYWG1g\",\"Bg_Q7KYWG1g\",\"Bg_Q7KYWG1g\",\"g-jwWYX7Jlo\",\"g-jwWYX7Jlo\",\"g-jwWYX7Jlo\",\"Bg_Q7KYWG1g\",\"26U_seo0a1g\",\"Bg_Q7KYWG1g\",\"Bg_Q7KYWG1g\",\"26U_seo0a1g\",\"26U_seo0a1g\",\"tbnzAVRZ9Xc\",\"tbnzAVRZ9Xc\",\"tbnzAVRZ9Xc\",\"tbnzAVRZ9Xc\",\"tbnzAVRZ9Xc\",\"tbnzAVRZ9Xc\",\"tbnzAVRZ9Xc\",\"tbnzAVRZ9Xc\",\"tbnzAVRZ9Xc\",\"tbnzAVRZ9Xc\",\"V2EfL1j4KYE\",\"V2EfL1j4KYE\",\"V2EfL1j4KYE\",\"V2EfL1j4KYE\",\"V2EfL1j4KYE\",\"V2EfL1j4KYE\",\"V2EfL1j4KYE\",\"V2EfL1j4KYE\",\"V2EfL1j4KYE\",\"wnHW6o8WMas\",\"wnHW6o8WMas\",\"wnHW6o8WMas\",\"wnHW6o8WMas\",\"wnHW6o8WMas\",\"wnHW6o8WMas\",\"wnHW6o8WMas\",\"wnHW6o8WMas\",\"wnHW6o8WMas\",\"wnHW6o8WMas\",\"wnHW6o8WMas\",\"wnHW6o8WMas\",\"t1XCzWlYWeA\",\"t1XCzWlYWeA\",\"t1XCzWlYWeA\",\"t1XCzWlYWeA\",\"t1XCzWlYWeA\",\"t1XCzWlYWeA\",\"t1XCzWlYWeA\",\"t1XCzWlYWeA\",\"t1XCzWlYWeA\",\"t1XCzWlYWeA\",\"lsSC2vx7zFQ\",\"lsSC2vx7zFQ\",\"lsSC2vx7zFQ\",\"lsSC2vx7zFQ\",\"lsSC2vx7zFQ\",\"lsSC2vx7zFQ\",\"lsSC2vx7zFQ\",\"lsSC2vx7zFQ\",\"lsSC2vx7zFQ\"],\"shape\":[80],\"dtype\":\"object\",\"order\":\"little\"}],[\"Age\",{\"type\":\"ndarray\",\"array\":{\"type\":\"bytes\",\"data\":\"GgAAADMAAAAUAAAAMwAAABoAAAAjAAAAFwAAAB8AAAAhAAAAHQAAAC8AAABHAAAALQAAAC4AAAAlAAAAJAAAAB0AAAAVAAAARAAAABYAAAAfAAAAPgAAABcAAAAhAAAAGAAAACYAAAAXAAAAJQAAACEAAAAbAAAAIgAAABoAAAAYAAAAFwAAACYAAAAfAAAAMwAAABgAAAAUAAAAFgAAABsAAABCAAAAHwAAACMAAAAoAAAAJAAAADgAAAAgAAAANwAAABMAAAArAAAAOgAAAEAAAAAdAAAAIQAAACoAAAAXAAAAIgAAAEEAAAAUAAAAIQAAACMAAAAyAAAAQAAAAEEAAAAaAAAALAAAAEkAAABFAAAAGAAAACcAAAAfAAAAGAAAACMAAAAlAAAAHwAAACAAAAAWAAAAGwAAABoAAAA=\"},\"shape\":[80],\"dtype\":\"int32\",\"order\":\"little\"}],[\"Gender\",{\"type\":\"ndarray\",\"array\":[\"female\",\"female\",\"female\",\"female\",\"female\",\"female\",\"female\",\"female\",\"female\",\"female\",\"male\",\"male\",\"male\",\"male\",\"male\",\"male\",\"male\",\"male\",\"male\",\"male\",\"male\",\"male\",\"female\",\"male\",\"male\",\"male\",\"male\",\"male\",\"male\",\"female\",\"female\",\"female\",\"female\",\"female\",\"female\",\"male\",\"male\",\"male\",\"male\",\"female\",\"female\",\"female\",\"female\",\"female\",\"male\",\"male\",\"male\",\"male\",\"female\",\"female\",\"female\",\"female\",\"female\",\"female\",\"male\",\"male\",\"male\",\"male\",\"male\",\"male\",\"select\",\"male\",\"female\",\"female\",\"female\",\"female\",\"male\",\"male\",\"male\",\"female\",\"female\",\"female\",\"female\",\"male\",\"male\",\"male\",\"male\",\"female\",\"female\",\"male\"],\"shape\":[80],\"dtype\":\"object\",\"order\":\"little\"}],[\"Ethnicity\",{\"type\":\"ndarray\",\"array\":[\"White\",\"White\",\"White\",\"White\",\"White\",\"White\",\"White\",\"White\",\"White\",\"White\",\"White\",\"White\",\"White\",\"White\",\"White\",\"White\",\"White\",\"White\",\"White\",\"White\",\"White\",\"White\",\"Mixed \",\"Mixed\",\"Mixed\",\"Middle-East\",\"Hispanic\",\"Hispanic\",\"Black\",\"Asian\",\"White\",\"White\",\"White\",\"White\",\"White\",\"White\",\"White\",\"White\",\"White\",\"Mixed\",\"White\",\"White\",\"White\",\"White\",\"White\",\"White\",\"White\",\"White\",\"Mixed\",\"White\",\"White\",\"White\",\"White\",\"White\",\"White\",\"White\",\"White\",\"White\",\"White\",\"White\",\"White\",\"White \",\"White\",\"White\",\"White\",\"White\",\"White\",\"White\",\"White\",\"Hispanic\",\"Asian\",\"White\",\"White\",\"White\",\"White\",\"White\",\"Mixed\",\"Hispanic \",\"Black\",\"Asian\"],\"shape\":[80],\"dtype\":\"object\",\"order\":\"little\"}],[\"chills Binary\",{\"type\":\"ndarray\",\"array\":{\"type\":\"bytes\",\"data\":\"AQEBAQEBAQEBAQEBAQEBAAEBAQEBAAEBAAEBAQEBAQEBAAEAAAEBAQEBAQAAAQEAAQABAQABAQEAAQAAAQABAAEAAQAAAQEBAAEAAAAAAQE=\"},\"shape\":[80],\"dtype\":\"bool\",\"order\":\"little\"}],[\"Chills #\",{\"type\":\"ndarray\",\"array\":{\"type\":\"bytes\",\"data\":\"AQAAAAUAAAABAAAABwAAAAQAAAADAAAAAwAAAAIAAAABAAAAAgAAAAEAAAACAAAABAAAAAMAAAABAAAAAAAAAAcAAAAIAAAACQAAAAIAAAABAAAAAAAAAAMAAAACAAAAAAAAAAIAAAABAAAABwAAAAEAAAADAAAAAwAAAAcAAAAEAAAAAAAAAAQAAAAAAAAAAAAAAAQAAAAFAAAABwAAAAMAAAACAAAABQAAAAAAAAAAAAAABAAAAAMAAAAAAAAABwAAAAAAAAAHAAAABwAAAAAAAAACAAAABgAAAAMAAAAAAAAAAgAAAAAAAAAAAAAAAgAAAAAAAAAEAAAAAAAAAAYAAAAAAAAABgAAAAAAAAAAAAAAAQAAAAEAAAACAAAAAAAAAAcAAAAAAAAAAAAAAAAAAAAAAAAAAwAAAAUAAAA=\"},\"shape\":[80],\"dtype\":\"int32\",\"order\":\"little\"}],[\"Chill Intensity\",{\"type\":\"ndarray\",\"array\":{\"type\":\"bytes\",\"data\":\"AgAAAAIAAAABAAAAAgAAAAIAAAACAAAAAQAAAAIAAAABAAAAAQAAAAMAAAABAAAAAQAAAAIAAAABAAAAAAAAAAEAAAACAAAAAwAAAAIAAAABAAAAAAAAAAMAAAABAAAAAAAAAAEAAAABAAAAAwAAAAEAAAACAAAAAwAAAAMAAAABAAAAAAAAAAEAAAAAAAAAAAAAAAIAAAABAAAAAQAAAAEAAAACAAAAAgAAAAAAAAAAAAAAAgAAAAIAAAAAAAAAAwAAAAAAAAADAAAAAwAAAAAAAAABAAAAAgAAAAMAAAAAAAAAAgAAAAAAAAAAAAAAAQAAAAAAAAABAAAAAAAAAAIAAAAAAAAAAgAAAAAAAAAAAAAAAQAAAAEAAAABAAAAAAAAAAIAAAAAAAAAAAAAAAMAAAAAAAAAAwAAAAIAAAA=\"},\"shape\":[80],\"dtype\":\"int32\",\"order\":\"little\"}],[\"Daily Chills\",{\"type\":\"ndarray\",\"array\":{\"type\":\"bytes\",\"data\":\"AgAAAAIAAAABAAAAAgAAAAMAAAABAAAAAAAAAAEAAAABAAAAAQAAAAIAAAABAAAAAQAAAAMAAAAAAAAAAAAAAAIAAAADAAAAAQAAAAEAAAAAAAAAAQAAAAQAAAABAAAAAQAAAAEAAAACAAAAAQAAAAMAAAABAAAAAQAAAAEAAAADAAAAAgAAAAIAAAACAAAAAQAAAAEAAAABAAAAAAAAAAIAAAACAAAAAgAAAAEAAAABAAAAAwAAAAEAAAABAAAAAQAAAAIAAAABAAAAAQAAAAIAAAABAAAAAQAAAAMAAAABAAAAAQAAAAAAAAACAAAAAQAAAAEAAAACAAAAAQAAAAEAAAABAAAAAAAAAAEAAAACAAAAAwAAAAIAAAABAAAAAgAAAAEAAAACAAAAAQAAAAMAAAABAAAAAgAAAAEAAAA=\"},\"shape\":[80],\"dtype\":\"int32\",\"order\":\"little\"}],[\"NIO_Openess\",{\"type\":\"ndarray\",\"array\":{\"type\":\"bytes\",\"data\":\"AgAAAAMAAAADAAAAAgAAAAMAAAAAAAAAAgAAAAMAAAACAAAAAgAAAAIAAAADAAAAAwAAAAMAAAACAAAAAAAAAAEAAAADAAAAAQAAAAMAAAADAAAAAAAAAAQAAAAAAAAAAAAAAAAAAAAAAAAAAwAAAAIAAAADAAAAAwAAAAMAAAADAAAAAQAAAAEAAAACAAAAAQAAAAMAAAADAAAAAgAAAAMAAAABAAAAAQAAAAAAAAACAAAAAwAAAAMAAAABAAAAAAAAAAMAAAADAAAAAwAAAAEAAAABAAAAAwAAAAMAAAABAAAAAwAAAAAAAAADAAAAAAAAAAMAAAACAAAAAQAAAAEAAAABAAAAAQAAAAIAAAABAAAAAwAAAAEAAAADAAAAAwAAAAIAAAADAAAAAAAAAAQAAAABAAAAAQAAAAMAAAA=\"},\"shape\":[80],\"dtype\":\"int32\",\"order\":\"little\"}],[\"Prior exposure\",{\"type\":\"ndarray\",\"array\":[\"No\",\"No\",\"No\",\"No\",\"No\",\"No\",\"No\",\"No\",\"No\",\"No\",\"No\",\"No\",\"No\",\"No\",\"No\",\"No\",\"No\",\"No\",\"No\",\"No\",\"No\",\"No\",\"No\",\"No\",\"No\",\"No\",\"No\",\"No\",\"No\",\"No\",\"No\",\"No\",\"No\",\"No\",\"No\",\"No\",\"No\",\"No\",\"No\",\"No\",\"No\",\"No\",\"No\",\"No\",\"No\",\"No\",\"No\",\"No\",\"No\",\"No\",\"No\",\"No\",\"No\",\"No\",\"No\",\"No\",\"No\",\"No\",\"No\",\"No\",\"No\",\"No\",\"No\",\"No\",\"No\",\"No\",\"No\",\"No\",\"No\",\"No\",\"No\",\"No\",\"No\",\"No\",\"No\",\"No\",\"No\",\"No\",\"No\",\"No\"],\"shape\":[80],\"dtype\":\"object\",\"order\":\"little\"}],[\"Sleppiness\",{\"type\":\"ndarray\",\"array\":{\"type\":\"bytes\",\"data\":\"BAAAAAYAAAAJAAAACgAAAAYAAAADAAAACQAAAAEAAAAGAAAABAAAAAcAAAAFAAAAAAAAAAUAAAACAAAABwAAAAYAAAAFAAAACgAAAAoAAAAGAAAACAAAAAYAAAAHAAAACQAAAAoAAAAKAAAAAwAAAAoAAAAFAAAAAQAAAAQAAAAGAAAAAwAAAAcAAAADAAAACAAAAAQAAAAHAAAABQAAAAUAAAAGAAAAAwAAAAQAAAACAAAABgAAAAoAAAABAAAAAwAAAAQAAAAJAAAACgAAAAQAAAAEAAAAAgAAAAYAAAAJAAAACAAAAAkAAAAHAAAAAAAAAAgAAAAHAAAACgAAAAoAAAABAAAACAAAAAUAAAAIAAAACQAAAAgAAAAGAAAACAAAAAUAAAAIAAAABgAAAAcAAAAHAAAABQAAAAYAAAA=\"},\"shape\":[80],\"dtype\":\"int32\",\"order\":\"little\"}],[\"Pre-Pleasure\",{\"type\":\"ndarray\",\"array\":{\"type\":\"bytes\",\"data\":\"BwAAAAcAAAAGAAAACQAAAAYAAAAIAAAABgAAAAgAAAAGAAAABgAAAAUAAAAFAAAACAAAAAoAAAADAAAACAAAAAYAAAAKAAAABwAAAAoAAAAGAAAABwAAAAgAAAAHAAAABQAAAAoAAAAIAAAACAAAAAcAAAAGAAAACAAAAAgAAAAIAAAABgAAAAYAAAAGAAAACAAAAAUAAAAHAAAABgAAAAgAAAAHAAAABwAAAAoAAAAGAAAABwAAAAkAAAAJAAAABwAAAAgAAAAJAAAACgAAAAgAAAAHAAAACAAAAAgAAAAHAAAACAAAAAEAAAAIAAAACAAAAAMAAAAHAAAACAAAAAgAAAAIAAAACQAAAAUAAAAHAAAABwAAAAUAAAAIAAAACQAAAAMAAAAIAAAABgAAAAoAAAAGAAAABQAAAAQAAAA=\"},\"shape\":[80],\"dtype\":\"int32\",\"order\":\"little\"}],[\"Prepleasure /2 arrondi\",{\"type\":\"ndarray\",\"array\":{\"type\":\"bytes\",\"data\":\"AgAAAAMAAAAFAAAABQAAAAMAAAACAAAABQAAAAEAAAADAAAAAgAAAAQAAAADAAAAAAAAAAMAAAABAAAABAAAAAMAAAADAAAABQAAAAUAAAADAAAABAAAAAMAAAAEAAAABQAAAAUAAAAFAAAAAgAAAAUAAAADAAAAAQAAAAIAAAADAAAAAgAAAAQAAAACAAAABAAAAAIAAAAEAAAAAwAAAAMAAAADAAAAAgAAAAIAAAABAAAAAwAAAAUAAAABAAAAAgAAAAIAAAAFAAAABQAAAAIAAAACAAAAAQAAAAMAAAAFAAAABAAAAAUAAAAEAAAAAAAAAAQAAAAEAAAABQAAAAUAAAABAAAABAAAAAMAAAAEAAAABQAAAAQAAAADAAAABAAAAAMAAAAEAAAAAwAAAAQAAAAEAAAAAwAAAAMAAAA=\"},\"shape\":[80],\"dtype\":\"int32\",\"order\":\"little\"}],[\"Prepleasure /2\",{\"type\":\"ndarray\",\"array\":{\"type\":\"bytes\",\"data\":\"AAAAAAAADEAAAAAAAAAMQAAAAAAAAAhAAAAAAAAAEkAAAAAAAAAIQAAAAAAAABBAAAAAAAAACEAAAAAAAAAQQAAAAAAAAAhAAAAAAAAACEAAAAAAAAAEQAAAAAAAAARAAAAAAAAAEEAAAAAAAAAUQAAAAAAAAPg/AAAAAAAAEEAAAAAAAAAIQAAAAAAAABRAAAAAAAAADEAAAAAAAAAUQAAAAAAAAAhAAAAAAAAADEAAAAAAAAAQQAAAAAAAAAxAAAAAAAAABEAAAAAAAAAUQAAAAAAAABBAAAAAAAAAEEAAAAAAAAAMQAAAAAAAAAhAAAAAAAAAEEAAAAAAAAAQQAAAAAAAABBAAAAAAAAACEAAAAAAAAAIQAAAAAAAAAhAAAAAAAAAEEAAAAAAAAAEQAAAAAAAAAxAAAAAAAAACEAAAAAAAAAQQAAAAAAAAAxAAAAAAAAADEAAAAAAAAAUQAAAAAAAAAhAAAAAAAAADEAAAAAAAAASQAAAAAAAABJAAAAAAAAADEAAAAAAAAAQQAAAAAAAABJAAAAAAAAAFEAAAAAAAAAQQAAAAAAAAAxAAAAAAAAAEEAAAAAAAAAQQAAAAAAAAAxAAAAAAAAAEEAAAAAAAADgPwAAAAAAABBAAAAAAAAAEEAAAAAAAAD4PwAAAAAAAAxAAAAAAAAAEEAAAAAAAAAQQAAAAAAAABBAAAAAAAAAEkAAAAAAAAAEQAAAAAAAAAxAAAAAAAAADEAAAAAAAAAEQAAAAAAAABBAAAAAAAAAEkAAAAAAAAD4PwAAAAAAABBAAAAAAAAACEAAAAAAAAAUQAAAAAAAAAhAAAAAAAAABEAAAAAAAAAAQA==\"},\"shape\":[80],\"dtype\":\"float64\",\"order\":\"little\"}],[\"Post-Pleasure\",{\"type\":\"ndarray\",\"array\":{\"type\":\"bytes\",\"data\":\"AwAAAAMAAAACAAAAAwAAAAMAAAACAAAAAwAAAAMAAAABAAAAAQAAAAIAAAADAAAAAwAAAAEAAAACAAAAAgAAAAEAAAADAAAABAAAAAQAAAADAAAAAQAAAAQAAAADAAAAAwAAAAMAAAACAAAABAAAAAAAAAACAAAABAAAAAMAAAACAAAAAgAAAAMAAAACAAAAAgAAAAIAAAACAAAAAwAAAAIAAAACAAAAAwAAAAIAAAACAAAAAwAAAAMAAAACAAAABAAAAAIAAAAEAAAABAAAAAIAAAADAAAAAwAAAAMAAAACAAAAAwAAAAIAAAACAAAAAwAAAAIAAAACAAAAAwAAAAMAAAACAAAABAAAAAIAAAADAAAAAwAAAAIAAAADAAAAAQAAAAMAAAADAAAAAwAAAAQAAAACAAAAAwAAAAMAAAA=\"},\"shape\":[80],\"dtype\":\"int32\",\"order\":\"little\"}],[\"Pre Calm\",{\"type\":\"ndarray\",\"array\":{\"type\":\"bytes\",\"data\":\"AgAAAAcAAAACAAAAAgAAAAIAAAABAAAAAgAAAAoAAAAHAAAAAwAAAAUAAAACAAAACgAAAAIAAAADAAAACgAAAAMAAAAKAAAACAAAAAoAAAAGAAAAAwAAAAcAAAAHAAAAAwAAAAAAAAACAAAACAAAAAoAAAAGAAAACQAAAAMAAAAKAAAAAwAAAAYAAAAGAAAABQAAAAkAAAAHAAAAAwAAAAQAAAAIAAAAAQAAAAoAAAACAAAABgAAAAYAAAAKAAAACQAAAAQAAAAKAAAAAQAAAAgAAAAKAAAABwAAAAoAAAAEAAAAAgAAAAoAAAACAAAACQAAAAQAAAADAAAAAgAAAAEAAAAJAAAACQAAAAUAAAABAAAABwAAAAUAAAAEAAAABwAAAAIAAAAJAAAACQAAAAoAAAAHAAAABwAAAAcAAAA=\"},\"shape\":[80],\"dtype\":\"int32\",\"order\":\"little\"}],[\"Pre-calm/2\",{\"type\":\"ndarray\",\"array\":{\"type\":\"bytes\",\"data\":\"AAAAAAAA8D8AAAAAAAAMQAAAAAAAAPA/AAAAAAAA8D8AAAAAAADwPwAAAAAAAOA/AAAAAAAA8D8AAAAAAAAUQAAAAAAAAAxAAAAAAAAA+D8AAAAAAAAEQAAAAAAAAPA/AAAAAAAAFEAAAAAAAADwPwAAAAAAAPg/AAAAAAAAFEAAAAAAAAD4PwAAAAAAABRAAAAAAAAAEEAAAAAAAAAUQAAAAAAAAAhAAAAAAAAA+D8AAAAAAAAMQAAAAAAAAAxAAAAAAAAA+D8AAAAAAAAAAAAAAAAAAPA/AAAAAAAAEEAAAAAAAAAUQAAAAAAAAAhAAAAAAAAAEkAAAAAAAAD4PwAAAAAAABRAAAAAAAAA+D8AAAAAAAAIQAAAAAAAAAhAAAAAAAAABEAAAAAAAAASQAAAAAAAAAxAAAAAAAAA+D8AAAAAAAAAQAAAAAAAABBAAAAAAAAA4D8AAAAAAAAUQAAAAAAAAPA/AAAAAAAACEAAAAAAAAAIQAAAAAAAABRAAAAAAAAAEkAAAAAAAAAAQAAAAAAAABRAAAAAAAAA4D8AAAAAAAAQQAAAAAAAABRAAAAAAAAADEAAAAAAAAAUQAAAAAAAAABAAAAAAAAA8D8AAAAAAAAUQAAAAAAAAPA/AAAAAAAAEkAAAAAAAAAAQAAAAAAAAPg/AAAAAAAA8D8AAAAAAADgPwAAAAAAABJAAAAAAAAAEkAAAAAAAAAEQAAAAAAAAOA/AAAAAAAADEAAAAAAAAAEQAAAAAAAAABAAAAAAAAADEAAAAAAAADwPwAAAAAAABJAAAAAAAAAEkAAAAAAAAAUQAAAAAAAAAxAAAAAAAAADEAAAAAAAAAMQA==\"},\"shape\":[80],\"dtype\":\"float64\",\"order\":\"little\"}],[\"Pre-calm/2 (rounded)\",{\"type\":\"ndarray\",\"array\":{\"type\":\"bytes\",\"data\":\"AQAAAAIAAAABAAAAAQAAAAEAAAAAAAAAAQAAAAMAAAACAAAAAQAAAAEAAAABAAAAAwAAAAEAAAABAAAAAwAAAAEAAAADAAAAAgAAAAMAAAACAAAAAQAAAAIAAAACAAAAAQAAAAAAAAABAAAAAgAAAAMAAAACAAAAAgAAAAEAAAADAAAAAQAAAAIAAAACAAAAAQAAAAIAAAACAAAAAQAAAAEAAAACAAAAAAAAAAMAAAABAAAAAgAAAAIAAAADAAAAAgAAAAEAAAADAAAAAAAAAAIAAAADAAAAAgAAAAMAAAABAAAAAQAAAAMAAAABAAAAAgAAAAEAAAABAAAAAQAAAAAAAAACAAAAAgAAAAEAAAAAAAAAAgAAAAEAAAABAAAAAgAAAAEAAAACAAAAAgAAAAMAAAACAAAAAgAAAAIAAAA=\"},\"shape\":[80],\"dtype\":\"int32\",\"order\":\"little\"}],[\"Post Calm\",{\"type\":\"ndarray\",\"array\":{\"type\":\"bytes\",\"data\":\"AgAAAAMAAAACAAAAAgAAAAIAAAACAAAAAwAAAAEAAAACAAAAAgAAAAIAAAABAAAAAQAAAAEAAAACAAAAAgAAAAEAAAADAAAAAwAAAAQAAAADAAAAAQAAAAQAAAACAAAAAgAAAAIAAAADAAAAAgAAAAAAAAABAAAABAAAAAIAAAADAAAAAwAAAAIAAAACAAAAAQAAAAEAAAADAAAAAwAAAAMAAAACAAAAAgAAAAQAAAACAAAAAgAAAAIAAAACAAAAAgAAAAIAAAACAAAAAwAAAAIAAAACAAAAAwAAAAEAAAABAAAAAwAAAAIAAAACAAAAAwAAAAMAAAACAAAAAgAAAAMAAAACAAAABAAAAAIAAAADAAAAAwAAAAMAAAAEAAAAAAAAAAMAAAADAAAAAgAAAAQAAAACAAAAAwAAAAIAAAA=\"},\"shape\":[80],\"dtype\":\"int32\",\"order\":\"little\"}],[\"Pre NEO\",{\"type\":\"ndarray\",\"array\":{\"type\":\"bytes\",\"data\":\"DAAAAAYAAAAEAAAABQAAAAMAAAAEAAAACQAAAAsAAAAFAAAAAwAAAAUAAAAKAAAACQAAAAcAAAAGAAAAAQAAAAgAAAAIAAAAAQAAAAcAAAAJAAAABgAAAAgAAAAFAAAACAAAAAkAAAAAAAAABwAAAAoAAAAAAAAABwAAAAQAAAAHAAAAAgAAAAYAAAAHAAAABwAAAAwAAAAKAAAACQAAAAoAAAADAAAAAwAAAAgAAAAFAAAABQAAAAwAAAAHAAAAAgAAAAkAAAAMAAAAAgAAAAUAAAAJAAAAAwAAAAkAAAAFAAAACAAAAAYAAAAGAAAACgAAAAIAAAACAAAABgAAAAcAAAADAAAABgAAAAYAAAADAAAABwAAAAMAAAAHAAAACwAAAAIAAAAHAAAA/v///wwAAAAEAAAACAAAAAUAAAA=\"},\"shape\":[80],\"dtype\":\"int32\",\"order\":\"little\"}],[\"Post NEO\",{\"type\":\"ndarray\",\"array\":{\"type\":\"bytes\",\"data\":\"DwAAAAkAAAAKAAAACQAAAAgAAAAKAAAADQAAAA4AAAAJAAAABwAAAAkAAAANAAAADQAAAAkAAAAHAAAABAAAAA0AAAAJAAAACgAAAAoAAAAMAAAACwAAAA0AAAAHAAAACwAAAA0AAAAFAAAADAAAAAcAAAAFAAAACQAAAAwAAAANAAAACgAAAAoAAAAKAAAACgAAAA8AAAAIAAAADAAAAA4AAAAFAAAACQAAAAsAAAAGAAAABgAAAA8AAAAJAAAABwAAAAwAAAAQAAAACQAAAAkAAAAMAAAACAAAAAwAAAAKAAAADAAAAAsAAAAMAAAACgAAAAYAAAAFAAAABQAAAA0AAAAGAAAACgAAAAQAAAAKAAAACwAAAAkAAAANAAAADAAAAAgAAAALAAAABQAAAA0AAAALAAAACQAAAAkAAAA=\"},\"shape\":[80],\"dtype\":\"int32\",\"order\":\"little\"}],[\"Diff NEO\",{\"type\":\"ndarray\",\"array\":{\"type\":\"bytes\",\"data\":\"AwAAAAMAAAAGAAAABAAAAAUAAAAGAAAABAAAAAMAAAAEAAAABAAAAAQAAAADAAAABAAAAAIAAAABAAAAAwAAAAUAAAABAAAACQAAAAMAAAADAAAABQAAAAUAAAACAAAAAwAAAAQAAAAFAAAABQAAAP3///8FAAAAAgAAAAgAAAAGAAAACAAAAAQAAAADAAAAAwAAAAMAAAD+////AwAAAAQAAAACAAAABgAAAAMAAAABAAAAAQAAAAMAAAACAAAABQAAAAMAAAAEAAAABwAAAAQAAAADAAAABQAAAAMAAAAFAAAABAAAAAUAAAAGAAAAAAAAAAQAAAADAAAA/////wYAAAADAAAABAAAAP7///8HAAAABAAAAAYAAAAGAAAAAQAAAAYAAAAEAAAABwAAAAEAAAAHAAAAAQAAAAQAAAA=\"},\"shape\":[80],\"dtype\":\"int32\",\"order\":\"little\"}],[\"Total NEO\",{\"type\":\"ndarray\",\"array\":{\"type\":\"bytes\",\"data\":\"GwAAAA8AAAAOAAAADgAAAAsAAAAOAAAAFgAAABkAAAAOAAAACgAAAA4AAAAXAAAAFgAAABAAAAANAAAABQAAABUAAAARAAAACwAAABEAAAAVAAAAEQAAABUAAAAMAAAAEwAAABYAAAAFAAAAEwAAABEAAAAFAAAAEAAAABAAAAAUAAAADAAAABAAAAARAAAAEQAAABsAAAASAAAAFQAAABgAAAAIAAAADAAAABMAAAALAAAACwAAABsAAAAQAAAACQAAABUAAAAcAAAACwAAAA4AAAAVAAAACwAAABUAAAAPAAAAFAAAABEAAAASAAAAFAAAAAgAAAAHAAAACwAAABQAAAAJAAAAEAAAAAoAAAANAAAAEgAAAAwAAAAUAAAAFwAAAAoAAAASAAAAAwAAABkAAAAPAAAAEQAAAA4AAAA=\"},\"shape\":[80],\"dtype\":\"int32\",\"order\":\"little\"}],[\"Emotion drift\",{\"type\":\"ndarray\",\"array\":{\"type\":\"bytes\",\"data\":\"jSSpm3fj8T8eFYFmnqDmPz6YZWaeoPY/wMRzRCvY/D8AAAAAAADwPwAAAAAAAARAAAAAAAAAAECTfrZmD34QQAAAAAAAAARAk362Zg9+AEAeFYFmnqDmPwAAAAAAAOA/k362Zg9+EEAAAAAAAAAQQB4VgWaeoOY/qGhRRCvYDECTfrZmD34AQFb0h2aeoAZAjSSpm3fj8T8+mGVmnqD2PwAAAAAAAAAA6i4ZX2VlBEAAAAAAAADgPz6S1DpYTPk/HhWBZp6g5j9W9IdmnqAGQFb0h2aeoAZAAAAAAAAAAEDeDF+owWkYQHXIhpt34wFAAAAAAAAA4D+NJKmbd+PxP1b0h2aeoAZAwMRzRCvY/D8AAAAAAADwPz6YZWaeoPY/AAAAAAAABEBlWiEAxkgMQD6S1DpYTPk/AAAAAAAA+D91yIabd+MBQAAAAAAAAARAPpLUOlhM+T8+ktQ6WEwJQD6YZWaeoPY/jSSpm3fj8T/AxHNEK9j8P/IOUBeyPQ9A6i4ZX2VlBEAAAAAAAAAAQKS8XrO/VAhAcbi3pGiKBUBW9IdmnqAGQKS8XrO/VAhAjSSpm3fj8T+TfrZmD34QQMDEc0Qr2Pw/dciGm3fjAUC8WltpM9UKQHXIhpt34wFAwMRzRCvY/D+NJKmbd+PxPz6S1DpYTPk/PphlZp6g9j9xuLekaIoFQFy9qZnMnAlAHhWBZp6g5j8eFYFmnqDmP+ouGV9lZQRAHhWBZp6g5j8eFYFmnqDmP3XIhpt34wFAQhOqmYrME0AAAAAAAAAEQMDEc0Qr2Pw/AAAAAAAABEA+mGVmnqD2P8DEc0Qr2Pw/HhWBZp6g5j/AxHNEK9j8Pw==\"},\"shape\":[80],\"dtype\":\"float64\",\"order\":\"little\"}],[\"Direction\",{\"type\":\"ndarray\",\"array\":[\"-0.5463024898\",\"1.557407725\",\"-1.557407725\",\"-14.10141995\",\"0\",\"-4.131728991\",\"0\",\"0.2553419212\",\"4.131728991\",\"-1.157821282\",\"1.557407725\",\"#DIV/0!\",\"0.2553419212\",\"#DIV/0!\",\"1.557407725\",\"0.7868428895\",\"1.157821282\",\"1.557407725\",\"-0.5463024898\",\"1.557407725\",\"#DIV/0!\",\"-3.380515006\",\"0\",\"0.3462535495\",\"1.557407725\",\"-1.557407725\",\"-1.557407725\",\"0\",\"0.8422883805\",\"0.5463024898\",\"0\",\"2.185039863\",\"1.557407725\",\"-0.7868428895\",\"0\",\"1.557407725\",\"4.131728991\",\"0.1438369594\",\"-0.1425465431\",\"0\",\"2.185039863\",\"0.9315964599\",\"-0.3462535495\",\"-0.1425465431\",\"-1.557407725\",\"0.5463024898\",\"14.10141995\",\"1.100778369\",\"-0.2027100355\",\"#DIV/0!\",\"0.1682272183\",\"-0.4227932187\",\"1.557407725\",\"0.1682272183\",\"-2.185039863\",\"0.2553419212\",\"14.10141995\",\"-0.5463024898\",\"-0.5463024898\",\"2.185039863\",\"0.7868428895\",\"0.5463024898\",\"0.1425465431\",\"-1.557407725\",\"-0.4227932187\",\"1.029638557\",\"1.557407725\",\"1.557407725\",\"-0.2027100355\",\"1.557407725\",\"-1.557407725\",\"-0.5463024898\",\"1.557407725\",\"0.9315964599\",\"0.7868428895\",\"0\",\"1.557407725\",\"0.7868428895\",\"-1.557407725\",\"-0.7868428895\"],\"shape\":[80],\"dtype\":\"object\",\"order\":\"little\"}],[\"Tan inverse\",{\"type\":\"ndarray\",\"array\":{\"type\":\"bytes\",\"data\":\"loJhBWes3b/ghkRU+yHpP+CGRFT7Iem/XXV70gtz778AAAAAAAAAAJaCYQVnrO2/AAAAAAAAAAASvB35dVvPP5aCYQVnrO0/BW01lYw29b/ghkRU+yHpPx+F61G4Hvk/Erwd+XVbzz8fhetRuB75v+CGRFT7Iek/89n/1erQ4j8FbTWVjDb1P+CGRFT7Iek/loJhBWes3b/ghkRU+yHpPwAAAAAAAAAAoQ8pFXP59T8AAAAAAAAAACqLJ6OPl9Q/4IZEVPsh6T/ghkRU+yHpv+CGRFT7Iem/AAAAAAAAAABeUH0tEYvjP5aCYQVnrN0/AAAAAAAAAACq5PmS4bbxv+CGRFT7Iek/89n/1erQ4r8AAAAAAAAAAOCGRFT7Iek/loJhBWes7T/X7nPErinCPzYnX2sX/PM/AAAAAAAAAACq5PmS4bbxvyqLJ6OPl+Q/Kosno4+X1L82J19rF/zzP+CGRFT7Iem/loJhBWes3T9ddXvSC3PvP4ne8cNLO+Y/9Lnb+EFEyb8fhetRuB75v1KQNISXI8U/phdkazda2L/ghkRU+yHpP1KQNISXI8U/quT5kuG28T8SvB35dVvPP111e9ILc+8/loJhBWes3b+WgmEFZ6zdv6rk+ZLhtvG/89n/1erQ4j+WgmEFZ6zdPzYnX2sX/PO/4IZEVPsh6b+mF2RrN1rYv+OtAFF6l+U/4IZEVPsh6T/ghkRU+yHpP/S52/hBRMm/4IZEVPsh6T/ghkRU+yHpv5aCYQVnrN2/4IZEVPsh6T8qiyejj5fkP/PZ/9Xq0OI/AAAAAAAAAADghkRU+yHpP/PZ/9Xq0OI/4IZEVPsh6b/z2f/V6tDivw==\"},\"shape\":[80],\"dtype\":\"float64\",\"order\":\"little\"}],[\"Calm Diff\",{\"type\":\"ndarray\",\"array\":{\"type\":\"bytes\",\"data\":\"AAAAAAAA8D8AAAAAAADgvwAAAAAAAPA/AAAAAAAA8D8AAAAAAADwPwAAAAAAAPg/AAAAAAAAAEAAAAAAAAAQwAAAAAAAAPi/AAAAAAAA4D8AAAAAAADgvwAAAAAAAAAAAAAAAAAAEMAAAAAAAAAAAAAAAAAAAOA/AAAAAAAACMAAAAAAAADgvwAAAAAAAADAAAAAAAAA8L8AAAAAAADwvwAAAAAAAAAAAAAAAAAA4L8AAAAAAADgPwAAAAAAAPi/AAAAAAAA4D8AAAAAAAAAQAAAAAAAAABAAAAAAAAAAMAAAAAAAAAUwAAAAAAAAADAAAAAAAAA4L8AAAAAAADgPwAAAAAAAADAAAAAAAAA+D8AAAAAAADwvwAAAAAAAPC/AAAAAAAA+L8AAAAAAAAMwAAAAAAAAOC/AAAAAAAA+D8AAAAAAADwPwAAAAAAAADAAAAAAAAA+D8AAAAAAADwvwAAAAAAAPA/AAAAAAAA8L8AAAAAAADwvwAAAAAAAAjAAAAAAAAABMAAAAAAAAAAAAAAAAAAAAjAAAAAAAAABEAAAAAAAAAAwAAAAAAAAAjAAAAAAAAA4L8AAAAAAAAQwAAAAAAAAPC/AAAAAAAAAEAAAAAAAAAIwAAAAAAAAPA/AAAAAAAA+L8AAAAAAADwPwAAAAAAAOA/AAAAAAAA8D8AAAAAAAAEQAAAAAAAAATAAAAAAAAA4L8AAAAAAADgvwAAAAAAAARAAAAAAAAA4L8AAAAAAADgPwAAAAAAAABAAAAAAAAADMAAAAAAAAAAQAAAAAAAAPi/AAAAAAAABMAAAAAAAADwvwAAAAAAAPi/AAAAAAAA4L8AAAAAAAD4vw==\"},\"shape\":[80],\"dtype\":\"float64\",\"order\":\"little\"}],[\"Pleasure Diff\",{\"type\":\"ndarray\",\"array\":{\"type\":\"bytes\",\"data\":\"AAAAAAAA4L8AAAAAAADgvwAAAAAAAPC/AAAAAAAA+L8AAAAAAAAAAAAAAAAAAADAAAAAAAAAAAAAAAAAAADwvwAAAAAAAADAAAAAAAAAAMAAAAAAAADgvwAAAAAAAOA/AAAAAAAA8L8AAAAAAAAQwAAAAAAAAOA/AAAAAAAAAMAAAAAAAAAAwAAAAAAAAADAAAAAAAAA4D8AAAAAAADwvwAAAAAAAAAAAAAAAAAABMAAAAAAAAAAAAAAAAAAAOC/AAAAAAAA4D8AAAAAAAAAwAAAAAAAAADAAAAAAAAAAAAAAAAAAAAMwAAAAAAAAPC/AAAAAAAAAAAAAAAAAADwvwAAAAAAAADAAAAAAAAA8L8AAAAAAAAAAAAAAAAAAPC/AAAAAAAAAMAAAAAAAADgvwAAAAAAAPi/AAAAAAAAAAAAAAAAAAAAwAAAAAAAAPi/AAAAAAAA4L8AAAAAAAAIwAAAAAAAAPC/AAAAAAAA4L8AAAAAAAD4vwAAAAAAAATAAAAAAAAA4D8AAAAAAAAAwAAAAAAAAOC/AAAAAAAA8L8AAAAAAAAAwAAAAAAAAOC/AAAAAAAA8L8AAAAAAADwvwAAAAAAAPi/AAAAAAAA8L8AAAAAAAD4PwAAAAAAAADAAAAAAAAA8L8AAAAAAADgPwAAAAAAAPi/AAAAAAAA8L8AAAAAAADwvwAAAAAAAADAAAAAAAAA4L8AAAAAAADgvwAAAAAAAOC/AAAAAAAA4L8AAAAAAADgvwAAAAAAAPC/AAAAAAAADMAAAAAAAAD4PwAAAAAAAPC/AAAAAAAAAAAAAAAAAADwvwAAAAAAAPC/AAAAAAAA4D8AAAAAAADwPw==\"},\"shape\":[80],\"dtype\":\"float64\",\"order\":\"little\"}],[\"Tan inverse.1\",{\"type\":\"ndarray\",\"array\":{\"type\":\"bytes\",\"data\":\"loJhBWes3b/ghkRU+yHpP+CGRFT7Iem/XXV70gtz778AAAAAAAAAAJaCYQVnrO2/AAAAAAAAAAASvB35dVvPP5aCYQVnrO0/BW01lYw29b/ghkRU+yHpPx+F61G4Hvk/Erwd+XVbzz8fhetRuB75v+CGRFT7Iek/89n/1erQ4j8FbTWVjDb1P+CGRFT7Iek/loJhBWes3b/ghkRU+yHpPwAAAAAAAAAAoQ8pFXP59T8AAAAAAAAAACqLJ6OPl9Q/4IZEVPsh6T/ghkRU+yHpv+CGRFT7Iem/AAAAAAAAAABeUH0tEYvjP5aCYQVnrN0/AAAAAAAAAACq5PmS4bbxv+CGRFT7Iek/89n/1erQ4r8AAAAAAAAAAOCGRFT7Iek/loJhBWes7T/X7nPErinCPzYnX2sX/PM/AAAAAAAAAACq5PmS4bbxvyqLJ6OPl+Q/Kosno4+X1L82J19rF/zzP+CGRFT7Iem/loJhBWes3T9ddXvSC3PvP4ne8cNLO+Y/9Lnb+EFEyb8fhetRuB75v1KQNISXI8U/phdkazda2L/ghkRU+yHpP1KQNISXI8U/quT5kuG28T8SvB35dVvPP111e9ILc+8/loJhBWes3b+WgmEFZ6zdv6rk+ZLhtvG/89n/1erQ4j+WgmEFZ6zdPzYnX2sX/PO/4IZEVPsh6b+mF2RrN1rYv+OtAFF6l+U/4IZEVPsh6T/ghkRU+yHpP/S52/hBRMm/4IZEVPsh6T/ghkRU+yHpv5aCYQVnrN2/4IZEVPsh6T8qiyejj5fkP/PZ/9Xq0OI/AAAAAAAAAADghkRU+yHpP/PZ/9Xq0OI/4IZEVPsh6b/z2f/V6tDivw==\"},\"shape\":[80],\"dtype\":\"float64\",\"order\":\"little\"}],[\"Chill Rating\",{\"type\":\"ndarray\",\"array\":[\"6.7\",\"2.2\",\"6.7\",\"6.7\",\"7.8\",\"6.7\",\"7.8\",\"3.3\",\"3.3\",\"5.6\",\"2.2\",\"5.6\",\"3.3\",\"4.4\",\"6.7\",\"3.3\",\"3.3\",\"3.3\",\"5.6\",\"3.3\",\"3.3\",\"3.3\",\"5.6\",\"3.3\",\"6.7\",\"6.7\",\"6.7\",\"4.4\",\"3.3\",\"3.3\",\"3.3\",\"5.6\",\"3.3\",\"6.7\",\"4.4\",\"3.3\",\"3.3\",\"3.3\",\"3.3\",\"7.8\",\"6.7\",\"3.3\",\"6.7\",\"3.3\",\"6.7\",\"3.3\",\"3.3\",\"3.3\",\"5.6\",\"4.4\",\"3.3\",\"6.7\",\"3.3\",\"3.3\",\"3.3\",\"3.3\",\"3.3\",\"6.7\",\"6.7\",\"6.7\",\"3.3\",\"8.9\",\"5.6\",\"6.7\",\"6.7\",\"3.3\",\"2.2\",\"2.2\",\"6.7\",\"2.2\",\"4.4\",\"6.7\",\"3.3\",\"10.0\",\"3.3\",\"4.4\",\"3.3\",\"3.3\",\"4.4\",\"6.7\"],\"shape\":[80],\"dtype\":\"object\",\"order\":\"little\"}],[\"colors\",{\"type\":\"ndarray\",\"array\":[\"#1f77b4\",\"#ff7f0e\",\"#2ca02c\",\"#d62728\",\"#9467bd\",\"#8c564b\",\"#e377c2\",\"#7f7f7f\",\"#bcbd22\",\"#17becf\",\"#1f77b4\",\"#ff7f0e\",\"#2ca02c\",\"#d62728\",\"#9467bd\",\"#8c564b\",\"#e377c2\",\"#7f7f7f\",\"#bcbd22\",\"#17becf\",\"#1f77b4\",\"#ff7f0e\",\"#2ca02c\",\"#d62728\",\"#9467bd\",\"#8c564b\",\"#e377c2\",\"#7f7f7f\",\"#bcbd22\",\"#17becf\",\"#1f77b4\",\"#ff7f0e\",\"#2ca02c\",\"#d62728\",\"#9467bd\",\"#8c564b\",\"#e377c2\",\"#7f7f7f\",\"#bcbd22\",\"#17becf\",\"#1f77b4\",\"#ff7f0e\",\"#2ca02c\",\"#d62728\",\"#9467bd\",\"#8c564b\",\"#e377c2\",\"#7f7f7f\",\"#bcbd22\",\"#17becf\",\"#1f77b4\",\"#ff7f0e\",\"#2ca02c\",\"#d62728\",\"#9467bd\",\"#8c564b\",\"#e377c2\",\"#7f7f7f\",\"#bcbd22\",\"#17becf\",\"#1f77b4\",\"#ff7f0e\",\"#2ca02c\",\"#d62728\",\"#9467bd\",\"#8c564b\",\"#e377c2\",\"#7f7f7f\",\"#bcbd22\",\"#17becf\",\"#1f77b4\",\"#ff7f0e\",\"#2ca02c\",\"#d62728\",\"#9467bd\",\"#8c564b\",\"#e377c2\",\"#7f7f7f\",\"#bcbd22\",\"#17becf\"],\"shape\":[80],\"dtype\":\"object\",\"order\":\"little\"}]]}}},\"view\":{\"type\":\"object\",\"name\":\"CDSView\",\"id\":\"p1222\",\"attributes\":{\"filter\":{\"type\":\"object\",\"name\":\"AllIndices\",\"id\":\"p1223\"}}},\"glyph\":{\"type\":\"object\",\"name\":\"Circle\",\"id\":\"p1218\",\"attributes\":{\"x\":{\"type\":\"field\",\"field\":\"Pleasure Diff\"},\"y\":{\"type\":\"field\",\"field\":\"Chill Intensity\"},\"line_color\":{\"type\":\"value\",\"value\":null},\"fill_color\":{\"type\":\"field\",\"field\":\"colors\"},\"fill_alpha\":{\"type\":\"value\",\"value\":0.6},\"radius\":{\"type\":\"value\",\"value\":1}}},\"nonselection_glyph\":{\"type\":\"object\",\"name\":\"Circle\",\"id\":\"p1219\",\"attributes\":{\"x\":{\"type\":\"field\",\"field\":\"Pleasure Diff\"},\"y\":{\"type\":\"field\",\"field\":\"Chill Intensity\"},\"line_color\":{\"type\":\"value\",\"value\":null},\"line_alpha\":{\"type\":\"value\",\"value\":0.1},\"fill_color\":{\"type\":\"field\",\"field\":\"colors\"},\"fill_alpha\":{\"type\":\"value\",\"value\":0.1},\"hatch_alpha\":{\"type\":\"value\",\"value\":0.1},\"radius\":{\"type\":\"value\",\"value\":1}}},\"muted_glyph\":{\"type\":\"object\",\"name\":\"Circle\",\"id\":\"p1220\",\"attributes\":{\"x\":{\"type\":\"field\",\"field\":\"Pleasure Diff\"},\"y\":{\"type\":\"field\",\"field\":\"Chill Intensity\"},\"line_color\":{\"type\":\"value\",\"value\":null},\"line_alpha\":{\"type\":\"value\",\"value\":0.2},\"fill_color\":{\"type\":\"field\",\"field\":\"colors\"},\"fill_alpha\":{\"type\":\"value\",\"value\":0.2},\"hatch_alpha\":{\"type\":\"value\",\"value\":0.2},\"radius\":{\"type\":\"value\",\"value\":1}}}}}],\"toolbar\":{\"type\":\"object\",\"name\":\"Toolbar\",\"id\":\"p1197\",\"attributes\":{\"tools\":[{\"type\":\"object\",\"name\":\"HoverTool\",\"id\":\"p1187\",\"attributes\":{\"renderers\":\"auto\",\"tooltips\":null,\"mode\":\"vline\"}},{\"type\":\"object\",\"name\":\"WheelZoomTool\",\"id\":\"p1210\",\"attributes\":{\"renderers\":\"auto\"}},{\"type\":\"object\",\"name\":\"PanTool\",\"id\":\"p1211\"}]}},\"left\":[{\"type\":\"object\",\"name\":\"LinearAxis\",\"id\":\"p1205\",\"attributes\":{\"ticker\":{\"type\":\"object\",\"name\":\"BasicTicker\",\"id\":\"p1206\",\"attributes\":{\"mantissas\":[1,2,5]}},\"formatter\":{\"type\":\"object\",\"name\":\"BasicTickFormatter\",\"id\":\"p1207\"},\"axis_label_standoff\":10,\"axis_label_text_color\":\"#E0E0E0\",\"axis_label_text_font\":\"Helvetica\",\"axis_label_text_font_size\":\"1.25em\",\"axis_label_text_font_style\":\"normal\",\"major_label_policy\":{\"type\":\"object\",\"name\":\"AllLabels\",\"id\":\"p1208\"},\"major_label_text_color\":\"#E0E0E0\",\"major_label_text_font\":\"Helvetica\",\"major_label_text_font_size\":\"1.025em\",\"axis_line_color\":\"#E0E0E0\",\"axis_line_alpha\":0,\"major_tick_line_color\":\"#E0E0E0\",\"major_tick_line_alpha\":0,\"minor_tick_line_color\":\"#E0E0E0\",\"minor_tick_line_alpha\":0}}],\"below\":[{\"type\":\"object\",\"name\":\"LinearAxis\",\"id\":\"p1200\",\"attributes\":{\"ticker\":{\"type\":\"object\",\"name\":\"BasicTicker\",\"id\":\"p1201\",\"attributes\":{\"mantissas\":[1,2,5]}},\"formatter\":{\"type\":\"object\",\"name\":\"BasicTickFormatter\",\"id\":\"p1202\"},\"axis_label_standoff\":10,\"axis_label_text_color\":\"#E0E0E0\",\"axis_label_text_font\":\"Helvetica\",\"axis_label_text_font_size\":\"1.25em\",\"axis_label_text_font_style\":\"normal\",\"major_label_policy\":{\"type\":\"object\",\"name\":\"AllLabels\",\"id\":\"p1203\"},\"major_label_text_color\":\"#E0E0E0\",\"major_label_text_font\":\"Helvetica\",\"major_label_text_font_size\":\"1.025em\",\"axis_line_color\":\"#E0E0E0\",\"axis_line_alpha\":0,\"major_tick_line_color\":\"#E0E0E0\",\"major_tick_line_alpha\":0,\"minor_tick_line_color\":\"#E0E0E0\",\"minor_tick_line_alpha\":0}}],\"center\":[{\"type\":\"object\",\"name\":\"Grid\",\"id\":\"p1204\",\"attributes\":{\"axis\":{\"id\":\"p1200\"},\"grid_line_color\":\"#E0E0E0\",\"grid_line_alpha\":0.25}},{\"type\":\"object\",\"name\":\"Grid\",\"id\":\"p1209\",\"attributes\":{\"dimension\":1,\"axis\":{\"id\":\"p1205\"},\"grid_line_color\":\"#E0E0E0\",\"grid_line_alpha\":0.25}}],\"background_fill_color\":\"#20262B\",\"border_fill_color\":\"#15191C\"}}]}};\n",
              "  const render_items = [{\"docid\":\"4d26a466-6944-43fe-9f0a-04c4d90bdc45\",\"roots\":{\"p1188\":\"d35cfeea-2f9d-483d-9830-b64f1670a731\"},\"root_ids\":[\"p1188\"]}];\n",
              "  root.Bokeh.embed.embed_items_notebook(docs_json, render_items);\n",
              "  }\n",
              "  if (root.Bokeh !== undefined) {\n",
              "    embed_document(root);\n",
              "  } else {\n",
              "    let attempts = 0;\n",
              "    const timer = setInterval(function(root) {\n",
              "      if (root.Bokeh !== undefined) {\n",
              "        clearInterval(timer);\n",
              "        embed_document(root);\n",
              "      } else {\n",
              "        attempts++;\n",
              "        if (attempts > 100) {\n",
              "          clearInterval(timer);\n",
              "          console.log(\"Bokeh: ERROR: Unable to run BokehJS code because BokehJS library is missing\");\n",
              "        }\n",
              "      }\n",
              "    }, 10, root)\n",
              "  }\n",
              "})(window);"
            ],
            "application/vnd.bokehjs_exec.v0+json": ""
          },
          "metadata": {
            "application/vnd.bokehjs_exec.v0+json": {
              "id": "p1188"
            }
          }
        }
      ]
    },
    {
      "cell_type": "code",
      "source": [
        "# Assuming Pleasure Diff is binary where 1 represents good chills and 0 represents bad chills\n",
        "good_chills = df[df['Pleasure Diff'] == 1]\n",
        "bad_chills = df[df['Pleasure Diff'] == 0]\n",
        "\n",
        "print(\"Good Chills - Mean Intensity: \", good_chills['Chill Intensity'].mean())\n",
        "print(\"Bad Chills - Mean Intensity: \", bad_chills['Chill Intensity'].mean())\n"
      ],
      "metadata": {
        "colab": {
          "base_uri": "https://localhost:8080/"
        },
        "id": "OOyOgKUp7N2t",
        "outputId": "b0230b6b-4a29-480b-fd18-033942896dd2"
      },
      "execution_count": null,
      "outputs": [
        {
          "output_type": "stream",
          "name": "stdout",
          "text": [
            "Good Chills - Mean Intensity:  2.0\n",
            "Bad Chills - Mean Intensity:  1.6666666666666667\n"
          ]
        }
      ]
    },
    {
      "cell_type": "code",
      "source": [],
      "metadata": {
        "id": "gx8C6tXnJvdZ"
      },
      "execution_count": null,
      "outputs": []
    },
    {
      "cell_type": "code",
      "source": [
        "# Assuming 'df' is your DataFrame\n",
        "print(\"Dataset Overview:\")\n",
        "print(df.info())\n"
      ],
      "metadata": {
        "colab": {
          "base_uri": "https://localhost:8080/"
        },
        "id": "hsbo4iqgBsvb",
        "outputId": "4e422056-ea70-4be8-c491-c24ee28c1dcd"
      },
      "execution_count": null,
      "outputs": [
        {
          "output_type": "stream",
          "name": "stdout",
          "text": [
            "Dataset Overview:\n",
            "<class 'pandas.core.frame.DataFrame'>\n",
            "RangeIndex: 80 entries, 0 to 79\n",
            "Data columns (total 31 columns):\n",
            " #   Column                  Non-Null Count  Dtype  \n",
            "---  ------                  --------------  -----  \n",
            " 0   Video ID                80 non-null     object \n",
            " 1   Age                     80 non-null     int64  \n",
            " 2   Gender                  80 non-null     object \n",
            " 3   Ethnicity               80 non-null     object \n",
            " 4   chills Binary           80 non-null     bool   \n",
            " 5   Chills #                80 non-null     int64  \n",
            " 6   Chill Intensity         80 non-null     int64  \n",
            " 7   Daily Chills            80 non-null     int64  \n",
            " 8   NIO_Openess             80 non-null     int64  \n",
            " 9   Prior exposure          80 non-null     object \n",
            " 10  Sleppiness              80 non-null     int64  \n",
            " 11  Pre-Pleasure            80 non-null     int64  \n",
            " 12  Prepleasure /2 arrondi  80 non-null     int64  \n",
            " 13  Prepleasure /2          80 non-null     float64\n",
            " 14  Post-Pleasure           80 non-null     int64  \n",
            " 15  Pre Calm                80 non-null     int64  \n",
            " 16  Pre-calm/2              80 non-null     float64\n",
            " 17  Pre-calm/2 (rounded)    80 non-null     int64  \n",
            " 18  Post Calm               80 non-null     int64  \n",
            " 19  Pre NEO                 80 non-null     int64  \n",
            " 20  Post NEO                80 non-null     int64  \n",
            " 21  Diff NEO                80 non-null     int64  \n",
            " 22  Total NEO               80 non-null     int64  \n",
            " 23  Emotion drift           80 non-null     float64\n",
            " 24  Direction               80 non-null     object \n",
            " 25  Tan inverse             80 non-null     float64\n",
            " 26  Calm Diff               80 non-null     float64\n",
            " 27  Pleasure Diff           80 non-null     float64\n",
            " 28  Tan inverse.1           80 non-null     float64\n",
            " 29  Chill Rating            80 non-null     object \n",
            " 30  colors                  80 non-null     object \n",
            "dtypes: bool(1), float64(7), int64(16), object(7)\n",
            "memory usage: 19.0+ KB\n",
            "None\n"
          ]
        }
      ]
    },
    {
      "cell_type": "code",
      "source": [
        "df.isnull().sum()"
      ],
      "metadata": {
        "colab": {
          "base_uri": "https://localhost:8080/"
        },
        "id": "x14brhbj4S6J",
        "outputId": "b94140ba-5511-4429-a80f-32acc49ab0db"
      },
      "execution_count": null,
      "outputs": [
        {
          "output_type": "execute_result",
          "data": {
            "text/plain": [
              "Video ID                  0\n",
              "Age                       0\n",
              "Gender                    0\n",
              "Ethnicity                 0\n",
              "chills Binary             0\n",
              "Chills #                  0\n",
              "Chill Intensity           0\n",
              "Daily Chills              0\n",
              "NIO_Openess               0\n",
              "Prior exposure            0\n",
              "Sleppiness                0\n",
              "Pre-Pleasure              0\n",
              "Prepleasure /2 arrondi    0\n",
              "Prepleasure /2            0\n",
              "Post-Pleasure             0\n",
              "Pre Calm                  0\n",
              "Pre-calm/2                0\n",
              "Pre-calm/2 (rounded)      0\n",
              "Post Calm                 0\n",
              "Pre NEO                   0\n",
              "Post NEO                  0\n",
              "Diff NEO                  0\n",
              "Total NEO                 0\n",
              "Emotion drift             0\n",
              "Direction                 0\n",
              "Tan inverse               0\n",
              "Calm Diff                 0\n",
              "Pleasure Diff             0\n",
              "Tan inverse.1             0\n",
              "Chill Rating              0\n",
              "colors                    0\n",
              "dtype: int64"
            ]
          },
          "metadata": {},
          "execution_count": 88
        }
      ]
    },
    {
      "cell_type": "code",
      "source": [
        "from sklearn.preprocessing import OneHotEncoder\n",
        "\n",
        "# Create your features matrix (X) by dropping all target variables at once\n",
        "X = df.drop('Pleasure Diff', axis=1)\n",
        "\n",
        "# Create your labels matrix (y) by selecting all target variables\n",
        "y = df['Pleasure Diff']\n",
        "# Create a OneHotEncoder object\n",
        "encoder = OneHotEncoder()\n",
        "\n",
        "# Fit the encoder and transform the categorical data\n",
        "X_categorical = encoder.fit_transform(X.select_dtypes(include=['object'])).toarray()\n",
        "\n",
        "# Combine the categorical and numerical data\n",
        "X_numerical = X.select_dtypes(include=['int64', 'float64']).values\n",
        "X_preprocessed = np.concatenate([X_numerical, X_categorical], axis=1)"
      ],
      "metadata": {
        "id": "J_VAUjMm6nxS"
      },
      "execution_count": null,
      "outputs": []
    },
    {
      "cell_type": "markdown",
      "source": [],
      "metadata": {
        "id": "Ghq06BgJBBsk"
      }
    },
    {
      "cell_type": "markdown",
      "source": [],
      "metadata": {
        "id": "lIf_yzg_-RLB"
      }
    },
    {
      "cell_type": "code",
      "source": [
        "from sklearn.model_selection import train_test_split\n",
        "from sklearn.linear_model import SGDRegressor\n",
        "\n",
        "# Split the preprocessed data into training and testing sets\n",
        "X_train_pre, X_test_pre, y_train, y_test = train_test_split(X_preprocessed, y, test_size=0.2, random_state=42, shuffle=True)\n",
        "\n",
        "# Train a stochastic gradient descent model\n",
        "model = SGDRegressor()\n",
        "\n",
        "# Fit the model to your preprocessed training data\n",
        "model.fit(X_train_pre, y_train)\n",
        "\n",
        "# Predict the target for the preprocessed testing set\n",
        "y_pred = model.predict(X_test_pre)\n",
        "print(y_test)\n",
        "print(y_pred)"
      ],
      "metadata": {
        "colab": {
          "base_uri": "https://localhost:8080/"
        },
        "id": "GnkmDBPy5RqJ",
        "outputId": "97ac9ecc-3e47-476c-a08f-ced70327bdda"
      },
      "execution_count": null,
      "outputs": [
        {
          "output_type": "stream",
          "name": "stdout",
          "text": [
            "30    0.0\n",
            "0    -0.5\n",
            "22    0.0\n",
            "31   -1.0\n",
            "18    0.5\n",
            "28   -3.5\n",
            "10   -0.5\n",
            "70   -0.5\n",
            "4     0.0\n",
            "12   -1.0\n",
            "49   -2.0\n",
            "33   -1.0\n",
            "67   -0.5\n",
            "35   -1.0\n",
            "68   -0.5\n",
            "45   -0.5\n",
            "Name: Pleasure Diff, dtype: float64\n",
            "[-1.04336083e+12 -5.15138622e+11 -5.52899140e+11 -1.09161453e+12\n",
            " -3.28484490e+12 -1.42957521e+12 -2.05150070e+12 -1.72898542e+12\n",
            " -1.03245924e+12 -1.91858715e+12 -4.93494741e+11 -9.68937796e+11\n",
            " -2.97277130e+12 -1.16257034e+12 -3.05269076e+12 -1.39887295e+12]\n"
          ]
        }
      ]
    },
    {
      "cell_type": "code",
      "source": [
        "print(\"Shape of X_preprocessed:\", X_preprocessed.shape)\n",
        "print(\"Shape of y:\", y.shape)\n",
        "print(\"Shape of X_train_pre:\", X_train_pre.shape)\n",
        "print(\"Shape of X_test_pre:\", X_test_pre.shape)\n",
        "print(\"Shape of y_train:\", y_train.shape)\n",
        "print(\"Shape of y_test:\", y_test.shape)"
      ],
      "metadata": {
        "colab": {
          "base_uri": "https://localhost:8080/"
        },
        "id": "JBEameY4BsCu",
        "outputId": "26ed58b1-9622-4edf-d444-a4cd8608df3f"
      },
      "execution_count": null,
      "outputs": [
        {
          "output_type": "stream",
          "name": "stdout",
          "text": [
            "Shape of X_preprocessed: (80, 91)\n",
            "Shape of y: (80,)\n",
            "Shape of X_train_pre: (64, 91)\n",
            "Shape of X_test_pre: (16, 91)\n",
            "Shape of y_train: (64,)\n",
            "Shape of y_test: (16,)\n"
          ]
        }
      ]
    },
    {
      "cell_type": "code",
      "source": [
        "small_subset = X_test_pre[:5]\n",
        "small_pred = model.predict(small_subset)\n",
        "print(\"Shape of small_subset:\", small_subset.shape)\n",
        "print(\"Shape of small_pred:\", small_pred.shape)"
      ],
      "metadata": {
        "colab": {
          "base_uri": "https://localhost:8080/"
        },
        "id": "OQBKK9DSBzpz",
        "outputId": "ff342868-1d5d-4208-d91f-f98573c6b5ed"
      },
      "execution_count": null,
      "outputs": [
        {
          "output_type": "stream",
          "name": "stdout",
          "text": [
            "Shape of small_subset: (5, 91)\n",
            "Shape of small_pred: (5,)\n"
          ]
        }
      ]
    },
    {
      "cell_type": "code",
      "source": [
        "y_pred = model.predict(X_test_pre)\n",
        "print(\"Shape of y_pred:\", y_pred.shape)"
      ],
      "metadata": {
        "colab": {
          "base_uri": "https://localhost:8080/"
        },
        "id": "6mu_at02CFhx",
        "outputId": "be4d33c3-e3bc-486d-9779-52da5649e436"
      },
      "execution_count": null,
      "outputs": [
        {
          "output_type": "stream",
          "name": "stdout",
          "text": [
            "Shape of y_pred: (16,)\n"
          ]
        }
      ]
    },
    {
      "cell_type": "code",
      "source": [
        "print(y.describe())"
      ],
      "metadata": {
        "colab": {
          "base_uri": "https://localhost:8080/"
        },
        "id": "nOdFSWJKJeEQ",
        "outputId": "80979f52-2922-4f1b-ee29-b1376e29b2c8"
      },
      "execution_count": null,
      "outputs": [
        {
          "output_type": "stream",
          "name": "stdout",
          "text": [
            "count    80.000000\n",
            "mean     -0.968750\n",
            "std       1.074279\n",
            "min      -4.000000\n",
            "25%      -2.000000\n",
            "50%      -1.000000\n",
            "75%      -0.500000\n",
            "max       1.500000\n",
            "Name: Pleasure Diff, dtype: float64\n"
          ]
        }
      ]
    },
    {
      "cell_type": "code",
      "source": [
        "print(\"Shape of y_test:\", y_test.shape)\n",
        "print(\"Shape of y_pred:\", y_pred.shape)"
      ],
      "metadata": {
        "colab": {
          "base_uri": "https://localhost:8080/"
        },
        "id": "bRB4AIwiBD_G",
        "outputId": "d4c83a5e-c4a3-481c-90f5-31495e2b039d"
      },
      "execution_count": null,
      "outputs": [
        {
          "output_type": "stream",
          "name": "stdout",
          "text": [
            "Shape of y_test: (16,)\n",
            "Shape of y_pred: (16,)\n"
          ]
        }
      ]
    },
    {
      "cell_type": "code",
      "source": [
        "# Extract the 'Pleasure Diff' values from y_test\n",
        "y_test_values = y_test.values\n",
        "\n",
        "print(y_test_values)"
      ],
      "metadata": {
        "colab": {
          "base_uri": "https://localhost:8080/"
        },
        "id": "xYeE3kyvJ_uf",
        "outputId": "e81cfc39-2743-42b2-c76c-14a2c69f88bc"
      },
      "execution_count": null,
      "outputs": [
        {
          "output_type": "stream",
          "name": "stdout",
          "text": [
            "[ 0.  -0.5  0.  -1.   0.5 -3.5 -0.5 -0.5  0.  -1.  -2.  -1.  -0.5 -1.\n",
            " -0.5 -0.5]\n"
          ]
        }
      ]
    },
    {
      "cell_type": "code",
      "source": [
        "import matplotlib.pyplot as plt\n",
        "\n",
        "# Create an array for the sample number or index\n",
        "index = np.arange(len(y_test_values))\n",
        "\n",
        "# Scatter plot of the true values\n",
        "plt.scatter(index, y_test_values, color='hotpink', label='True Values')\n",
        "\n",
        "# Scatter plot of the predicted values\n",
        "plt.scatter(index, y_pred, color='limegreen', label='Predicted Values')\n",
        "\n",
        "plt.xlabel('Observation Index')\n",
        "plt.ylabel('Predicted/True Values')\n",
        "\n",
        "plt.title('True vs. Predicted Values')\n",
        "plt.legend()\n",
        "\n",
        "plt.show()"
      ],
      "metadata": {
        "colab": {
          "base_uri": "https://localhost:8080/",
          "height": 472
        },
        "id": "MwMaMMwCmT9Y",
        "outputId": "1b8388bc-c6c6-4386-ca91-85120ef18744"
      },
      "execution_count": null,
      "outputs": [
        {
          "output_type": "display_data",
          "data": {
            "text/plain": [
              "<Figure size 640x480 with 1 Axes>"
            ],
            "image/png": "[encoded data removed]"
          },
          "metadata": {}
        }
      ]
    },
    {
      "cell_type": "code",
      "source": [
        "plt.scatter(index, y_test_values, color='hotpink', label='True Values')\n",
        "plt.xlabel('Observation Index')\n",
        "plt.ylabel('True Values')\n",
        "plt.title('True Values')\n",
        "plt.legend()\n",
        "plt.show()"
      ],
      "metadata": {
        "colab": {
          "base_uri": "https://localhost:8080/",
          "height": 472
        },
        "id": "52t3kW8YKYF9",
        "outputId": "90ac7ed9-7de6-46b4-a476-d6e341e71f41"
      },
      "execution_count": null,
      "outputs": [
        {
          "output_type": "display_data",
          "data": {
            "text/plain": [
              "<Figure size 640x480 with 1 Axes>"
            ],
            "image/png": "[encoded data removed]"
          },
          "metadata": {}
        }
      ]
    },
    {
      "cell_type": "code",
      "source": [
        "plt.scatter(index, y_pred, color='limegreen', label='True Values')\n",
        "plt.xlabel('Observation Index')\n",
        "plt.ylabel('Predicted Values')\n",
        "plt.title('Predicted Values')\n",
        "plt.legend()\n",
        "plt.show()"
      ],
      "metadata": {
        "colab": {
          "base_uri": "https://localhost:8080/",
          "height": 472
        },
        "id": "gyRrxt7aKkyt",
        "outputId": "28268ec5-1109-47db-b886-af1eeec25321"
      },
      "execution_count": null,
      "outputs": [
        {
          "output_type": "display_data",
          "data": {
            "text/plain": [
              "<Figure size 640x480 with 1 Axes>"
            ],
            "image/png": "[encoded data removed]"
          },
          "metadata": {}
        }
      ]
    },
    {
      "cell_type": "code",
      "source": [
        "print(y_train.values)"
      ],
      "metadata": {
        "colab": {
          "base_uri": "https://localhost:8080/"
        },
        "id": "1LLKHUppLR3y",
        "outputId": "8d598474-e5a5-412b-d9e4-f971e134b9eb"
      },
      "execution_count": null,
      "outputs": [
        {
          "output_type": "stream",
          "name": "stdout",
          "text": [
            "[ 1.5  0.5 -1.  -2.  -2.  -1.  -2.  -2.5  0.  -1.5 -0.5 -1.  -2.   0.\n",
            " -1.5  1.  -1.  -0.5 -0.5 -1.  -0.5 -2.  -1.  -4.  -1.  -1.5 -2.  -1.5\n",
            " -2.  -2.   0.  -2.  -3.5  1.5 -1.5  0.5 -2.   0.  -1.5 -2.   0.5  0.5\n",
            " -3.  -1.  -1.   0.5 -2.   0.  -2.  -1.  -0.5 -0.5 -1.  -0.5 -2.  -2.5\n",
            " -1.  -0.5 -1.   0.  -1.  -1.   0.5 -1. ]\n"
          ]
        }
      ]
    },
    {
      "cell_type": "code",
      "source": [
        "residuals = y_test_values - y_pred\n",
        "plt.scatter(y_pred, residuals, color='limegreen')\n",
        "plt.xlabel('Predicted Values')\n",
        "plt.ylabel('Residuals')\n",
        "plt.title('Residual Plot')\n",
        "plt.show()"
      ],
      "metadata": {
        "colab": {
          "base_uri": "https://localhost:8080/",
          "height": 472
        },
        "id": "iELkAE1g-35K",
        "outputId": "c72f34f7-5526-428e-e7c3-f9b823520034"
      },
      "execution_count": null,
      "outputs": [
        {
          "output_type": "display_data",
          "data": {
            "text/plain": [
              "<Figure size 640x480 with 1 Axes>"
            ],
            "image/png": "[encoded data removed]"
          },
          "metadata": {}
        }
      ]
    },
    {
      "cell_type": "code",
      "source": [
        "plt.hist(residuals, bins=20, color='hotpink')\n",
        "plt.xlabel('Residuals')\n",
        "plt.ylabel('Frequency')\n",
        "plt.title('Histogram of Residuals')\n",
        "plt.show()"
      ],
      "metadata": {
        "colab": {
          "base_uri": "https://localhost:8080/",
          "height": 472
        },
        "id": "4oc52l7r--x-",
        "outputId": "f4765fa9-d993-4c35-e794-b0ccc248c363"
      },
      "execution_count": null,
      "outputs": [
        {
          "output_type": "display_data",
          "data": {
            "text/plain": [
              "<Figure size 640x480 with 1 Axes>"
            ],
            "image/png": "[encoded data removed]"
          },
          "metadata": {}
        }
      ]
    },
    {
      "cell_type": "code",
      "source": [],
      "metadata": {
        "id": "ijFeD75mKcTb"
      },
      "execution_count": null,
      "outputs": []
    },
    {
      "cell_type": "code",
      "source": [
        "from sklearn.metrics import mean_absolute_error, mean_squared_error\n",
        "import numpy as np\n",
        "\n",
        "# Calculate MAE, MSE, RMSE\n",
        "mae = mean_absolute_error(y_test_values, y_pred)\n",
        "mse = mean_squared_error(y_test_values, y_pred)\n",
        "rmse = np.sqrt(mse)\n",
        "\n",
        "print(f\"Mean Absolute Error (MAE): {mae}\")\n",
        "print(f\"Mean Squared Error (MSE): {mse}\")\n",
        "print(f\"Root Mean Squared Error (RMSE): {rmse}\")"
      ],
      "metadata": {
        "colab": {
          "base_uri": "https://localhost:8080/"
        },
        "id": "kYNwRHKa_TVz",
        "outputId": "dd9847dd-e94d-4025-9dc3-4433ea8ed9ec"
      },
      "execution_count": null,
      "outputs": [
        {
          "output_type": "stream",
          "name": "stdout",
          "text": [
            "Mean Absolute Error (MAE): 1543643976942.469\n",
            "Mean Squared Error (MSE): 3.142328625821149e+24\n",
            "Root Mean Squared Error (RMSE): 1772661452681.01\n"
          ]
        }
      ]
    },
    {
      "cell_type": "code",
      "source": [
        "from sklearn.preprocessing import MinMaxScaler\n",
        "\n",
        "# Select relevant columns\n",
        "df_selected = df[['Pleasure Diff']]\n",
        "\n",
        "# Fill any missing values\n",
        "df_selected.fillna(method='ffill', inplace=True)\n",
        "\n",
        "# Normalize the data to be between 0 and 1\n",
        "scaler = MinMaxScaler(feature_range=(0, 1))\n",
        "df_scaled = scaler.fit_transform(df_selected)\n",
        "\n",
        "# Convert the DataFrame to a 3D array for LSTM\n",
        "# The shape should be (number of samples, 1, number of features)\n",
        "df_reshaped = np.reshape(df_scaled, (df_scaled.shape[0], 1, df_scaled.shape[1]))"
      ],
      "metadata": {
        "colab": {
          "base_uri": "https://localhost:8080/"
        },
        "id": "cX1W1reLE5B7",
        "outputId": "cb350480-faa9-451e-e51f-b6120b8c944b"
      },
      "execution_count": null,
      "outputs": [
        {
          "output_type": "stream",
          "name": "stderr",
          "text": [
            "<ipython-input-104-6548cf1f7f5a>:7: SettingWithCopyWarning: \n",
            "A value is trying to be set on a copy of a slice from a DataFrame\n",
            "\n",
            "See the caveats in the documentation: https://pandas.pydata.org/pandas-docs/stable/user_guide/indexing.html#returning-a-view-versus-a-copy\n",
            "  df_selected.fillna(method='ffill', inplace=True)\n"
          ]
        }
      ]
    },
    {
      "cell_type": "code",
      "source": [
        "\n",
        "from keras.models import Sequential\n",
        "from keras.layers import LSTM, Dense\n",
        "\n",
        "# Define the LSTM model\n",
        "model = Sequential()\n",
        "model.add(LSTM(50, return_sequences=True, input_shape=(df_reshaped.shape[1], df_reshaped.shape[2])))\n",
        "model.add(LSTM(50, return_sequences=True))\n",
        "model.add(LSTM(50))\n",
        "model.add(Dense(1))\n",
        "\n",
        "# Compile the model\n",
        "model.compile(loss='mae', optimizer='adam', metrics='accuracy')\n",
        "\n",
        "# Train the model\n",
        "history = model.fit(df_reshaped, df['Pleasure Diff'], epochs=50, batch_size=72, validation_split=0.2, verbose=0, shuffle=False)"
      ],
      "metadata": {
        "id": "EHWUujQYFPe9"
      },
      "execution_count": null,
      "outputs": []
    },
    {
      "cell_type": "code",
      "source": [
        "from sklearn.preprocessing import MinMaxScaler\n",
        "\n",
        "# Create a MinMaxScaler for the target variable\n",
        "scaler_target = MinMaxScaler(feature_range=(0, 1))\n",
        "df_target_scaled = scaler_target.fit_transform(df[['Pleasure Diff']])\n",
        "\n",
        "# Train the model\n",
        "history = model.fit(df_reshaped, df_target_scaled, epochs=50, batch_size=72, validation_split=0.2, verbose=0, shuffle=False)\n",
        "\n",
        "# Make predictions\n",
        "predictions = model.predict(df_reshaped)\n",
        "\n",
        "# Invert scaling for the predictions\n",
        "predictions_rescaled = scaler_target.inverse_transform(predictions)\n",
        "\n",
        "# Plot the actual values vs the predictions\n",
        "plt.plot(df['Pleasure Diff'].values, label='Actual values')\n",
        "plt.plot(predictions_rescaled, label='Predictions',color='hotpink')\n",
        "plt.title('Pleasure Difference')\n",
        "plt.legend()\n",
        "plt.show()"
      ],
      "metadata": {
        "id": "eFcZveX0BNBk",
        "colab": {
          "base_uri": "https://localhost:8080/",
          "height": 507
        },
        "outputId": "afdbd8f8-c5e0-4c3b-88a7-e7111556d575"
      },
      "execution_count": null,
      "outputs": [
        {
          "output_type": "stream",
          "name": "stderr",
          "text": [
            "WARNING:tensorflow:5 out of the last 13 calls to <function Model.make_predict_function.<locals>.predict_function at 0x7da3b66a5ab0> triggered tf.function retracing. Tracing is expensive and the excessive number of tracings could be due to (1) creating @tf.function repeatedly in a loop, (2) passing tensors with different shapes, (3) passing Python objects instead of tensors. For (1), please define your @tf.function outside of the loop. For (2), @tf.function has reduce_retracing=True option that can avoid unnecessary retracing. For (3), please refer to https://www.tensorflow.org/guide/function#controlling_retracing and https://www.tensorflow.org/api_docs/python/tf/function for  more details.\n"
          ]
        },
        {
          "output_type": "stream",
          "name": "stdout",
          "text": [
            "3/3 [==============================] - 1s 6ms/step\n"
          ]
        },
        {
          "output_type": "display_data",
          "data": {
            "text/plain": [
              "<Figure size 640x480 with 1 Axes>"
            ],
            "image/png": "[encoded data removed]"
          },
          "metadata": {}
        }
      ]
    },
    {
      "cell_type": "code",
      "source": [],
      "metadata": {
        "id": "81geChQYEksA"
      },
      "execution_count": null,
      "outputs": []
    }
  ]
}